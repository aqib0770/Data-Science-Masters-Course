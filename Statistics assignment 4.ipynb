{
 "cells": [
  {
   "cell_type": "markdown",
   "id": "36904790-4b07-4f75-a068-f497da3fecac",
   "metadata": {},
   "source": [
    "Q1: What are the Probability Mass Function (PMF) and Probability Density Function (PDF)? Explain with\n",
    "an example.\n",
    "<br>Ans. The Probability Mass Function describes the probability of discrete random variable while Probability Distribution Function describes the probability of continuous random variable.\n",
    "<br>For example, if we roll a die, then probability of each outcome will be 1/6. This is the example of PMF\n",
    "<br>Let's consider a normal distribution with mean 0 and standard distribution1 at point 2, then its formula to calculate PDF is 'f(x) = (1/σ√(2π)) * e^(-(x-μ)^2/(2σ^2))'. When we substitute all the values then answer will be 0.05399096651318806."
   ]
  },
  {
   "cell_type": "markdown",
   "id": "57a5e0ba-8ad3-46f0-b0f3-a22cda0e897f",
   "metadata": {},
   "source": [
    "Q2: What is Cumulative Density Function (CDF)? Explain with an example. Why CDF is used?\n",
    "<br>Ans. Cumulative Density Function is a function that describes cumulative probabilit distribution of a random variable.\n",
    "<br>For Example, When we roll a fair die then probability of all the values is 1/6. Now, let x be a discrete random variable x={1,2,3,4,5,6}, The P(x=1)=1/6, P(x=2)=p(x=1)+p(x=2)=1/6+1/6=2/3, P(x=3)=P(x=3)+P(x=2)+P(x=1)=1/2 and so on."
   ]
  },
  {
   "cell_type": "markdown",
   "id": "ff34ebe4-4cb9-432a-a66a-92dffa0fadb0",
   "metadata": {},
   "source": [
    "Q3: What are some examples of situations where the normal distribution might be used as a model?\n",
    "Explain how the parameters of the normal distribution relate to the shape of the distribution.\n",
    "<br>Ans. Some examples where normal distribution might be used are:\n",
    "1. Heights or weights of people.\n",
    "2. Blood pressure of people.\n",
    "3. Grades of students.\n",
    "<br>The shape of normal distribution is symmetric and bell-shaped.\n",
    "<br>The peak of the curve is at the mean.\n",
    "<br>The spread of the curve increases as the standard deviation increases."
   ]
  },
  {
   "cell_type": "markdown",
   "id": "18e7ce0a-6b84-4daf-927c-db3f8e8ff826",
   "metadata": {},
   "source": [
    "Q4: Explain the importance of Normal Distribution. Give a few real-life examples of Normal\n",
    "Distribution.\n",
    "<br>Ans. 1. Many natural phenomenon in the world follow normal distribution.\n",
    "2. Many statistical methods such as hypothesis testing are based on normal distribution.\n",
    "<br>Some real life examples are:\n",
    "1. Heights or weights of people.\n",
    "1. Blood pressure of people.\n",
    "1. Grades of students."
   ]
  },
  {
   "cell_type": "markdown",
   "id": "d87f6494-27ff-4e31-bffe-192b1e0a3c32",
   "metadata": {},
   "source": [
    "Q5: What is Bernaulli Distribution? Give an Example. What is the difference between Bernoulli\n",
    "Distribution and Binomial Distribution?\n",
    "<br>Ans. A Bernaulli Distribution is a probability distribution of random variable that can only take two possible outcomes 0 or 1(success or failure). For example, In flipping a coin, There can only be two outcomes head or tail.\n",
    "<br>The difference between Bernaulli and Binomial distribution is, A random variable follows Bernaulli distribution if it only has two possible outcomes and when we repeat a bernaulli experiment multiple times, the sum of all the experiment is Binomial distribution"
   ]
  },
  {
   "cell_type": "markdown",
   "id": "e67d11f3-068a-4a96-b77b-e036d1a971d6",
   "metadata": {},
   "source": [
    "Q6. Consider a dataset with a mean of 50 and a standard deviation of 10. If we assume that the dataset\n",
    "is normally distributed, what is the probability that a randomly selected observation will be greater\n",
    "than 60? Use the appropriate formula and show your calculations.\n",
    "<br>First we have to find the z-score with the formula (xi-mean)/standard deviation.\n",
    "<br>If we put the values is the formula then it will be (60-50)/10 and answer of this calculation is 1.\n",
    "<br>The value of 1 in z-table is 0.84134 which is to the left of 60.\n",
    "<br>Hence the are under the curve to the right of 60 or greater than 60 will be:\n",
    "<br>1-0.84134=0.15866\n",
    "<br>Hence the probability that a randomly selected observation will"
   ]
  },
  {
   "cell_type": "markdown",
   "id": "c87d5487-f393-41ce-bc21-152eacedb69a",
   "metadata": {},
   "source": [
    "Q7: Explain uniform Distribution with an example.\n",
    "<br>Ans. Uniform Distribution is a type of probability distribution in which all possible outcomes are likely to be equal. In uniform distribution there are two parameters x and y where x=maximum value and y=miniumum value.\n",
    "<br>Example: Selecting a random number from 1 to 10. In this the probability of occuring any number is 1/10 or 0.1%."
   ]
  },
  {
   "cell_type": "markdown",
   "id": "ccde17cf-3df9-43fe-a63a-09b349dd7ec5",
   "metadata": {},
   "source": [
    "Q8: What is the z score? State the importance of the z score.\n",
    "<br>Ans. Z-score is used to determine how much standard deviation a datapoint is away from the mean. It is calculated by subtracting the datapoint from mean and dividing by standard deviation.\n",
    "<br>The importance of z-score is that it allows us to compare values of different normal distributions on a same scale. Let's suppose there are two datasets with different mean and standard deviation, we can convert them to z-score and compare them to see which datapoint is relatively larger or smaller.\n",
    "<br>It is also used in Hypothesis testing."
   ]
  },
  {
   "cell_type": "markdown",
   "id": "59793452-95c7-4db6-9450-9012f76bbebb",
   "metadata": {},
   "source": [
    "Q9: What is Central Limit Theorem? State the significance of the Central Limit Theorem.\n",
    "<br>Ans. Central limit theorem states that if we multiple samples of same size from a large dataset,the distribution of sample means will be normal.\n",
    "<br>CLT allows us to make conclusions about a population based on sample, even if we don't know the underlying distribution of population."
   ]
  },
  {
   "cell_type": "markdown",
   "id": "4dda240f-883a-4e86-a103-2bfe5a5e52df",
   "metadata": {},
   "source": [
    "Q10: State the assumptions of the Central Limit Theorem.\n",
    "<br>Ans. 1. The samples should be drawn randomly.\n",
    "<br2. All sample values should be independent of each other.\n",
    "3. If sampling is done without replacement, then sample size should not exceed 10% of totol population.\n",
    "4. The sample size should be sufficiently large."
   ]
  }
 ],
 "metadata": {
  "kernelspec": {
   "display_name": "Python 3 (ipykernel)",
   "language": "python",
   "name": "python3"
  },
  "language_info": {
   "codemirror_mode": {
    "name": "ipython",
    "version": 3
   },
   "file_extension": ".py",
   "mimetype": "text/x-python",
   "name": "python",
   "nbconvert_exporter": "python",
   "pygments_lexer": "ipython3",
   "version": "3.10.8"
  }
 },
 "nbformat": 4,
 "nbformat_minor": 5
}
