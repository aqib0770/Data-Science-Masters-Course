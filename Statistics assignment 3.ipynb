{
 "cells": [
  {
   "cell_type": "markdown",
   "id": "d15714b8-cbc4-4524-9b95-c48a60d569f9",
   "metadata": {},
   "source": [
    "Q1. What is the Probability density function?\n",
    "<br>And. Probability density function (p.d.f) represents the distribution of continuous variable."
   ]
  },
  {
   "cell_type": "markdown",
   "id": "2bc7f0e7-dc0b-46a9-b76b-f2397b018f21",
   "metadata": {},
   "source": [
    "Q2. What are the types of Probability distribution?\n",
    "1. Normal/Gaussian distribution\n",
    "2. Bernoulli distribution\n",
    "3. Uniform distribution\n",
    "4. Log normal distribution\n",
    "5. Poisson distribution\n",
    "6. Power law distribution\n",
    "7. Binomial distribution"
   ]
  },
  {
   "cell_type": "markdown",
   "id": "8336850f-5ea2-4b9c-898d-06ef1000c8f8",
   "metadata": {},
   "source": [
    "Q3. Write a Python function to calculate the probability density function of a normal distribution with\n",
    "given mean and standard deviation at a given point."
   ]
  },
  {
   "cell_type": "markdown",
   "id": "a8f40dae-6531-4208-8331-98da1cdd49e7",
   "metadata": {},
   "source": [
    "f(x) = (1/σ√(2π)) * e^(-(x-μ)^2/(2σ^2))  Formula to calculate pdf\n",
    "<br>x=any point\n",
    "<br>σ=standard deviation\n",
    "<br>μ=mean"
   ]
  },
  {
   "cell_type": "code",
   "execution_count": 7,
   "id": "73e8396c-e8b8-4b18-99aa-9617daac48e5",
   "metadata": {},
   "outputs": [],
   "source": [
    "import math\n",
    "def pdf_calc(x,mean,std):\n",
    "    coefficient=1/(std*math.sqrt(2*math.pi))\n",
    "    exponent=-(x-mean)**2/(2*std**2)\n",
    "    return coefficient*math.exp(exponent)"
   ]
  },
  {
   "cell_type": "code",
   "execution_count": 8,
   "id": "8c341623-1be9-4705-9953-8b91531726d6",
   "metadata": {},
   "outputs": [
    {
     "data": {
      "text/plain": [
       "0.06557328601698999"
      ]
     },
     "execution_count": 8,
     "metadata": {},
     "output_type": "execute_result"
    }
   ],
   "source": [
    "pdf_calc(4,5,6)"
   ]
  },
  {
   "cell_type": "markdown",
   "id": "7158bb68-5bd0-4387-aea2-3b7b0c17ccf1",
   "metadata": {},
   "source": [
    "Q4. What are the properties of Binomial distribution? Give two examples of events where binomial\n",
    "distribution can be applied.\n",
    "<br>Ans. Binomial distribution is a discrete probability distribution that describes number of successes in a fixed number of independent trials.\n",
    "1. The trials are independent. The outcome of one trial does not affect the outcome of other trial.\n",
    "2. Each trials have two possible outcomes.\n",
    "3. The probability of success is denoted by p and probability of failure is denoted by q or (1-p).\n",
    "<br>Examples:\n",
    "1. Tossing of a fair coin.\n",
    "2. Selecting a specific number from list of 20 numbers."
   ]
  },
  {
   "cell_type": "markdown",
   "id": "6fd295ea-e553-4e82-a630-0a70410aa714",
   "metadata": {},
   "source": [
    "Q5. Generate a random sample of size 1000 from a binomial distribution with probability of success 0.4\n",
    "and plot a histogram of the results using matplotlib."
   ]
  },
  {
   "cell_type": "code",
   "execution_count": 9,
   "id": "858ac216-89ac-4af8-82cc-e9537569b61e",
   "metadata": {},
   "outputs": [],
   "source": [
    "import numpy as np\n",
    "import matplotlib.pyplot as plt"
   ]
  },
  {
   "cell_type": "code",
   "execution_count": 10,
   "id": "fb83b45e-f1d3-40d7-aa8b-22b86a690809",
   "metadata": {},
   "outputs": [],
   "source": [
    "sample=np.random.binomial(1000,0.4,1000)"
   ]
  },
  {
   "cell_type": "code",
   "execution_count": 11,
   "id": "5525cd30-45a0-4068-9bf7-8cd827d05bc3",
   "metadata": {},
   "outputs": [
    {
     "data": {
      "text/plain": [
       "(array([  6.,  10.,  52., 140., 180., 260., 187., 119.,  35.,  11.]),\n",
       " array([349. , 358.4, 367.8, 377.2, 386.6, 396. , 405.4, 414.8, 424.2,\n",
       "        433.6, 443. ]),\n",
       " <BarContainer object of 10 artists>)"
      ]
     },
     "execution_count": 11,
     "metadata": {},
     "output_type": "execute_result"
    },
    {
     "data": {
      "image/png": "[encoded data removed]",
      "text/plain": [
       "<Figure size 640x480 with 1 Axes>"
      ]
     },
     "metadata": {},
     "output_type": "display_data"
    }
   ],
   "source": [
    "plt.hist(sample)"
   ]
  },
  {
   "cell_type": "markdown",
   "id": "bbe73acb-227e-4c88-ab32-a8aab841dd52",
   "metadata": {},
   "source": [
    "Q6. Write a Python function to calculate the cumulative distribution function of a Poisson distribution\n",
    "with given mean at a given point."
   ]
  },
  {
   "cell_type": "code",
   "execution_count": 15,
   "id": "e32b149f-27b5-4a45-bc84-61b896c21afe",
   "metadata": {},
   "outputs": [],
   "source": [
    "def cdf_pois(lambda_,x):\n",
    "    cdf=0\n",
    "    for i in range(x+1):\n",
    "        cdf+=math.exp(-lambda_)*(lambda_**i)/math.factorial(i)\n",
    "    return cdf"
   ]
  },
  {
   "cell_type": "code",
   "execution_count": 17,
   "id": "996479f7-113d-41f1-85a5-86d234a6e045",
   "metadata": {},
   "outputs": [
    {
     "data": {
      "text/plain": [
       "0.42319008112684353"
      ]
     },
     "execution_count": 17,
     "metadata": {},
     "output_type": "execute_result"
    }
   ],
   "source": [
    "cdf_pois(3,2)"
   ]
  },
  {
   "cell_type": "markdown",
   "id": "59e087a7-15a1-4c85-af04-62e688dc192d",
   "metadata": {},
   "source": [
    "Q7. How Binomial distribution different from Poisson distribution?\n",
    "<br>Ans. The Binomial distribution give only two possible results (success or failure) while Poisson distribution calculates the probability of an event occuring at a specific time."
   ]
  },
  {
   "cell_type": "markdown",
   "id": "c5c81b2b-5126-48b9-bc75-c2e871d7f710",
   "metadata": {},
   "source": [
    "Q8. Generate a random sample of size 1000 from a Poisson distribution with mean 5 and calculate the\n",
    "sample mean and variance."
   ]
  },
  {
   "cell_type": "code",
   "execution_count": 22,
   "id": "18cad029-2c97-4e55-bdfa-b88a398aa2d6",
   "metadata": {},
   "outputs": [],
   "source": [
    "sample1=np.random.poisson(5,1000)# mean=5, size=1000"
   ]
  },
  {
   "cell_type": "code",
   "execution_count": 23,
   "id": "e779bbe0-2c66-43b1-94e0-1d0847b36661",
   "metadata": {},
   "outputs": [
    {
     "data": {
      "text/plain": [
       "5.078"
      ]
     },
     "execution_count": 23,
     "metadata": {},
     "output_type": "execute_result"
    }
   ],
   "source": [
    "np.mean(sample1)"
   ]
  },
  {
   "cell_type": "code",
   "execution_count": 24,
   "id": "87039a66-aa3e-478e-b1c3-4a21d3ae8ac8",
   "metadata": {},
   "outputs": [
    {
     "data": {
      "text/plain": [
       "5.141916"
      ]
     },
     "execution_count": 24,
     "metadata": {},
     "output_type": "execute_result"
    }
   ],
   "source": [
    "np.var(sample1)"
   ]
  },
  {
   "cell_type": "markdown",
   "id": "9a6f0092-8ed3-4c13-aeef-13d56b3e9daa",
   "metadata": {},
   "source": [
    "Q9. How mean and variance are related in Binomial distribution and Poisson distribution?\n",
    "<br>Ans. In Binomial distribution mean is greater than variance while in Poisson distribution mean and variance are same."
   ]
  },
  {
   "cell_type": "markdown",
   "id": "96e7be9b-987c-4d9b-9c50-39022167a4c2",
   "metadata": {},
   "source": [
    "Q10. In normal distribution with respect to mean position, where does the least frequent data appear?\n",
    "<br>Ans. The least frequent data will appear beyond 3 standard deviation from mean from both sides."
   ]
  }
 ],
 "metadata": {
  "kernelspec": {
   "display_name": "Python 3 (ipykernel)",
   "language": "python",
   "name": "python3"
  },
  "language_info": {
   "codemirror_mode": {
    "name": "ipython",
    "version": 3
   },
   "file_extension": ".py",
   "mimetype": "text/x-python",
   "name": "python",
   "nbconvert_exporter": "python",
   "pygments_lexer": "ipython3",
   "version": "3.10.8"
  }
 },
 "nbformat": 4,
 "nbformat_minor": 5
}
