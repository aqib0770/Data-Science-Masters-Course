{
 "cells": [
  {
   "cell_type": "markdown",
   "id": "746ee2de-01e5-46af-8cc4-f6eaac7ca746",
   "metadata": {},
   "source": [
    "Q1. What is an ensemble technique in machine learning?\n",
    "<br>Ans: Ensemble technique in machine learning is a method that combines multiple model to create more accurate and robust model. The individual models are called base learners and they can be of any type such as decision trees, SVM or regressions."
   ]
  },
  {
   "cell_type": "markdown",
   "id": "6e63d571-a81f-4b89-9906-a82b11d6cc4e",
   "metadata": {},
   "source": [
    "Q2. Why are ensemble techniques used in machine learning?\n",
    "<br>Ans: Ensemble techniques are used in machine learning for number of reasons, including:\n",
    "- **To improve accuracy**: Ensemble techniques can often produce more accurate results than single models. This is because they can average out the errors or use voting for more accurate results.\n",
    "- **To reduce variance**: Ensemble techniques can reduce the variance of the model, which means the model can be less sensitive to changes in the training data.\n",
    "- **To improve robustness**: Ensemble techniques can make a model more robust to noise and outliers. This is because the individual models can compensate for each other's weaknesses."
   ]
  },
  {
   "cell_type": "markdown",
   "id": "1d688951-b8b4-404d-b257-f8294efe150c",
   "metadata": {},
   "source": [
    "Q3. What is bagging?\n",
    "<br>Ans: Bagging (Bootstrap aggregating), is an ensemble learning technique that combines multiple versions of base model to improve its performance. In bootstraping, a random sample of data is drawn from the original dataset with replacement. This means that some datapoint may be included in bootstrap sample more than once"
   ]
  },
  {
   "cell_type": "markdown",
   "id": "7bda6de7-afa3-44d5-849e-97f39b3c02f3",
   "metadata": {},
   "source": [
    "Q4. What is boosting?\n",
    "<br>Ans: Boosting is an ensemble learning technique that combines multiple weak learners to create a strong learner. In this method, the first model is trained on the entire training data, The second model is then trained on the data that was misclassified by the first model, the third model is trained on the data that was miscassified by both the models and so on."
   ]
  },
  {
   "cell_type": "markdown",
   "id": "49950ab9-588d-40f8-a03c-fe3a3184c090",
   "metadata": {},
   "source": [
    "Q5. What are the benefits of using ensemble techniques?\n",
    "<br>Ans: Refer Q2 for the answer."
   ]
  },
  {
   "cell_type": "markdown",
   "id": "9f090423-3dff-4a2e-9105-e410aeb852d5",
   "metadata": {},
   "source": [
    "Q6: Are ensemble techniques always better than individual models?\n",
    "<br>Ans: No, ensemble techniques are not always better than individual models. There are some cases where individual models can outperform the ensemble models.\n",
    "- The diversity of models: The individual models in ensemble technique should be diverse. This means that they should be trained on different datasets, use different algorithms and have different hyperparameters. If the individual models are too similar, the ensemble models would not be able to learn from them."
   ]
  },
  {
   "cell_type": "markdown",
   "id": "9d2d3350-2d5b-452e-a7df-323ee51c2d6f",
   "metadata": {},
   "source": [
    "Q8. How does bootstrap work and What are the steps involved in bootstrap?\n",
    "1. Choose a statistic of interest. This could be mean, median, mode or any other statistic.\n",
    "2. Generate a bootstrap sample: This is done by randomly sampling the original data with replacement.\n",
    "3. Calculate the statistic of interest on the bootstrap sample.\n",
    "4. Repeat steps 2 and 3 multiple times.\n",
    "5. The bootstrap distribution is the distribution of bootstrapped statistics.\n",
    "6. The confidence interval or hypothesis test can be calculated using bootstrap distribution."
   ]
  },
  {
   "cell_type": "markdown",
   "id": "7febda1b-ebf5-4b18-8d7d-22f6aad290fd",
   "metadata": {},
   "source": [
    "Q9. A researcher wants to estimate the mean height of a population of trees. They measure the height of a\n",
    "sample of 50 trees and obtain a mean height of 15 meters and a standard deviation of 2 meters. Use\n",
    "bootstrap to estimate the 95% confidence interval for the population mean height."
   ]
  },
  {
   "cell_type": "code",
   "execution_count": 16,
   "id": "37e1cd35-5610-442c-b909-fad0cab65638",
   "metadata": {},
   "outputs": [
    {
     "name": "stdout",
     "output_type": "stream",
     "text": [
      "95% confidence interval for population mean: [14.02,15.09]\n"
     ]
    }
   ],
   "source": [
    "samples=np.random.normal(loc=15,scale=2,size=50)\n",
    "n_bootstrap=1000\n",
    "bootstrap_means=[]\n",
    "for i in range(n_bootstrap):\n",
    "    bootstrap_sample=np.random.choice(sample,size=len(sample),replace=True)\n",
    "    bootstrap_means.append(np.mean(bootstrap_sample))\n",
    "lower,upper=np.percentile(bootstrap_means,[2.5,97.5])\n",
    "\n",
    "print(f'95% confidence interval for population mean: [{lower:.2f},{upper:.2f}]')\n"
   ]
  }
 ],
 "metadata": {
  "kernelspec": {
   "display_name": "Python 3 (ipykernel)",
   "language": "python",
   "name": "python3"
  },
  "language_info": {
   "codemirror_mode": {
    "name": "ipython",
    "version": 3
   },
   "file_extension": ".py",
   "mimetype": "text/x-python",
   "name": "python",
   "nbconvert_exporter": "python",
   "pygments_lexer": "ipython3",
   "version": "3.10.8"
  }
 },
 "nbformat": 4,
 "nbformat_minor": 5
}
