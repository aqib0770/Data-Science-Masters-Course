{
 "cells": [
  {
   "cell_type": "markdown",
   "id": "759e45c8-9202-4d75-a2c3-c0039ffa1c4b",
   "metadata": {},
   "source": [
    "Q1, Create a vehicle class with an init method having instance variables as name_of_vehicle, max_speed\n",
    "and average_of_vehicle."
   ]
  },
  {
   "cell_type": "code",
   "execution_count": 4,
   "id": "18ebad25-0ab9-4fe0-b754-37f259398913",
   "metadata": {},
   "outputs": [],
   "source": [
    "class vehicle:\n",
    "    def __init__(self,name_of_vehicle,max_speed,average_of_vehicle):\n",
    "        self.name_of_vehicle=name_of_vehicle\n",
    "        self.max_speed=max_speed\n",
    "        self.average_of_vehicle=average_of_vehicle"
   ]
  },
  {
   "cell_type": "markdown",
   "id": "af134ed4-76e6-404b-bbc4-ee7369952da9",
   "metadata": {},
   "source": [
    "Q2. Create a child class car from the vehicle class created in Que 1, which will inherit the vehicle class.\n",
    "Create a method named seating_capacity which takes capacity as an argument and returns the name of\n",
    "the vehicle and its seating capacity."
   ]
  },
  {
   "cell_type": "code",
   "execution_count": 5,
   "id": "fc556f21-0743-4f9c-ba5f-9b0670a7a1cf",
   "metadata": {},
   "outputs": [],
   "source": [
    "class car(vehicle):\n",
    "    def seating_capacity(self,capacity):\n",
    "        return f\"Name of car: {self.name_of_vehicle} || Seating capacity: {capacity}\""
   ]
  },
  {
   "cell_type": "code",
   "execution_count": 6,
   "id": "0fff22cc-a8e0-491d-b732-85ce4e3f6ab2",
   "metadata": {},
   "outputs": [],
   "source": [
    "car_info=car(\"Audi\",250,50)"
   ]
  },
  {
   "cell_type": "code",
   "execution_count": 7,
   "id": "20c87e46-00b2-471e-af10-63961d501fc8",
   "metadata": {},
   "outputs": [
    {
     "data": {
      "text/plain": [
       "'Name of car: Audi || Seating capacity: 4'"
      ]
     },
     "execution_count": 7,
     "metadata": {},
     "output_type": "execute_result"
    }
   ],
   "source": [
    "car_info.seating_capacity(4)"
   ]
  },
  {
   "cell_type": "markdown",
   "id": "21c8d253-d07f-4ebc-ba47-7539a8e066df",
   "metadata": {},
   "source": [
    "Q3. What is multiple inheritance? Write a python code to demonstrate multiple inheritance."
   ]
  },
  {
   "cell_type": "markdown",
   "id": "0ff0ffe2-1290-4c47-b161-af6c4588f5f2",
   "metadata": {},
   "source": [
    "Ans) When a class is derived from multiple parent classes, it is called multiple inheritance.\n",
    "\n",
    "Demonstration:"
   ]
  },
  {
   "cell_type": "code",
   "execution_count": 17,
   "id": "128fd31b-b0d6-4d23-b5c7-22f8ddb298a5",
   "metadata": {},
   "outputs": [],
   "source": [
    "class Parent1:\n",
    "    def test1(self):\n",
    "        print(\"This is Parent classs 1\")\n",
    "class Parent2:\n",
    "    def test2(self):\n",
    "        print(\"This is Parent classs 2\")\n",
    "class Parent3:\n",
    "    def test3(self):\n",
    "        print(\"This is Parent classs 3\")\n",
    "class Child(Parent1,Parent2,Parent3):\n",
    "    def __init__(self):\n",
    "        print(\"This is child class\")"
   ]
  },
  {
   "cell_type": "code",
   "execution_count": 18,
   "id": "e3f127d6-1cb4-4aa8-9bb8-8109f660f682",
   "metadata": {},
   "outputs": [
    {
     "name": "stdout",
     "output_type": "stream",
     "text": [
      "This is child class\n"
     ]
    }
   ],
   "source": [
    "obj=Child()"
   ]
  },
  {
   "cell_type": "code",
   "execution_count": 20,
   "id": "a10bd6a2-cd84-41de-acea-2f6e67296564",
   "metadata": {},
   "outputs": [
    {
     "name": "stdout",
     "output_type": "stream",
     "text": [
      "This is Parent classs 1\n"
     ]
    }
   ],
   "source": [
    "obj.test1()"
   ]
  },
  {
   "cell_type": "code",
   "execution_count": 21,
   "id": "642563b7-1df3-4ce2-99e9-c7e89f7435cd",
   "metadata": {},
   "outputs": [
    {
     "name": "stdout",
     "output_type": "stream",
     "text": [
      "This is Parent classs 2\n"
     ]
    }
   ],
   "source": [
    "obj.test2()"
   ]
  },
  {
   "cell_type": "code",
   "execution_count": 22,
   "id": "89bf938e-ce19-49d6-8668-d3bb538d422c",
   "metadata": {},
   "outputs": [
    {
     "name": "stdout",
     "output_type": "stream",
     "text": [
      "This is Parent classs 3\n"
     ]
    }
   ],
   "source": [
    "obj.test3()"
   ]
  },
  {
   "cell_type": "markdown",
   "id": "8e3c63ab-1196-4dfa-86de-70358d8a1eb6",
   "metadata": {},
   "source": [
    "Q4. What are getter and setter in python? Create a class and create a getter and a setter method in this\n",
    "class."
   ]
  },
  {
   "cell_type": "markdown",
   "id": "262e7069-a4ce-4eb0-a59f-c17a5272cd29",
   "metadata": {},
   "source": [
    "Ans) Getters and setters in python to retrive and set values of a class. These mthods helps to maintain integrity of an object's attribute by preventing direct access to them."
   ]
  },
  {
   "cell_type": "code",
   "execution_count": 7,
   "id": "4f370872-d831-4bcb-ad7a-48f0631396eb",
   "metadata": {},
   "outputs": [],
   "source": [
    "class employee:\n",
    "    def __init__(self):\n",
    "        self.__salary=0\n",
    "    def get_salary(self):\n",
    "        print(\"Getter method\")\n",
    "        return self.__salary\n",
    "    def set_salary(self,a):\n",
    "        print(\"Setter method\")\n",
    "        self.__salary=a\n",
    "    def del_salary(self):\n",
    "        del self.__salary\n",
    "    salary=property(get_salary,set_salary,del_salary)"
   ]
  },
  {
   "cell_type": "code",
   "execution_count": 13,
   "id": "4ba620f5-8954-43b1-b094-5b623cf7d529",
   "metadata": {},
   "outputs": [],
   "source": [
    "aqib=employee()"
   ]
  },
  {
   "cell_type": "code",
   "execution_count": 14,
   "id": "53b398ba-ecc4-439b-b7de-7bb48b468e28",
   "metadata": {},
   "outputs": [
    {
     "name": "stdout",
     "output_type": "stream",
     "text": [
      "Setter method\n"
     ]
    }
   ],
   "source": [
    "aqib.salary=10000"
   ]
  },
  {
   "cell_type": "code",
   "execution_count": 16,
   "id": "251a80ca-fbfa-4188-b494-7483fbced26d",
   "metadata": {},
   "outputs": [
    {
     "name": "stdout",
     "output_type": "stream",
     "text": [
      "Getter method\n"
     ]
    },
    {
     "data": {
      "text/plain": [
       "10000"
      ]
     },
     "execution_count": 16,
     "metadata": {},
     "output_type": "execute_result"
    }
   ],
   "source": [
    "aqib.salary"
   ]
  },
  {
   "cell_type": "markdown",
   "id": "79ce6fb2-12fe-45a8-8cb1-0068879de82f",
   "metadata": {},
   "source": [
    "Q5.What is method overriding in python? Write a python code to demonstrate method overriding."
   ]
  },
  {
   "cell_type": "markdown",
   "id": "9a47eb63-032f-4fc4-a55c-f61a6566327d",
   "metadata": {},
   "source": [
    "Ans)When a method in sub-class or child class have same name, same parameters and same return type, then it is called as method overriding."
   ]
  },
  {
   "cell_type": "code",
   "execution_count": 18,
   "id": "76d848d8-4b83-4c46-92b0-5c88de1d30d2",
   "metadata": {},
   "outputs": [],
   "source": [
    "class Parent:\n",
    "    def print1(self):\n",
    "        print(\"This is the method of a parent class\")\n",
    "class Child(Parent):\n",
    "    def print1(self):\n",
    "        print(\"This is the method of a child class\")"
   ]
  },
  {
   "cell_type": "code",
   "execution_count": 20,
   "id": "5e3fe9bb-bda0-4bfe-9b92-73a047e59594",
   "metadata": {},
   "outputs": [],
   "source": [
    "obj_1=Parent()\n",
    "obj_2=Child()"
   ]
  },
  {
   "cell_type": "code",
   "execution_count": 21,
   "id": "ab38d65b-e291-48b8-98a8-4ac2fda796b4",
   "metadata": {},
   "outputs": [
    {
     "name": "stdout",
     "output_type": "stream",
     "text": [
      "This is the method of a parent class\n"
     ]
    }
   ],
   "source": [
    "obj_1.print1()"
   ]
  },
  {
   "cell_type": "code",
   "execution_count": 23,
   "id": "3a94d39f-781b-421f-9afd-babe71047336",
   "metadata": {},
   "outputs": [
    {
     "name": "stdout",
     "output_type": "stream",
     "text": [
      "This is the method of a child class\n"
     ]
    }
   ],
   "source": [
    "obj_2.print1()"
   ]
  }
 ],
 "metadata": {
  "kernelspec": {
   "display_name": "Python 3 (ipykernel)",
   "language": "python",
   "name": "python3"
  },
  "language_info": {
   "codemirror_mode": {
    "name": "ipython",
    "version": 3
   },
   "file_extension": ".py",
   "mimetype": "text/x-python",
   "name": "python",
   "nbconvert_exporter": "python",
   "pygments_lexer": "ipython3",
   "version": "3.10.8"
  }
 },
 "nbformat": 4,
 "nbformat_minor": 5
}
