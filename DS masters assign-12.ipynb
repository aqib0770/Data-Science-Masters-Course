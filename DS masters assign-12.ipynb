{
 "cells": [
  {
   "cell_type": "markdown",
   "id": "d8bfa5b4-1584-48c3-a7a4-356a65d5268c",
   "metadata": {},
   "source": [
    "Q1. What is a database? Differentiate between SQL and NoSQL databases."
   ]
  },
  {
   "cell_type": "markdown",
   "id": "cb18ecbc-a74d-43f0-939c-2ac691eeb3de",
   "metadata": {},
   "source": [
    "Ans)A database is an organized collection of data that is stored on a computer system and can be accessed, modified, and managed.\n",
    "\n",
    "SQL databases are structured databases that use SQL (Structured Query Language) for manipulating data in the form of tables and for querying it. SQL databases are typically used for applications that require complex queries, transactions, and data integrity.\n",
    "\n",
    "NoSQL databases are non-relational and use a variety of data models, including key-value stores, document stores, graph databases, and columnar databases. NoSQL databases are typically used for applications that require high scalability, high availability, and high performance. They are also suitable for storing large volumes of unstructured data."
   ]
  },
  {
   "cell_type": "markdown",
   "id": "71a70054-b595-404f-9bf1-8ca8ecb123d0",
   "metadata": {},
   "source": [
    "Q2. What is DDL? Explain why CREATE, DROP, ALTER, and TRUNCATE are used with an example."
   ]
  },
  {
   "cell_type": "markdown",
   "id": "9808b279-b1dd-4d33-8177-795d41b1838b",
   "metadata": {},
   "source": [
    "Ans)DDL stands for Data Definition Language. It is a syntax used to define the structure of a database and its objects. DDL statements are used to create, modify, and remove database objects such as tables, indexes, views, and stored procedures.\n",
    "\n",
    "CREATE is used to create a new table, index, or stored procedure.\n",
    "\n",
    "DROP is used to delete an existing table, index, or stored procedure.\n",
    "\n",
    "ALTER is used to modify an existing table, index, or stored procedure.\n",
    "\n",
    "TRUNCATE is used to delete all data from a table, but not the table itself.\n"
   ]
  },
  {
   "cell_type": "markdown",
   "id": "aeac0ac8-3dfd-401d-aee4-746f525eae28",
   "metadata": {},
   "source": [
    "Q3. What is DML? Explain INSERT, UPDATE, and DELETE with an example."
   ]
  },
  {
   "cell_type": "markdown",
   "id": "61a06068-bb6f-4a65-bee1-e37c36d8d426",
   "metadata": {},
   "source": [
    "Ans)DML stands for Data Manipulation Language. It is a language used to manipulate the data that is stored in a database.\n",
    "\n",
    "INSERT: This statement is used to insert new data into a database table. \n",
    "\n",
    "Example: INSERT INTO customers (customer_name, customer_address) VALUES ('John Doe', '123 Main Street');\n",
    "\n",
    "UPDATE: This statement is used to update existing data in a database table. \n",
    "\n",
    "Example: UPDATE customers SET customer_address = '456 Market Street' WHERE customer_name = 'John Doe';\n",
    "\n",
    "DELETE: This statement is used to delete existing data in a database table. \n",
    "\n",
    "Example: DELETE FROM customers WHERE customer_name = 'John Doe';"
   ]
  },
  {
   "cell_type": "markdown",
   "id": "56260342-f988-4b35-888e-b7c74c7115de",
   "metadata": {},
   "source": [
    "Q4. What is DQL? Explain SELECT with an example."
   ]
  },
  {
   "cell_type": "markdown",
   "id": "c2c5a281-b198-4cf4-b4c8-c11687de56c2",
   "metadata": {},
   "source": [
    "Ans)DQL (Data Query Language) is a language used to query, manipulate, and define the data in a database. It is mostly used to interact with databases such as MySQL, Oracle, and Microsoft SQL Server.\n",
    "\n",
    "SELECT is the most commonly used statement in DQL. It is used to retrieve data from one or more tables in a database.\n",
    "\n",
    "For example, let’s say you wanted to get all of the information from the “Customers” table in a database. You would use the following SELECT statement to do so:\n",
    "\n",
    "SELECT * FROM Customers;\n",
    "\n",
    "This statement would return all of the columns and rows from the “Customers” table."
   ]
  },
  {
   "cell_type": "markdown",
   "id": "ea0bc076-46cf-4177-ba24-9d3a881483b6",
   "metadata": {},
   "source": [
    "Q5. Explain Primary Key and Foreign Key."
   ]
  },
  {
   "cell_type": "markdown",
   "id": "dc0d9594-daea-4147-af9c-211976e9b0ae",
   "metadata": {},
   "source": [
    "Ans)A primary key is a field in a table that uniquely identifies each row/record in a database table. It can be either a single field or a combination of fields. A foreign key is a field in a table that uniquely identifies a row/record in another table. It is used to establish and enforce a link between two tables. A foreign key is one table's reference to another table's primary key."
   ]
  },
  {
   "cell_type": "markdown",
   "id": "0ba93b0d-ffc1-4708-a54e-2097eaa30a37",
   "metadata": {},
   "source": [
    "Q6. Write a python code to connect MySQL to python. Explain the cursor() and execute() method."
   ]
  },
  {
   "cell_type": "markdown",
   "id": "f6d4f6d1-19cb-474a-8ef5-be2f31b67d5e",
   "metadata": {},
   "source": [
    "import mysql.connector\n",
    "\n",
    "<br/>mydb = mysql.connector.connect(\n",
    "<br/>  host=\"localhost\",\n",
    "<br/>  user=\"abc\",\n",
    "<br/>  password=\"password\"\n",
    "<br/>)\n",
    "<br/>mycursor = mydb.cursor()\n",
    "<br/>mycursor.execute(\"Show databases;\")\n",
    "<br/>for i in mycursor:\n",
    "<br/>  print(i)"
   ]
  },
  {
   "cell_type": "markdown",
   "id": "6a930263-a16d-43d6-9355-4d39531202f4",
   "metadata": {},
   "source": [
    "The cursor() method is used to create a cursor object which is used to execute SQL queries. The cursor object is used to traverse the records from the result set.\n",
    "\n",
    "The execute() method is used to execute an SQL query. This method takes an SQL query as an argument and returns a result set. This result set can be used to traverse the records using the cursor object."
   ]
  },
  {
   "cell_type": "code",
   "execution_count": null,
   "id": "e8b1f5ae-5fbc-486a-9959-1b07eccd9d6d",
   "metadata": {},
   "outputs": [],
   "source": [
    "Give the order of execution of SQL clauses in an SQL query."
   ]
  }
 ],
 "metadata": {
  "kernelspec": {
   "display_name": "Python 3 (ipykernel)",
   "language": "python",
   "name": "python3"
  },
  "language_info": {
   "codemirror_mode": {
    "name": "ipython",
    "version": 3
   },
   "file_extension": ".py",
   "mimetype": "text/x-python",
   "name": "python",
   "nbconvert_exporter": "python",
   "pygments_lexer": "ipython3",
   "version": "3.10.8"
  }
 },
 "nbformat": 4,
 "nbformat_minor": 5
}
