{
 "cells": [
  {
   "cell_type": "markdown",
   "id": "bda7c357-07fa-4590-bcc7-2c60332d0114",
   "metadata": {},
   "source": [
    "Q1. What are the characteristics of the tuples? Is tuple immutable?"
   ]
  },
  {
   "cell_type": "markdown",
   "id": "71abc2c8-8e47-4fbe-ab30-6dbe4ae4f652",
   "metadata": {},
   "source": [
    "Ans) A tuple is a collection of objects separated with comma (,). Tuples are created using parenthesis (). Tuples can be iterated. It supports duplicate items. Just like lists, it also has indexes. It is immutable."
   ]
  },
  {
   "cell_type": "markdown",
   "id": "f031f3e9-7019-4551-9f0b-901a971a375c",
   "metadata": {},
   "source": [
    "Q2. What are the two tuple methods in python? Give an example of each method. Give a reason why tuples have only two in-built methods as compared to Lists."
   ]
  },
  {
   "cell_type": "markdown",
   "id": "4cc7c42c-a4d9-497a-8ffd-c7bbbda4dff2",
   "metadata": {},
   "source": [
    "Ans) The two tuple methods in Python are count() and index().\n",
    "The count method returns the number of occurrences of given parameter or value.\n",
    "The index method returns the first index of given value or parameter.\n",
    "Tuples have only two built in methods because it is immutable and dosen't supports item assignment.\n",
    "Below is the example of these two methods."
   ]
  },
  {
   "cell_type": "code",
   "execution_count": 7,
   "id": "86861a7a-b2b3-40f3-883f-dd94157904df",
   "metadata": {},
   "outputs": [],
   "source": [
    "t=(1,2,3,4,\"Aqib\",6,1,1,4,3)"
   ]
  },
  {
   "cell_type": "code",
   "execution_count": 8,
   "id": "e51105b6-676c-4159-b347-2fad13e9b558",
   "metadata": {},
   "outputs": [
    {
     "data": {
      "text/plain": [
       "3"
      ]
     },
     "execution_count": 8,
     "metadata": {},
     "output_type": "execute_result"
    }
   ],
   "source": [
    "t.count(1)"
   ]
  },
  {
   "cell_type": "code",
   "execution_count": 9,
   "id": "94d8bbf8-dd3f-403d-86b0-8b4c8cab4628",
   "metadata": {},
   "outputs": [
    {
     "data": {
      "text/plain": [
       "4"
      ]
     },
     "execution_count": 9,
     "metadata": {},
     "output_type": "execute_result"
    }
   ],
   "source": [
    "t.index(\"Aqib\")"
   ]
  },
  {
   "cell_type": "markdown",
   "id": "7ce9ee35-38f4-4e1a-9171-fb71b70bac11",
   "metadata": {},
   "source": [
    "Q3. Which collection datatypes in python do not allow duplicate items? Write a code using a set to remove\n",
    "duplicates from the given list.\n",
    "\n",
    "Ans) Set and Dictionary types of collection in Python does not allow duplicate items."
   ]
  },
  {
   "cell_type": "code",
   "execution_count": 11,
   "id": "d0a62e67-b040-4803-86fd-22e2323293ea",
   "metadata": {},
   "outputs": [
    {
     "data": {
      "text/plain": [
       "{1, 2, 3, 4}"
      ]
     },
     "execution_count": 11,
     "metadata": {},
     "output_type": "execute_result"
    }
   ],
   "source": [
    "List = [1, 1, 1, 2, 1, 3, 1, 4, 2, 1, 2, 2, 2, 3, 2, 4, 3, 1, 3, 2, 3, 3, 3, 4, 4, 1, 4, 2, 4, 3, 4, 4]\n",
    "set(List)"
   ]
  },
  {
   "cell_type": "markdown",
   "id": "43b28e62-82c9-434b-aaa2-72dd87437ee5",
   "metadata": {},
   "source": [
    "Q4. Explain the difference between the union() and update() methods for a set. Give an example of\n",
    "each method.\n",
    "\n",
    "Ans) The union() method returns a new set with union of two sets while update() method updates the two sets within itself without returning any different set. Its example is given below"
   ]
  },
  {
   "cell_type": "code",
   "execution_count": 18,
   "id": "0b99b0bc-0547-4e1e-90ee-ef7c88974653",
   "metadata": {},
   "outputs": [
    {
     "data": {
      "text/plain": [
       "{1, 2, 3, 4, 'Ansari', 'Aqib', 'Data', 'Masters', 'Science'}"
      ]
     },
     "execution_count": 18,
     "metadata": {},
     "output_type": "execute_result"
    }
   ],
   "source": [
    "s1={1,2,3,4,2,3,4,2,3,4}\n",
    "s2={\"Aqib\",\"Ansari\",\"Data\",\"Science\",\"Masters\"}\n",
    "s1.union(s2)"
   ]
  },
  {
   "cell_type": "code",
   "execution_count": 20,
   "id": "0c200319-7aa5-4296-a0b7-9e84f225ebeb",
   "metadata": {},
   "outputs": [],
   "source": [
    "s1.update(s2)"
   ]
  },
  {
   "cell_type": "code",
   "execution_count": 21,
   "id": "f283b7af-49f1-4283-8f2b-e91a546d9546",
   "metadata": {},
   "outputs": [
    {
     "data": {
      "text/plain": [
       "{1, 2, 3, 4, 'Ansari', 'Aqib', 'Data', 'Masters', 'Science'}"
      ]
     },
     "execution_count": 21,
     "metadata": {},
     "output_type": "execute_result"
    }
   ],
   "source": [
    "s1"
   ]
  },
  {
   "cell_type": "markdown",
   "id": "174863c6-d347-4934-b655-a7d6c7b90f92",
   "metadata": {},
   "source": [
    "Q5. What is a dictionary? Give an example. Also, state whether a dictionary is ordered or unordered.\n",
    "\n",
    "Ans) A dictionary is a collection of objects that stores its values in the form of key:value pairs. It is ordered, mutable and does not allow duplicates. It is created using curly braces{}."
   ]
  },
  {
   "cell_type": "code",
   "execution_count": 22,
   "id": "2bdff93e-6ad5-4087-9f6d-f9921517f564",
   "metadata": {},
   "outputs": [],
   "source": [
    "d={\"Name\":\"Aqib\",\"Surname\":\"Ansari\",\"email_id\":\"aqibansari72a@gmail.com\"}"
   ]
  },
  {
   "cell_type": "code",
   "execution_count": 23,
   "id": "91c0791d-bcd3-4425-9363-dcf7a5d4e03d",
   "metadata": {},
   "outputs": [
    {
     "data": {
      "text/plain": [
       "{'Name': 'Aqib', 'Surname': 'Ansari', 'email_id': 'aqibansari72a@gmail.com'}"
      ]
     },
     "execution_count": 23,
     "metadata": {},
     "output_type": "execute_result"
    }
   ],
   "source": [
    "d"
   ]
  },
  {
   "cell_type": "markdown",
   "id": "ca778586-9a0d-428c-9623-0a83f65becd3",
   "metadata": {},
   "source": [
    "Q6. Can we create a nested dictionary? If so, please give an example by creating a simple one-level\n",
    "nested dictionary.\n",
    "\n",
    "Ans) Yes we can create nested dictionary. Its example is given below."
   ]
  },
  {
   "cell_type": "code",
   "execution_count": 26,
   "id": "8e4427e9-20af-4c8b-b32c-ec7046562884",
   "metadata": {},
   "outputs": [],
   "source": [
    "d1={1:{\"Name\":\"Aqib\",\"Age\":18},2:{\"Name\":\"Riyan\",\"Age\":19}}"
   ]
  },
  {
   "cell_type": "code",
   "execution_count": 27,
   "id": "94dfa907-1990-479d-afe3-3faea2853a22",
   "metadata": {},
   "outputs": [
    {
     "data": {
      "text/plain": [
       "{1: {'Name': 'Aqib', 'Age': 18}, 2: {'Name': 'Riyan', 'Age': 19}}"
      ]
     },
     "execution_count": 27,
     "metadata": {},
     "output_type": "execute_result"
    }
   ],
   "source": [
    "d1"
   ]
  },
  {
   "cell_type": "markdown",
   "id": "21a3b2d3-8463-4fdb-853e-0d9c565feab5",
   "metadata": {},
   "source": [
    "Q7. Using setdefault() method, create key named topics in the given dictionary and also add the value of\n",
    "the key as this list ['Python', 'Machine Learning’, 'Deep Learning']"
   ]
  },
  {
   "cell_type": "code",
   "execution_count": 30,
   "id": "f8d9d550-dcd3-4349-b6dd-f1081785061b",
   "metadata": {},
   "outputs": [],
   "source": [
    "dict1 = {'language' : 'Python', 'course': 'Data Science Masters'}"
   ]
  },
  {
   "cell_type": "code",
   "execution_count": 32,
   "id": "7823fb9a-e002-4f69-8dc9-98cbd5535dae",
   "metadata": {},
   "outputs": [
    {
     "data": {
      "text/plain": [
       "['Python', 'Machine Learning', 'Deep Learning']"
      ]
     },
     "execution_count": 32,
     "metadata": {},
     "output_type": "execute_result"
    }
   ],
   "source": [
    "dict1.setdefault(\"DS_syllabus\",['Python','Machine Learning','Deep Learning'])"
   ]
  },
  {
   "cell_type": "code",
   "execution_count": 34,
   "id": "a41aa98a-f3b0-4043-9ff3-bc202b4c470b",
   "metadata": {},
   "outputs": [
    {
     "data": {
      "text/plain": [
       "{'language': 'Python',\n",
       " 'course': 'Data Science Masters',\n",
       " 'DS_syllabus': ['Python', 'Machine Learning', 'Deep Learning']}"
      ]
     },
     "execution_count": 34,
     "metadata": {},
     "output_type": "execute_result"
    }
   ],
   "source": [
    "dict1"
   ]
  },
  {
   "cell_type": "markdown",
   "id": "55fc7f60-8a42-492f-8625-a9027f563f75",
   "metadata": {},
   "source": [
    "Q8. What are the three view objects in dictionaries? Use the three in-built methods in python to display\n",
    "these three view objects for the given dictionary.\n",
    "\n",
    "Ans) The three view objects in dictionaries are keys(), values() and items()."
   ]
  },
  {
   "cell_type": "code",
   "execution_count": 35,
   "id": "ef923309-b621-4faa-a9fe-5ee52f750a1d",
   "metadata": {},
   "outputs": [],
   "source": [
    "dict1 = {'Sport': 'Cricket' , 'Teams': ['India', 'Australia', 'England', 'South Africa', 'Sri Lanka', 'New Zealand']}"
   ]
  },
  {
   "cell_type": "code",
   "execution_count": 36,
   "id": "a414cd4b-6211-4398-9cc8-b05a55aefa4d",
   "metadata": {},
   "outputs": [
    {
     "data": {
      "text/plain": [
       "dict_keys(['Sport', 'Teams'])"
      ]
     },
     "execution_count": 36,
     "metadata": {},
     "output_type": "execute_result"
    }
   ],
   "source": [
    "dict1.keys()"
   ]
  },
  {
   "cell_type": "code",
   "execution_count": 37,
   "id": "4d0a19ea-e79b-4985-8c45-5c989e4a5770",
   "metadata": {},
   "outputs": [
    {
     "data": {
      "text/plain": [
       "dict_values(['Cricket', ['India', 'Australia', 'England', 'South Africa', 'Sri Lanka', 'New Zealand']])"
      ]
     },
     "execution_count": 37,
     "metadata": {},
     "output_type": "execute_result"
    }
   ],
   "source": [
    "dict1.values()"
   ]
  },
  {
   "cell_type": "code",
   "execution_count": 38,
   "id": "e6c9dea0-1c58-4efa-9b9e-ce56d5824e4c",
   "metadata": {},
   "outputs": [
    {
     "data": {
      "text/plain": [
       "dict_items([('Sport', 'Cricket'), ('Teams', ['India', 'Australia', 'England', 'South Africa', 'Sri Lanka', 'New Zealand'])])"
      ]
     },
     "execution_count": 38,
     "metadata": {},
     "output_type": "execute_result"
    }
   ],
   "source": [
    "dict1.items()"
   ]
  }
 ],
 "metadata": {
  "kernelspec": {
   "display_name": "Python 3 (ipykernel)",
   "language": "python",
   "name": "python3"
  },
  "language_info": {
   "codemirror_mode": {
    "name": "ipython",
    "version": 3
   },
   "file_extension": ".py",
   "mimetype": "text/x-python",
   "name": "python",
   "nbconvert_exporter": "python",
   "pygments_lexer": "ipython3",
   "version": "3.10.8"
  }
 },
 "nbformat": 4,
 "nbformat_minor": 5
}
