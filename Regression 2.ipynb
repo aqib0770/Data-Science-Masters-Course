{
 "cells": [
  {
   "cell_type": "markdown",
   "id": "6470a0c8-2ebd-4ded-a36a-521aec9690cc",
   "metadata": {},
   "source": [
    "Q1. Explain the concept of R-squared in linear regression models. How is it calculated, and what does it\n",
    "represent?\n",
    "<br>Ans: R-square determines how well dependent and independent features are related to each other. It shows how well the data fits the regression model.\n",
    "<br>Formula for R-square: 1-(SSres/SStotal) or 1-((yi-yi^)^2/(yi-yi')^2)\n",
    "<br>SSres- Sum of squared residuals\n",
    "<br>SStotal- Sum of squared totals"
   ]
  },
  {
   "cell_type": "markdown",
   "id": "1967518a-8780-47c2-b593-7ae3c20c3595",
   "metadata": {},
   "source": [
    "Q2. Define adjusted R-squared and explain how it differs from the regular R-squared.\n",
    "<br>Ans: Adjusted R-squared is a modified version of R-squared. It takes number of independent features in the account also. The main difference between both the methods is r-squared will increase if we add more independent features in it even if they are less related to output feature. Whereas in adjusted r-squared, it will only increase if we add the features which are significantly related with output feature. Its value will always be less than r-squared."
   ]
  },
  {
   "cell_type": "markdown",
   "id": "adea1902-1de7-4c3c-9b20-8c937cdcf960",
   "metadata": {},
   "source": [
    "Q3. When is it more appropriate to use adjusted R-squared?\n",
    "<br>Ans: It is more appropriate when you are comparing models with different number of independent variables. It is because when we add features which are not much related or do not improve the fit, then adjusted R-squared value dosen't increase. This will give more accurate results in terms of fit of the models."
   ]
  },
  {
   "cell_type": "markdown",
   "id": "823d3f16-380d-4378-92a4-63e637d4d127",
   "metadata": {},
   "source": [
    "Q4. What are RMSE, MSE, and MAE in the context of regression analysis? How are these metrics\n",
    "calculated, and what do they represent?\n",
    "- **MSE(Mean squared error):** It is the average of squared errors between predicted values and actual values. It is calculated as: ***(sum(errors^2))/n***      n=no.of data points,errors=difference between predicted values and actual values.\n",
    "\n",
    "- **RMSE(Root mean squared error):** It is the square root of MSE. It is the measure of average error between predicted values and actual values. It is calculated as: ***sqrt(MSE)***.\n",
    "\n",
    "- **MAE(Mean absolute error):** It is the average of absolute errors between predicted values and actual values. It is the measure of average magnitude of the error: It is calculated as: ***(sum(|errors|))/n***.\n",
    "\n",
    "- The lower these values are, the better the model is."
   ]
  },
  {
   "cell_type": "markdown",
   "id": "613a39b0-4350-4bf3-ab8a-df41367fffdd",
   "metadata": {},
   "source": [
    "Q5. Discuss the advantages and disadvantages of using RMSE, MSE, and MAE as evaluation metrics in\n",
    "regression analysis.\n",
    "## RMSE:\n",
    "#### Advantages\n",
    "- It is differentiable\n",
    "- It is a unit-less metric, so it can be compared across models with different dependent variables\n",
    "#### Disadvantages\n",
    "- More sensitive to outliers\n",
    "\n",
    "## MSE:\n",
    "#### Advantages\n",
    "- It is differentiable\n",
    "- It is a unit-less metric, so it can be compared across models with different dependent variables\n",
    "#### Disadvantages\n",
    "- More sensitive to outliers\n",
    "- Difficult to understand the meaning of low or high MSE\n",
    "\n",
    "## MAE:\n",
    "#### Advantages\n",
    "- Less sensitive to outliers\n",
    "- It has a same unit\n",
    "#### Disadvantages\n",
    "- It takes more calculation time"
   ]
  },
  {
   "cell_type": "markdown",
   "id": "ad06ae86-1a45-4c18-95c2-664f8378e080",
   "metadata": {},
   "source": [
    "Q6. Explain the concept of Lasso regularization. How does it differ from Ridge regularization, and when is\n",
    "it more appropriate to use?\n",
    "<br>Ans: Lasso regularization is used to reduce overfitting in a regression model by penalizing the coefficients. The penalty is proportional to the absolute value of slope or coefficients. So coefficients with small values are more likely to be shrink to zero.\n",
    "\n",
    "<br>The main difference between Ridge regularization and Lasso regularization is that Lasso regularization can be used for feature selection by eliminating the least important features while Ridge regularization can't.\n",
    "\n",
    "<br>Ridge regularization is appropriate when we want to reduce the variance of model without caring about feature selection while Lasso regularization is used in feature selection also."
   ]
  },
  {
   "cell_type": "markdown",
   "id": "1ee2ae14-30ae-49f2-8e52-68f8646530db",
   "metadata": {},
   "source": [
    "Q7. How do regularized linear models help to prevent overfitting in machine learning? Provide an\n",
    "example to illustrate.\n",
    "<br>Ans: Regularized linear model helps to prevent overfitting in machine learning model by adding a penalty to the model's coefficient. The penalty discourages the model from becoming to complex, which can help to prevent it from fitting the data too closely.\n",
    "\n",
    "<br>For example, let's say we have a linear regression model which helps in predicting the price of the house based on its size. If the model is not regularized, it may learn to fit the training data properly, even if the training data contains some outliers. This would cause the model to overfit and it would not be able to generalize well to the new data."
   ]
  },
  {
   "cell_type": "markdown",
   "id": "f7303a1d-fb55-4ac6-9a54-0fd066c92c2a",
   "metadata": {},
   "source": [
    "Q8. Discuss the limitations of regularized linear models and explain why they may not always be the best\n",
    "choice for regression analysis.\n",
    "<br>Ans: Regulaized linear models are a powerful tool to prevent overfitting in machine learning models, but they have some limitations:\n",
    "- **They can reduce the model's accuracy:** When a regularized linear model is shrunk too much, it can loose some of its predictive power because it is forced to fit the training data less closely.\n",
    "- **They can be computationall expensive:** The process of regularizing the linear model can be computationall expensive, especially for large datasets. This is because the model has to optimized multiple times, each time with a different value of regularizing parameter.\n",
    "- **They can be difficult to interpret:** The coefficients of regularized linear are often shrunk toward zero, which can make it difficult to intrepret the model. This is because the coefficients represents the inportance of each feature and if they all are shrunk towards zero, it will be difficult to identify the important features.\n",
    "\n",
    "For these reasons, the regularized linear models may not be the best choice for regression analysis. If accuracy is a concern, they regularized model may not be the best choice but if overfitting is a concern, then they are the good choice."
   ]
  },
  {
   "cell_type": "markdown",
   "id": "f238c25a-9b05-4a31-bcd5-9125f9bbd4ab",
   "metadata": {},
   "source": [
    "Q9. You are comparing the performance of two regression models using different evaluation metrics.\n",
    "Model A has an RMSE of 10, while Model B has an MAE of 8. Which model would you choose as the better\n",
    "performer, and why? Are there any limitations to your choice of metric?\n",
    "<br>Model A's RMSE of 10 indicates that the average difference between actual values and predicted values is 10 while model B's MAE of 8 indicates that the average absolute difference between actual and predicticted values is 8 units.\n",
    "<br>Without any information about the data, outliers and skewness"
   ]
  },
  {
   "cell_type": "markdown",
   "id": "a46c5525-804d-4ce3-a93a-71382a0021b0",
   "metadata": {},
   "source": [
    "Q10. You are comparing the performance of two regularized linear models using different types of\n",
    "regularization. Model A uses Ridge regularization with a regularization parameter of 0.1, while Model B\n",
    "uses Lasso regularization with a regularization parameter of 0.5. Which model would you choose as the\n",
    "better performer, and why? Are there any trade-offs or limitations to your choice of regularization\n",
    "method?\n",
    "<br>Ans: Without any information about the data, when the coefficients are large I will choose Model A while Model B when coefficients are small"
   ]
  },
  {
   "cell_type": "code",
   "execution_count": null,
   "id": "6970f7a0-599c-420f-9f9b-4d8b829195b4",
   "metadata": {},
   "outputs": [],
   "source": []
  },
  {
   "cell_type": "code",
   "execution_count": null,
   "id": "6eabe32b-a088-4bf2-ad96-cdcb8094fad6",
   "metadata": {},
   "outputs": [],
   "source": []
  },
  {
   "cell_type": "code",
   "execution_count": null,
   "id": "5cc7216a-72a2-4178-91b1-e2dd9693b319",
   "metadata": {},
   "outputs": [],
   "source": []
  },
  {
   "cell_type": "code",
   "execution_count": null,
   "id": "dab4ae6b-8f33-4976-8c52-020fd8bdc767",
   "metadata": {},
   "outputs": [],
   "source": []
  }
 ],
 "metadata": {
  "kernelspec": {
   "display_name": "Python 3 (ipykernel)",
   "language": "python",
   "name": "python3"
  },
  "language_info": {
   "codemirror_mode": {
    "name": "ipython",
    "version": 3
   },
   "file_extension": ".py",
   "mimetype": "text/x-python",
   "name": "python",
   "nbconvert_exporter": "python",
   "pygments_lexer": "ipython3",
   "version": "3.10.8"
  }
 },
 "nbformat": 4,
 "nbformat_minor": 5
}
