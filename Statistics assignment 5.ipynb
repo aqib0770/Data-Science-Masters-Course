{
 "cells": [
  {
   "cell_type": "markdown",
   "id": "7b4b6062-0d9d-4c0e-8116-69ed6fcd3557",
   "metadata": {},
   "source": [
    "Q1: What is Estimation Statistics? Explain point estimate and interval estimate.\n",
    "<br>Ans. It is the method of estimating mean and standard deviation of the population"
   ]
  },
  {
   "cell_type": "markdown",
   "id": "05a01920-af39-4516-b39e-f380cd7a3aca",
   "metadata": {},
   "source": [
    "Q2. Write a Python function to estimate the population mean using a sample mean and standard\n",
    "deviation."
   ]
  },
  {
   "cell_type": "code",
   "execution_count": 18,
   "id": "c120e339-a9ae-4176-a98f-7f2a0db31877",
   "metadata": {},
   "outputs": [],
   "source": [
    "def estimate(sample_mean,std_dev):\n",
    "    population_mean=sample_mean\n",
    "    return population_mean"
   ]
  },
  {
   "cell_type": "code",
   "execution_count": 19,
   "id": "34bc41e5-3bc3-4f99-b05b-846c95aae039",
   "metadata": {},
   "outputs": [
    {
     "data": {
      "text/plain": [
       "11"
      ]
     },
     "execution_count": 19,
     "metadata": {},
     "output_type": "execute_result"
    }
   ],
   "source": [
    "estimate(11,23)"
   ]
  },
  {
   "cell_type": "markdown",
   "id": "c49b403b-50bf-48e6-b448-f3cb793f6bef",
   "metadata": {},
   "source": [
    "Q3: What is Hypothesis testing? Why is it used? State the importance of Hypothesis testing.\n",
    "<br>Ans. Hypothesis testing is guessing about an outcome. It is used to make conclusions and decision. It is the form of inferiantial that evaluates two mutually exclusive statements about a population to determine which statement is best suited by the sample data.\n",
    "<br>It is the important concept in statistics which helps in determine if something is really happened, if some treatments have positive effects on the patient, any decision made is successful or not."
   ]
  },
  {
   "cell_type": "markdown",
   "id": "e5247617-2fd4-419d-be18-e3fdc442e2e5",
   "metadata": {},
   "source": [
    "Q4. Create a hypothesis that states whether the average weight of male college students is greater than\n",
    "the average weight of female college students.\n",
    "<br>Ans. Null hypothesis: The average weight of male students is equal to average weight of female students.\n",
    "<br>Alternate hypothesis: The average weight of male students is greater than average weight of female students."
   ]
  },
  {
   "cell_type": "markdown",
   "id": "7d0c6f65-2423-4c64-8301-6b02f130c5e0",
   "metadata": {},
   "source": [
    "Q5. Write a Python script to conduct a hypothesis test on the difference between two population means,\n",
    "given a sample from each population."
   ]
  },
  {
   "cell_type": "code",
   "execution_count": 20,
   "id": "3e1e3e1f-7d04-4ce5-a4d6-f9ebc7fe517a",
   "metadata": {},
   "outputs": [],
   "source": [
    "data1=[34,45,67,56,45,87,67,49,79,56,68,61,45,67,81,59]\n",
    "data2=[56,47,59,37,91,48,83,68,37,93,25,75,46,36,63,25]"
   ]
  },
  {
   "cell_type": "code",
   "execution_count": 21,
   "id": "cd59317e-f1b7-4915-b740-35d0cc6fc6eb",
   "metadata": {},
   "outputs": [],
   "source": [
    "import numpy as np\n",
    "from scipy.stats import stats\n",
    "sample_size=10\n",
    "sample1=np.random.choice(data1,sample_size)\n",
    "sample2=np.random.choice(data2,sample_size)"
   ]
  },
  {
   "cell_type": "code",
   "execution_count": 22,
   "id": "0d2a8c11-3d57-425f-a1f3-a236d30e11e4",
   "metadata": {},
   "outputs": [
    {
     "data": {
      "text/plain": [
       "array([87, 68, 67, 49, 61, 81, 81, 49, 45, 56])"
      ]
     },
     "execution_count": 22,
     "metadata": {},
     "output_type": "execute_result"
    }
   ],
   "source": [
    "sample1"
   ]
  },
  {
   "cell_type": "code",
   "execution_count": 23,
   "id": "0a14c0e2-62a7-4075-aab9-be5bdaf94fa0",
   "metadata": {},
   "outputs": [
    {
     "data": {
      "text/plain": [
       "array([59, 46, 93, 68, 25, 48, 93, 83, 37, 48])"
      ]
     },
     "execution_count": 23,
     "metadata": {},
     "output_type": "execute_result"
    }
   ],
   "source": [
    "sample2"
   ]
  },
  {
   "cell_type": "code",
   "execution_count": 24,
   "id": "5b6ad4e1-a213-46dc-8c34-c2fe6628381b",
   "metadata": {},
   "outputs": [
    {
     "name": "stderr",
     "output_type": "stream",
     "text": [
      "/tmp/ipykernel_70/1890439533.py:1: DeprecationWarning: Please use `ttest_ind` from the `scipy.stats` namespace, the `scipy.stats.stats` namespace is deprecated.\n",
      "  t_statistics,p_value=stats.ttest_ind(sample1,sample2)\n"
     ]
    }
   ],
   "source": [
    "t_statistics,p_value=stats.ttest_ind(sample1,sample2)"
   ]
  },
  {
   "cell_type": "code",
   "execution_count": 25,
   "id": "488d1b81-3534-4dbb-ba58-cad3a73640ef",
   "metadata": {},
   "outputs": [
    {
     "name": "stdout",
     "output_type": "stream",
     "text": [
      "0.624481992768567\n"
     ]
    }
   ],
   "source": [
    "print(p_value)"
   ]
  },
  {
   "cell_type": "code",
   "execution_count": 26,
   "id": "e4a836c9-2a72-4d21-a6e0-6ca56f26d237",
   "metadata": {},
   "outputs": [
    {
     "name": "stdout",
     "output_type": "stream",
     "text": [
      "Accept null hypothesis\n",
      "There is no significance difference in the mean of two population\n",
      "Mean of sample1:  64.4\n",
      "Mean of sample2:  60.0\n"
     ]
    }
   ],
   "source": [
    "null_hypo=\"There is no significance difference in the mean of two population\"\n",
    "alternate_hypo=\"There is a difference in the mean of two population\"\n",
    "\n",
    "alpha=0.05\n",
    "if p_value<alpha:\n",
    "    print(\"Reject null hypothesis\")\n",
    "    print(alternate_hypo)\n",
    "else:\n",
    "    print(\"Accept null hypothesis\")\n",
    "    print(null_hypo)\n",
    "print(\"Mean of sample1: \",sum(sample1)/len(sample1))\n",
    "print(\"Mean of sample2: \",sum(sample2)/len(sample2))\n"
   ]
  },
  {
   "cell_type": "markdown",
   "id": "07cf7c61-5bfd-41a7-8a91-f4a4e3aa40d3",
   "metadata": {},
   "source": [
    "Q6: What is a null and alternative hypothesis? Give some examples.\n",
    "<br>Ans. Null hypothesis is the most basic and default assumption given in the problem and alternative hypothesis is exactly opposite of null hypothesis which counter the null hypothesis.\n",
    "<br>Example: A medical research center wants to know whether their medicine is effective or not.\n",
    "<br>Null Hypothesis: The medicine is not effective\n",
    "<br>Alternate hypothesis: The medicine is effective"
   ]
  },
  {
   "cell_type": "markdown",
   "id": "2fbfc342-1f5d-441a-81f1-9c8f49f5e8c7",
   "metadata": {},
   "source": [
    "Q7: Write down the steps involved in hypothesis testing.\n",
    "<br>Ans. 1. State null and alternate hypothesis\n",
    "<br>2. Perform statistical analysis on sample data\n",
    "<br>3. Determine critical value and p_value\n",
    "<br>4. Draw conclusion"
   ]
  },
  {
   "cell_type": "markdown",
   "id": "d9913757-d0df-49cd-8b60-7a8e6b75aedd",
   "metadata": {},
   "source": [
    "Q8. Define p-value and explain its significance in hypothesis testing.\n",
    "<br>Ans. A p-value is a mathematical number, which is obtained by doing statistical test. It helps us to determine whether to raject the null hypothesis or not. If p_value is less than the level of significance, then we reject null hypothesis and if it is greater than level of significance, then we fail to reject null hypothesis. The smaller the p-value, the stronger evidence to reject null hypothesis"
   ]
  },
  {
   "cell_type": "markdown",
   "id": "ffa27ff7-1136-4758-aaa2-4bcdfc56b379",
   "metadata": {},
   "source": [
    "Q9. Generate a Student's t-distribution plot using Python's matplotlib library, with the degrees of freedom\n",
    "parameter set to 10."
   ]
  },
  {
   "cell_type": "code",
   "execution_count": 27,
   "id": "5c0dceeb-9ea3-481c-b351-c06efeed7cb1",
   "metadata": {},
   "outputs": [
    {
     "data": {
      "image/png": "[encoded data removed]",
      "text/plain": [
       "<Figure size 640x480 with 1 Axes>"
      ]
     },
     "metadata": {},
     "output_type": "display_data"
    }
   ],
   "source": [
    "import matplotlib.pyplot as plt\n",
    "import numpy as np\n",
    "from scipy.stats import t\n",
    "df = 10\n",
    "x = np.linspace(t.ppf(0.01, df), t.ppf(0.99, df), 100)\n",
    "'''Here np.linspace() function takes two arguments. the t.ppf() function is a percent point function which returns values from first \n",
    "percentile to 99 percentile with 10 degree of freedom'''\n",
    "# Calculate the probability density function (PDF) for the t-distribution\n",
    "pdf = t.pdf(x, df)\n",
    "plt.plot(x, pdf)\n",
    "plt.title(f\"Student's t-distribution (df={df})\")\n",
    "plt.xlabel('x')\n",
    "plt.ylabel('PDF')\n",
    "plt.show()\n"
   ]
  },
  {
   "cell_type": "markdown",
   "id": "5727e23c-9087-413e-8a4e-bab2cdfd024b",
   "metadata": {},
   "source": [
    "Q10. Write a Python program to calculate the two-sample t-test for independent samples, given two\n",
    "random samples of equal size and a null hypothesis that the population means are equal."
   ]
  },
  {
   "cell_type": "code",
   "execution_count": 28,
   "id": "643db872-11c1-4883-a74f-cb7ef5bfd470",
   "metadata": {},
   "outputs": [],
   "source": [
    "sample1=[1,2,3,4,5,6]\n",
    "sample2=[2,4,3,5,6,3]"
   ]
  },
  {
   "cell_type": "code",
   "execution_count": 29,
   "id": "c06d1403-44c2-42eb-97de-4692bee37776",
   "metadata": {},
   "outputs": [
    {
     "name": "stderr",
     "output_type": "stream",
     "text": [
      "/tmp/ipykernel_70/1841550141.py:1: DeprecationWarning: Please use `ttest_ind` from the `scipy.stats` namespace, the `scipy.stats.stats` namespace is deprecated.\n",
      "  t,p_value=stats.ttest_ind(sample1,sample2)\n"
     ]
    }
   ],
   "source": [
    "t,p_value=stats.ttest_ind(sample1,sample2)"
   ]
  },
  {
   "cell_type": "code",
   "execution_count": 30,
   "id": "e2a84fad-4570-4923-bebb-e35aa7322c83",
   "metadata": {},
   "outputs": [
    {
     "name": "stdout",
     "output_type": "stream",
     "text": [
      "t-statistic:  -0.34299717028501786\n",
      "P_value:  0.7387017255136485\n"
     ]
    }
   ],
   "source": [
    "print(\"t-statistic: \",t)\n",
    "print(\"P_value: \",p_value)"
   ]
  },
  {
   "cell_type": "markdown",
   "id": "0d25b4d9-f397-4080-aebe-7717edd72ba6",
   "metadata": {},
   "source": [
    "Q11: What is Student’s t distribution? When to use the t-Distribution.\n",
    "<br>Ans. Student's t distribution is a probability distribution that is used to estimate the population mean when the sample size is small or standard deviation is unkonown\n",
    "<br>The t distribution is used when following conditions are satisfied.\n",
    "1. The sample size is less than 30\n",
    "2. When standard deviation is unknown\n",
    "3. When the data is normally distributed"
   ]
  },
  {
   "cell_type": "markdown",
   "id": "c0a74200-eb72-4069-b2a1-786503c1ee8e",
   "metadata": {},
   "source": [
    "Q12: What is t-statistic? State the formula for t-statistic.\n",
    "<br>Ans. T-statistic is a measure of how much standard deviation a sample mean is away from population mean. It is similar to z-statistics.\n",
    "<br>Formula for t statistic:\n",
    "<br>X̄-μ/S/√n\n",
    "<br>X̄-Sample mean\n",
    "<br>μ-Population mean\n",
    "<br>S-Sample standard deviation\n",
    "<br>n-sample size\n",
    "<br>Another formula when there are two sample data:\n",
    "<br>x1-x2/S*√(1/n1+1/n2)\n",
    "<br>x1 and x2 are mean of two sample data\n",
    "<br>S-pooled standard deviation\n",
    "<br>n1 and n2- Size of two sample data"
   ]
  },
  {
   "cell_type": "markdown",
   "id": "dd5b1362-9fce-452c-8503-7f73a439007a",
   "metadata": {},
   "source": [
    "Q13. A coffee shop owner wants to estimate the average daily revenue for their shop. They take a random\n",
    "sample of 50 days and find the sample mean revenue to be $500 with a standard deviation of $50.\n",
    "Estimate the population mean revenue with a 95% confidence interval."
   ]
  },
  {
   "cell_type": "code",
   "execution_count": 31,
   "id": "503d69be-056c-41b7-b12e-c28eb13fc730",
   "metadata": {},
   "outputs": [],
   "source": [
    "from scipy.stats import t\n",
    "mean=500\n",
    "std=50\n",
    "alpha=0.05\n",
    "t_value=t.ppf(alpha/2,49)\n",
    "standard_error=std/np.sqrt(50)"
   ]
  },
  {
   "cell_type": "code",
   "execution_count": 32,
   "id": "ce05a386-eb28-4517-a7c0-db9e3c663419",
   "metadata": {},
   "outputs": [],
   "source": [
    "confidence_interval1=mean+(t_value*standard_error)\n",
    "confidence_interval2=mean-(t_value*standard_error)"
   ]
  },
  {
   "cell_type": "code",
   "execution_count": 33,
   "id": "11464513-a8fc-4e24-843b-9ddd31818611",
   "metadata": {},
   "outputs": [
    {
     "name": "stdout",
     "output_type": "stream",
     "text": [
      "The population would be between(485.79015724388137 , 514.2098427561186)\n"
     ]
    }
   ],
   "source": [
    "print(f\"The population would be between({confidence_interval1} , {confidence_interval2})\")"
   ]
  },
  {
   "cell_type": "markdown",
   "id": "080385be-fbbd-4468-a42c-551065a57eb9",
   "metadata": {},
   "source": [
    "Q14. A researcher hypothesizes that a new drug will decrease blood pressure by 10 mmHg. They conduct a\n",
    "clinical trial with 100 patients and find that the sample mean decrease in blood pressure is 8 mmHg with a\n",
    "standard deviation of 3 mmHg. Test the hypothesis with a significance level of 0.05."
   ]
  },
  {
   "cell_type": "markdown",
   "id": "3841e725-b65e-4f9a-89c8-6bbfee66a54e",
   "metadata": {},
   "source": [
    "Ans. Null hypothesis: The population mean decrease in blood pressure is 10mmHg.\n",
    "<br>Alternate hypothesis: The population mean decrease in blood pressure less than 10mmHg\n",
    "<br>Here we will use one tail test and t test as sample size is small\n",
    "<br>Now we will calculate critical value and t-statistic (sample mean-population mean)/standard deviation/sqrt(n)"
   ]
  },
  {
   "cell_type": "code",
   "execution_count": 34,
   "id": "2afc8a85-3e9d-4b90-b733-63f4d4798a8f",
   "metadata": {},
   "outputs": [
    {
     "name": "stdout",
     "output_type": "stream",
     "text": [
      "Critical value: -1.6603911559963902  t statittic: -6.666666666666667\n",
      "Reject null hypothesis\n"
     ]
    }
   ],
   "source": [
    "import scipy.stats as st\n",
    "alpha=0.05\n",
    "dof=99\n",
    "critical_value=st.t.ppf(alpha,dof)\n",
    "sample_mean=8\n",
    "population_mean=10\n",
    "std=3\n",
    "n=100\n",
    "t_statistic=(sample_mean-population_mean)/(std/np.sqrt(n))\n",
    "print(f\"Critical value: {critical_value}  t statittic: {t_statistic}\")\n",
    "if(t_statistic<critical_value):\n",
    "    print(\"Reject null hypothesis\")\n",
    "else:\n",
    "    print(\"We fail to reject null hypothesis\")"
   ]
  },
  {
   "cell_type": "markdown",
   "id": "1079a0b4-9caa-468a-8a9b-63c27aec7320",
   "metadata": {},
   "source": [
    "If t-statistic is less than -1.66 we reject null hypothesis"
   ]
  },
  {
   "cell_type": "markdown",
   "id": "915de2a2-d445-4320-9cc2-a81fdae29e49",
   "metadata": {},
   "source": [
    "Q15. An electronics company produces a certain type of product with a mean weight of 5 pounds and a\n",
    "standard deviation of 0.5 pounds. A random sample of 25 products is taken, and the sample mean weight\n",
    "is found to be 4.8 pounds. Test the hypothesis that the true mean weight of the products is less than 5\n",
    "pounds with a significance level of 0.01."
   ]
  },
  {
   "cell_type": "markdown",
   "id": "9ab61d37-0676-4d07-8ef6-e1c6dbe98ed4",
   "metadata": {},
   "source": [
    "Ans. Null Hypothesis: Mean of weight is 5 pounds (μ=5)\n",
    "<br>Alternate hypothesis: Mean is less than 5 (μ<5)\n",
    "<br>This is a one tail test and we use t-statistic.\n",
    "<br>t-stats=(sample mean-population mean)/(standard deviation/√n)\n",
    "<br>Since the mean of alternate hypothesis is less than null hypothesis, we will use negative critical value\n",
    "<br>If t-stats is less than critical value we will reject null hypothesis and if it is greater than critical value we will accept null hypothesis."
   ]
  },
  {
   "cell_type": "code",
   "execution_count": 35,
   "id": "d8736a21-8597-43db-876f-60ec433e617e",
   "metadata": {},
   "outputs": [
    {
     "name": "stdout",
     "output_type": "stream",
     "text": [
      "-2.0000000000000018\n"
     ]
    }
   ],
   "source": [
    "sample_mean=4.8\n",
    "population_mean=5\n",
    "std=0.5\n",
    "n=25\n",
    "t_stats=(sample_mean-population_mean)/(std/np.sqrt(n))\n",
    "print(t_stats)"
   ]
  },
  {
   "cell_type": "code",
   "execution_count": 36,
   "id": "1fa66fef-caa7-4662-9556-4f1251796c34",
   "metadata": {},
   "outputs": [
    {
     "data": {
      "text/plain": [
       "-2.4921594731575762"
      ]
     },
     "execution_count": 36,
     "metadata": {},
     "output_type": "execute_result"
    }
   ],
   "source": [
    "from scipy.stats import t\n",
    "critical_value=t.ppf(0.01,24)#First parameter is level of significance and second parameter is dof\n",
    "critical_value"
   ]
  },
  {
   "cell_type": "markdown",
   "id": "91a027f4-5906-4f31-a66f-07cdc88d2620",
   "metadata": {},
   "source": [
    "since t-stats is greater than critical value (-2 > -2.492), we fail to reject null hypothesis\n",
    "Conclusion: The true mean weight of products is 5 pounds"
   ]
  },
  {
   "cell_type": "markdown",
   "id": "7abe947a-d273-410e-aec1-244bb90b632c",
   "metadata": {},
   "source": [
    "Q16. Two groups of students are given different study materials to prepare for a test. The first group (n1 =\n",
    "30) has a mean score of 80 with a standard deviation of 10, and the second group (n2 = 40) has a mean\n",
    "score of 75 with a standard deviation of 8. Test the hypothesis that the population means for the two\n",
    "groups are equal with a significance level of 0.01."
   ]
  },
  {
   "cell_type": "markdown",
   "id": "5746d3ab-2831-4eb2-8644-6bbd1fe032b2",
   "metadata": {},
   "source": [
    "Ans. Null hypothesis: Population means of two groups are equal\n",
    "<br>Alternate hypothesis: Population means of two groups are not equal\n",
    "<br>Since it is a two-sample z-test, the formula to calculate z-score is:\n",
    "<br>(X̄1-X̄2)/sqrt((σ1/n1)+(σ2/n2))\n",
    "<br>X̄1 and X̄2- means of two samples\n",
    "<br>σ1 and σ2- standard deviations of both tha samples\n",
    "<br>n1,n2- sample sizes"
   ]
  },
  {
   "cell_type": "code",
   "execution_count": 37,
   "id": "b8bb754c-f6d7-4d08-8120-6fa2bcde4145",
   "metadata": {},
   "outputs": [
    {
     "data": {
      "text/plain": [
       "-2.575829303548901"
      ]
     },
     "execution_count": 37,
     "metadata": {},
     "output_type": "execute_result"
    }
   ],
   "source": [
    "#finding the critical value\n",
    "from scipy.stats import norm\n",
    "critical_val=norm.ppf(0.01/2)\n",
    "critical_val"
   ]
  },
  {
   "cell_type": "markdown",
   "id": "a9de0be3-2a09-430f-acd8-3224dbe89741",
   "metadata": {},
   "source": [
    "If (z-score < -2.57) or  (z-score > 2.57), we reject null hypothesis"
   ]
  },
  {
   "cell_type": "code",
   "execution_count": 38,
   "id": "9cd7066e-8d88-4f89-bdc1-bdf3d23dd251",
   "metadata": {},
   "outputs": [
    {
     "name": "stdout",
     "output_type": "stream",
     "text": [
      "2.2511258444537408\n"
     ]
    }
   ],
   "source": [
    "x1=80\n",
    "x2=75\n",
    "s1=10\n",
    "s2=8\n",
    "n1=30\n",
    "n2=40\n",
    "zscore=(x1-x2)/np.sqrt((s1**2/n1)+(s2**2/n2))\n",
    "print(zscore)"
   ]
  },
  {
   "cell_type": "markdown",
   "id": "93268346-1132-4182-974f-ac84240b3cc3",
   "metadata": {
    "tags": []
   },
   "source": [
    "Since the calculated z-score is less than critical value (2.2511 < 2.575), we fail to null hypothesis\n",
    "Conclusion: There is no significance difference in means of two groups"
   ]
  },
  {
   "cell_type": "markdown",
   "id": "8da83d67-bcc0-4b48-8177-506035cf517f",
   "metadata": {},
   "source": [
    "Q17. A marketing company wants to estimate the average number of ads watched by viewers during a TV\n",
    "program. They take a random sample of 50 viewers and find that the sample mean is 4 with a standard\n",
    "deviation of 1.5. Estimate the population mean with a 99% confidence interval."
   ]
  },
  {
   "cell_type": "markdown",
   "id": "8f2540c3-897d-49a9-9821-1e3f5a4a2280",
   "metadata": {},
   "source": [
    "Ans. Here sample mean is 4 and standard deviation is 1.5\n",
    "The confidence level is 99% or 0.01"
   ]
  },
  {
   "cell_type": "code",
   "execution_count": 39,
   "id": "6a76d9d3-9ed7-4edd-91ab-788d3f103653",
   "metadata": {},
   "outputs": [],
   "source": [
    "mean=4\n",
    "sd=1.5\n",
    "alpha=0.01\n",
    "t_value=t.ppf(alpha/2,49)\n",
    "standard_error=sd/np.sqrt(50)"
   ]
  },
  {
   "cell_type": "code",
   "execution_count": 40,
   "id": "2d848b68-4f95-488e-9d5f-a3b67a202093",
   "metadata": {},
   "outputs": [],
   "source": [
    "confidence_interval1=mean+(t_value*standard_error)\n",
    "confidence_interval2=mean-(t_value*standard_error)"
   ]
  },
  {
   "cell_type": "code",
   "execution_count": 41,
   "id": "c442c090-52fd-4104-8dba-5d1e85659aea",
   "metadata": {},
   "outputs": [
    {
     "name": "stdout",
     "output_type": "stream",
     "text": [
      "The population would be between(3.4314963358572577 , 4.568503664142742)\n"
     ]
    }
   ],
   "source": [
    "print(f\"The population would be between({confidence_interval1} , {confidence_interval2})\")"
   ]
  }
 ],
 "metadata": {
  "kernelspec": {
   "display_name": "Python 3 (ipykernel)",
   "language": "python",
   "name": "python3"
  },
  "language_info": {
   "codemirror_mode": {
    "name": "ipython",
    "version": 3
   },
   "file_extension": ".py",
   "mimetype": "text/x-python",
   "name": "python",
   "nbconvert_exporter": "python",
   "pygments_lexer": "ipython3",
   "version": "3.10.8"
  }
 },
 "nbformat": 4,
 "nbformat_minor": 5
}
