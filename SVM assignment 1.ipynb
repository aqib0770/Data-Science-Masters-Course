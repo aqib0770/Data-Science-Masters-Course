{
 "cells": [
  {
   "cell_type": "markdown",
   "id": "1a3c8da7-1692-4c32-b679-44e165178f7c",
   "metadata": {},
   "source": [
    "Q2. What is the objective function of a linear SVM?\n",
    "<br>Ans: The objective function of linear SVM is to find the optimal hyperplane that seprates the data points of different classes in feature space. The hyperplane tries to maximize the margin between closest points of different classes."
   ]
  },
  {
   "cell_type": "markdown",
   "id": "f5ca080a-b219-421b-8b38-c400a2408f6a",
   "metadata": {},
   "source": [
    "Q3. What is the kernel trick in SVM?\n",
    "<br>Ans: The kernel trick in SVM is used to solve non linear classification problems by transforming the features into higher dimensions where it may be linearly separable."
   ]
  },
  {
   "cell_type": "markdown",
   "id": "0c07b8bf-e6b6-4e64-956c-b9e6fb0d2808",
   "metadata": {},
   "source": [
    "Q4. What is the role of support vectors in SVM Explain with example\n",
    "<br>Ans: Support vectors are the data points that lie closest to the hyperplane. They help us to determine the marginal plane so that the distance between them is maximum.\n",
    "<br>For example: Lets suppose, we have a 2d dataset with 2 classes where the points can be separated by a straight line. The support vectors in this case would be points closest to the hyperplane."
   ]
  },
  {
   "cell_type": "markdown",
   "id": "713f707f-7401-4132-ab74-01f0d9d505e1",
   "metadata": {},
   "source": [
    "Q6. SVM Implementation through Iris dataset.\n",
    "\n",
    "- Load the iris dataset from the scikit-learn library and split it into a training set and a testing setl\n",
    "- Train a linear SVM classifier on the training set and predict the labels for the testing setl\n",
    "- Compute the accuracy of the model on the testing setl\n",
    "- Plot the decision boundaries of the trained model using two of the featuresl\n",
    "- Try different values of the regularisation parameter C and see how it affects the performance of\n",
    "the model."
   ]
  },
  {
   "cell_type": "code",
   "execution_count": 1,
   "id": "6e96c140-7075-4eb1-b260-c015f6af999e",
   "metadata": {},
   "outputs": [],
   "source": [
    "from sklearn.datasets import load_iris\n",
    "from sklearn.svm import SVC\n",
    "from sklearn.model_selection import train_test_split\n",
    "import pandas as pd\n",
    "import seaborn as sns"
   ]
  },
  {
   "cell_type": "code",
   "execution_count": 2,
   "id": "4ee3a83a-cbd4-4fde-9c07-daa96e661469",
   "metadata": {},
   "outputs": [],
   "source": [
    "dataset=load_iris()"
   ]
  },
  {
   "cell_type": "code",
   "execution_count": 3,
   "id": "96e03ccc-e115-466f-af17-b9c5c66138ed",
   "metadata": {},
   "outputs": [],
   "source": [
    "x=dataset.data\n",
    "y=dataset.target"
   ]
  },
  {
   "cell_type": "code",
   "execution_count": 4,
   "id": "508f944f-f317-4a5a-8db5-ee56b216daa5",
   "metadata": {},
   "outputs": [],
   "source": [
    "x_train,x_test,y_train,y_test=train_test_split(x,y,test_size=0.20)"
   ]
  },
  {
   "cell_type": "code",
   "execution_count": 5,
   "id": "173ea2d1-1c13-49af-9415-e24186f5f4b9",
   "metadata": {},
   "outputs": [],
   "source": [
    "C=[0.01,0.1,1,10]"
   ]
  },
  {
   "cell_type": "code",
   "execution_count": 6,
   "id": "550f3c5e-1ef9-4f6a-8aab-e4a2f21d1123",
   "metadata": {},
   "outputs": [],
   "source": [
    "from sklearn.metrics import accuracy_score"
   ]
  },
  {
   "cell_type": "code",
   "execution_count": 7,
   "id": "d8d01db3-3cd3-4fbd-821e-942310296844",
   "metadata": {},
   "outputs": [
    {
     "name": "stdout",
     "output_type": "stream",
     "text": [
      "The accoracy score for C value of 0.01 is: 0.9\n",
      "The accoracy score for C value of 0.1 is: 1.0\n",
      "The accoracy score for C value of 1 is: 1.0\n",
      "The accoracy score for C value of 10 is: 0.97\n"
     ]
    }
   ],
   "source": [
    "for i in C:\n",
    "    svc=SVC(kernel='linear',C=i)\n",
    "    svc.fit(x_train,y_train)\n",
    "    y_pred=svc.predict(x_test)\n",
    "    \n",
    "    print(f\"The accoracy score for C value of {i} is: {accuracy_score(y_test,y_pred):.2}\")"
   ]
  },
  {
   "cell_type": "code",
   "execution_count": null,
   "id": "eba77113-6ef8-48e9-82a2-d71344e042d8",
   "metadata": {},
   "outputs": [],
   "source": []
  },
  {
   "cell_type": "code",
   "execution_count": null,
   "id": "d7785923-7427-4e19-a8e9-7cb52db6d3b0",
   "metadata": {},
   "outputs": [],
   "source": []
  },
  {
   "cell_type": "code",
   "execution_count": null,
   "id": "018bccef-30b5-4b0e-a69d-ec3f00d72203",
   "metadata": {},
   "outputs": [],
   "source": []
  }
 ],
 "metadata": {
  "kernelspec": {
   "display_name": "Python 3 (ipykernel)",
   "language": "python",
   "name": "python3"
  },
  "language_info": {
   "codemirror_mode": {
    "name": "ipython",
    "version": 3
   },
   "file_extension": ".py",
   "mimetype": "text/x-python",
   "name": "python",
   "nbconvert_exporter": "python",
   "pygments_lexer": "ipython3",
   "version": "3.10.8"
  }
 },
 "nbformat": 4,
 "nbformat_minor": 5
}
