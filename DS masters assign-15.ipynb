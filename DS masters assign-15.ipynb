{
 "cells": [
  {
   "cell_type": "markdown",
   "id": "6daeeaa4-b712-4d5a-9e16-8f70f0fd2f6d",
   "metadata": {},
   "source": [
    "Q1. Explain GET and POST methods."
   ]
  },
  {
   "cell_type": "markdown",
   "id": "b8d1d22c-3b36-4848-bb38-76de8da8ce8c",
   "metadata": {},
   "source": [
    "Ans) The GET method is used to request the data from the specified source. It is most commonly used to make a request. This method should never be used while dealing with sensitive data.\n",
    "<br/>The POST method is used to send the data to a specified source. It is most commonly used to send the data to a form. POST requests are more secured than GET."
   ]
  },
  {
   "cell_type": "markdown",
   "id": "c8b0df1e-0024-44ba-ac67-b6090e79d623",
   "metadata": {},
   "source": [
    "Q2. Why is request used in Flask?"
   ]
  },
  {
   "cell_type": "markdown",
   "id": "f46bd5c8-041a-4589-bac6-6f8f9e9b597c",
   "metadata": {},
   "source": [
    "Ans) Request is used to access the incoming request data. By using request object applications can access the form data,headers and can also modify the response that is sent back to the client."
   ]
  },
  {
   "cell_type": "markdown",
   "id": "4c287bc4-26d7-4dcd-882d-4833db45a1c2",
   "metadata": {},
   "source": [
    "Q3. Why is redirect() used in Flask?"
   ]
  },
  {
   "cell_type": "markdown",
   "id": "ee6fe273-9e2d-4239-ae5c-bd73d23d4cfd",
   "metadata": {},
   "source": [
    "Ans) The redirect() method is used in Flask to redirect the user to a different URL when a particular requirement is met."
   ]
  },
  {
   "cell_type": "markdown",
   "id": "f9361335-f9d3-4551-8729-37c3dd7bb40d",
   "metadata": {},
   "source": [
    "Q4. What are templates in Flask? Why is the render_template() function used?"
   ]
  },
  {
   "cell_type": "markdown",
   "id": "cb9fbca2-368e-4d01-9f93-4b11bfb49a2b",
   "metadata": {},
   "source": [
    "Ans) Templates are the files that contain HTML files. They allow us to separate the presentation logic and application logic. The render_template() function is used to select any file and pass any variable it needs."
   ]
  },
  {
   "cell_type": "markdown",
   "id": "8033eba3-cb10-4c9c-934b-b379b49f631c",
   "metadata": {},
   "source": []
  }
 ],
 "metadata": {
  "kernelspec": {
   "display_name": "Python 3 (ipykernel)",
   "language": "python",
   "name": "python3"
  },
  "language_info": {
   "codemirror_mode": {
    "name": "ipython",
    "version": 3
   },
   "file_extension": ".py",
   "mimetype": "text/x-python",
   "name": "python",
   "nbconvert_exporter": "python",
   "pygments_lexer": "ipython3",
   "version": "3.10.8"
  }
 },
 "nbformat": 4,
 "nbformat_minor": 5
}
