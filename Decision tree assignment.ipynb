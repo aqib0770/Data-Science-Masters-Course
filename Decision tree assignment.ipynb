{
 "cells": [
  {
   "cell_type": "markdown",
   "id": "d27a4fc9-edd2-487f-9bd6-4544c863186e",
   "metadata": {},
   "source": [
    "Q1. Describe the decision tree classifier algorithm and how it works to make predictions.\n",
    "<br>Ans: Decision trees used to predict target variables by learning simple decision rules from the dataset of independent features."
   ]
  },
  {
   "cell_type": "markdown",
   "id": "0c4fe029-84be-468b-b12a-1ea87fd26ca8",
   "metadata": {},
   "source": [
    "Q2. Provide a step-by-step explanation of the mathematical intuition behind decision tree classification.\n",
    "<br>Ans: Decision tree classification mathematical intution is based on purity check and information gain. Entropy and Gini Impurity are used to check the purity of the node while information gain is used to determine from which feature, split should start.\n",
    "- Entropy is calculated by negative sum of probability of each class multiplied by lograithm of that probability.\n",
    "- Information gain is calculated by difference between entropy and submission of weighted average of entropies of each subset being splitted."
   ]
  },
  {
   "cell_type": "markdown",
   "id": "d743d0e5-0830-4cb1-89fe-c40770f0112f",
   "metadata": {},
   "source": [
    "Q4. Discuss the geometric intuition behind decision tree classification and how it can be used to make\n",
    "predictions.\n",
    "<br>Ans: The geomtric intution between decisiom tree classification is that it partitions the feature space into regions, where each node corresponds to a class label.\n",
    "<br>When making a decision, the tree traverses from root node to leaf node following the branches according to the features instance"
   ]
  },
  {
   "cell_type": "markdown",
   "id": "c5cb5cce-6ac2-4160-8961-e23c28450f10",
   "metadata": {},
   "source": [
    "Q5. Define the confusion matrix and describe how it can be used to evaluate the performance of a\n",
    "classification model.\n",
    "<br>And: A confusion matrix is a table that compares the predicted values and true values and summarizes the result in matrix format. The confusion matrix for binary classification model has two rows and two columns where each row represents the predicted values and each column represents actual values. The four entries in the matrix represents number of true positives(TP), false positive(FP), False negative(FN), true negative(TN).\n",
    "<br>Example:\n",
    "|   | Actual Positive | Actual Negative |\n",
    "|---|---|---|\n",
    "| Predicted Positive | TP | FP |\n",
    "| Predicted Negative | FN | TN |\n",
    "\n",
    "<br>The confusion matrix can be used to calculate various performance metrics such as accuracy, precision, recall and f1-score.\n",
    "- Accuracy:- It is use to measure overall performance of the model. Formula- (TP+TN)/(TP+FP+FN+TN)\n",
    "- Precision:- It is used to measure the accuracy of model's positive predictions. Formula- (TP)/(TP+FP)\n",
    "- Recall:- It is the measure of effectiveness of model in identifying all relevant instances from a dataset. Formula- (TP)/(TP+FN)\n",
    "- F1 score:- It is used to measure the overall performance of the model. Formula- (2 * Precision * Recall)/(Precision+Recall)"
   ]
  },
  {
   "cell_type": "markdown",
   "id": "9192e6be-4eaf-4c12-9c74-a526f5d096db",
   "metadata": {},
   "source": [
    "Q6. Provide an example of a confusion matrix and explain how precision, recall, and F1 score can be\n",
    "calculated from it.\n",
    "<br>Lets consider the below confusion matrix and calculate precision,recall and f1 score.\n",
    "<br>\n",
    "|   | Actual Positive | Actual Negative |\n",
    "|---|---|---|\n",
    "| Predicted Positive | 30 | 10 |\n",
    "| Predicted Negative | 20 | 40 |\n",
    "\n",
    "<br>Precision calculation: (TP)/(TP+FP)=30/(30+10)=0.75\n",
    "<br>Recall calculation: (TP)/(TP+FN)=30/(30+20)=0.6\n",
    "<br>F1 score calculation: (2 * Precision * Recall)/(Precision+Recall)=(2 * 0.75 * 0.6)/(0.75+0.6)=0.66"
   ]
  },
  {
   "cell_type": "markdown",
   "id": "3ba7311f-c3e2-4a9f-938f-8164ad8c4b5f",
   "metadata": {},
   "source": [
    "Q7. Discuss the importance of choosing an appropriate evaluation metric for a classification problem and\n",
    "explain how this can be done.\n",
    "<br>Ans: Choosing the appropriate evaluation matric is important for assessing the performance of a classification model.\n",
    "<br>For example, in a medical diagnosis problem the cost of false negative(failing to identify the disease) is much higher than cost of False positive(incorrectly diagnosing the disease), In this case Recall may be the appropriate matric than precision.\n",
    "<br>On the other hand, in a spam email classification problem, the cost of False positive(incorrectly marking the email as spam) is much higher than the cost of False negative(failing to identify the spam), In this case Recall would be the appropriate matric."
   ]
  },
  {
   "cell_type": "code",
   "execution_count": null,
   "id": "7a773029-195d-4fdc-834d-06ca9e3e38b9",
   "metadata": {},
   "outputs": [],
   "source": []
  },
  {
   "cell_type": "code",
   "execution_count": null,
   "id": "981f9eda-1b13-4228-be73-a96c115b889d",
   "metadata": {},
   "outputs": [],
   "source": []
  },
  {
   "cell_type": "code",
   "execution_count": null,
   "id": "8fddfd1d-09ce-4797-bf83-b4d803654a76",
   "metadata": {},
   "outputs": [],
   "source": []
  },
  {
   "cell_type": "code",
   "execution_count": null,
   "id": "11551ea6-11f7-4385-a716-be06b2a55e49",
   "metadata": {},
   "outputs": [],
   "source": []
  },
  {
   "cell_type": "code",
   "execution_count": null,
   "id": "fec62351-827a-4464-bb0d-caa78128ab59",
   "metadata": {},
   "outputs": [],
   "source": []
  },
  {
   "cell_type": "code",
   "execution_count": null,
   "id": "9c14806b-a6d0-4690-8dec-b0175170e4a9",
   "metadata": {},
   "outputs": [],
   "source": []
  },
  {
   "cell_type": "code",
   "execution_count": null,
   "id": "023b1280-07b4-48d8-81ca-7659eb6f4217",
   "metadata": {},
   "outputs": [],
   "source": []
  },
  {
   "cell_type": "code",
   "execution_count": null,
   "id": "55bbad12-da01-492c-96d4-a19dd7a79f6a",
   "metadata": {},
   "outputs": [],
   "source": []
  },
  {
   "cell_type": "code",
   "execution_count": null,
   "id": "f7fe89b4-f892-4075-987e-b69368d8d080",
   "metadata": {},
   "outputs": [],
   "source": []
  }
 ],
 "metadata": {
  "kernelspec": {
   "display_name": "Python 3 (ipykernel)",
   "language": "python",
   "name": "python3"
  },
  "language_info": {
   "codemirror_mode": {
    "name": "ipython",
    "version": 3
   },
   "file_extension": ".py",
   "mimetype": "text/x-python",
   "name": "python",
   "nbconvert_exporter": "python",
   "pygments_lexer": "ipython3",
   "version": "3.10.8"
  }
 },
 "nbformat": 4,
 "nbformat_minor": 5
}
