{
 "cells": [
  {
   "cell_type": "markdown",
   "id": "42b48aa3-0fa1-42f1-88a9-41b0dcc16e69",
   "metadata": {},
   "source": [
    "Q1. What is multiprocessing in python? Why is it useful?"
   ]
  },
  {
   "cell_type": "markdown",
   "id": "9aee9d18-0c81-47b3-ab0b-3bfe7135b04d",
   "metadata": {},
   "source": [
    "Ans) Multiprocessing means running multiple instance of a program parallely.It runs the multiple processes simultaneously within a single thread.It is very useful as it improves the performance of program by using multiple CPUs or CPU cores."
   ]
  },
  {
   "cell_type": "markdown",
   "id": "14288e93-7bc5-4c11-b4a4-487490438532",
   "metadata": {},
   "source": [
    "Q2. What are the differences between multiprocessing and multithreading?"
   ]
  },
  {
   "cell_type": "markdown",
   "id": "af938212-8741-4e4c-9587-2f074651ae4e",
   "metadata": {},
   "source": [
    "Ans) Multithreading means running multiple threads within a single process while multiprocessing runs multiple processes simultaneously within a single thread. Multithreading is useful in saving disk space while multiprocessing improves the efficiency of a program. Latency of multiprocessing is lower while of multithreading is higher because it uses the single process."
   ]
  },
  {
   "cell_type": "markdown",
   "id": "89fc9232-26bd-44ea-afe0-673fb6b600e3",
   "metadata": {},
   "source": [
    "Q3. Write a python code to create a process using the multiprocessing module."
   ]
  },
  {
   "cell_type": "code",
   "execution_count": 44,
   "id": "63fc63ff-2cea-462d-a877-b9a4235785f1",
   "metadata": {},
   "outputs": [
    {
     "name": "stdout",
     "output_type": "stream",
     "text": [
      "Python code to create a process\n"
     ]
    }
   ],
   "source": [
    "import multiprocessing\n",
    "def test():\n",
    "    print(\"Python code to create a process\")\n",
    "if __name__=='__main__':\n",
    "    m1=multiprocessing.Process(target=test)\n",
    "    m1.start()\n",
    "    m1.join()"
   ]
  },
  {
   "cell_type": "markdown",
   "id": "6d5a4d56-8f5e-4479-b20a-97ffd5c703b2",
   "metadata": {},
   "source": [
    "Q4. What is a multiprocessing pool in python? Why is it used?"
   ]
  },
  {
   "cell_type": "markdown",
   "id": "37bbc595-78c1-4812-ab3c-d8a5bc66b594",
   "metadata": {},
   "source": [
    "Ans) Multiprocessing poll is the way to parallelize the execution of the function across multiple input values. It works by creating a poll of worker processes which are then distribute the work across multiple processes. It is useful in providing large amount of arguments to the program."
   ]
  },
  {
   "cell_type": "markdown",
   "id": "4b61670e-72df-4a88-9a2f-081beb1476e7",
   "metadata": {},
   "source": [
    "Q5. How can we create a pool of worker processes in python using the multiprocessing module?"
   ]
  },
  {
   "cell_type": "code",
   "execution_count": 51,
   "id": "5847f645-1665-4737-bc51-1939a8e6ae86",
   "metadata": {},
   "outputs": [
    {
     "name": "stdout",
     "output_type": "stream",
     "text": [
      "[1, 4, 9, 16, 25, 36] \n",
      " [2, 4, 6, 8, 10, 12]\n"
     ]
    }
   ],
   "source": [
    "def worker1(x):\n",
    "    return x**2\n",
    "def worker2(x):\n",
    "    return x*2\n",
    "if __name__=='__main__':\n",
    "    num=[1,2,3,4,5,6]\n",
    "    with multiprocessing.Pool(processes=5) as pool:\n",
    "        out=pool.map(worker1,num)\n",
    "        out1=pool.map(worker2,num)\n",
    "        print(out,\"\\n\",out1)"
   ]
  },
  {
   "cell_type": "markdown",
   "id": "032472c5-70a0-4628-8c7d-d02cb1e8350b",
   "metadata": {},
   "source": [
    "Q6. Write a python program to create 4 processes, each process should print a different number using the\n",
    "multiprocessing module in python."
   ]
  },
  {
   "cell_type": "code",
   "execution_count": 54,
   "id": "ab29c8c7-4c4f-407f-8d1b-253055f848a3",
   "metadata": {},
   "outputs": [
    {
     "name": "stdout",
     "output_type": "stream",
     "text": [
      "Process 1\n",
      "Process 2\n",
      "Process 3\n",
      "Process 4\n"
     ]
    }
   ],
   "source": [
    "def print_num(num):\n",
    "    print(f\"Process {num}\")\n",
    "if __name__=='__main__':\n",
    "    for i in range(1,5):\n",
    "        m=multiprocessing.Process(target=print_num,args=(i,))\n",
    "        m.start()\n",
    "    for j in range(1,5):\n",
    "        m.join()"
   ]
  }
 ],
 "metadata": {
  "kernelspec": {
   "display_name": "Python 3 (ipykernel)",
   "language": "python",
   "name": "python3"
  },
  "language_info": {
   "codemirror_mode": {
    "name": "ipython",
    "version": 3
   },
   "file_extension": ".py",
   "mimetype": "text/x-python",
   "name": "python",
   "nbconvert_exporter": "python",
   "pygments_lexer": "ipython3",
   "version": "3.10.8"
  }
 },
 "nbformat": 4,
 "nbformat_minor": 5
}
