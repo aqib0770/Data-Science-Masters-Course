{
 "cells": [
  {
   "cell_type": "markdown",
   "id": "10bf8557-94aa-4a14-9a8c-915c49c97597",
   "metadata": {},
   "source": [
    "Q1. What are the three measures of central tendency?\n",
    "<br>Ans. Mean, median and mode are the three measures of central tendency."
   ]
  },
  {
   "cell_type": "markdown",
   "id": "de36e654-e3a2-47cc-8e33-efc62b37f5f3",
   "metadata": {},
   "source": [
    "Q2. What is the difference between the mean, median, and mode? How are they used to measure the\n",
    "central tendency of a dataset?\n",
    "<br>Ans. A mean is the average value of given observations, median is the middle value of the observation when sorted in ascending order and mode is the most frequent value in the given observations."
   ]
  },
  {
   "cell_type": "markdown",
   "id": "000ad79d-0372-4a20-9a1d-af8fdebf9bd2",
   "metadata": {},
   "source": [
    "Q3. Measure the three measures of central tendency for the given height data:\n",
    "[178,177,176,177,178.2,178,175,179,180,175,178.9,176.2,177,172.5,178,176.5]"
   ]
  },
  {
   "cell_type": "code",
   "execution_count": 1,
   "id": "b2107dd5-c156-4cf1-903f-0bed8edb148e",
   "metadata": {},
   "outputs": [],
   "source": [
    "import numpy as np\n",
    "from scipy import stats"
   ]
  },
  {
   "cell_type": "code",
   "execution_count": 2,
   "id": "b92300c3-08e7-450a-8d73-54b1dee7f313",
   "metadata": {},
   "outputs": [],
   "source": [
    "data=[178,177,176,177,178.2,178,175,179,180,175,178.9,176.2,177,172.5,178,176.5]"
   ]
  },
  {
   "cell_type": "code",
   "execution_count": 3,
   "id": "146c9a6c-6711-4143-af9a-5a2fc048442f",
   "metadata": {},
   "outputs": [
    {
     "name": "stdout",
     "output_type": "stream",
     "text": [
      "Mean:- 177.01875\n",
      "Median:-177.0\n",
      "Mode:- ModeResult(mode=array([177.]), count=array([3]))\n"
     ]
    },
    {
     "name": "stderr",
     "output_type": "stream",
     "text": [
      "/tmp/ipykernel_88/3952507661.py:3: FutureWarning: Unlike other reduction functions (e.g. `skew`, `kurtosis`), the default behavior of `mode` typically preserves the axis it acts along. In SciPy 1.11.0, this behavior will change: the default value of `keepdims` will become False, the `axis` over which the statistic is taken will be eliminated, and the value None will no longer be accepted. Set `keepdims` to True or False to avoid this warning.\n",
      "  mode=stats.mode(data)\n"
     ]
    }
   ],
   "source": [
    "mean=np.mean(data)\n",
    "median=np.median(data)\n",
    "mode=stats.mode(data)\n",
    "print(f\"Mean:- {mean}\\nMedian:-{median}\\nMode:- {mode}\")"
   ]
  },
  {
   "cell_type": "markdown",
   "id": "45bac87f-f597-4d39-9f44-74e46a28a375",
   "metadata": {},
   "source": [
    "Q4. Find the standard deviation for the given data:\n",
    "[178,177,176,177,178.2,178,175,179,180,175,178.9,176.2,177,172.5,178,176.5]"
   ]
  },
  {
   "cell_type": "code",
   "execution_count": 4,
   "id": "df154b81-8d56-454f-8aff-89393d44e83f",
   "metadata": {},
   "outputs": [],
   "source": [
    "data2=[178,177,176,177,178.2,178,175,179,180,175,178.9,176.2,177,172.5,178,176.5]"
   ]
  },
  {
   "cell_type": "code",
   "execution_count": 5,
   "id": "b125dd27-813c-47ad-8076-838f93e7242b",
   "metadata": {},
   "outputs": [
    {
     "data": {
      "text/plain": [
       "1.7885814036548633"
      ]
     },
     "execution_count": 5,
     "metadata": {},
     "output_type": "execute_result"
    }
   ],
   "source": [
    "np.std(data2)"
   ]
  },
  {
   "cell_type": "markdown",
   "id": "33c97e8b-8368-413b-9327-61bab5092fc7",
   "metadata": {},
   "source": [
    "Q5. How are measures of dispersion such as range, variance, and standard deviation used to describe\n",
    "the spread of a dataset? Provide an example.\n",
    "<br>Ans. Range: It is the difference between maximum and minimum value of the data set.\n",
    "<br>Variance: It shows how much data is spread.\n",
    "<br>Standard Deviation: It is the square root of variance or the average of difference between each data point.\n",
    "<br>Lets take the below data of age as an exampls."
   ]
  },
  {
   "cell_type": "code",
   "execution_count": 6,
   "id": "5245393f-7bbb-460f-8ad1-31d5331f4dde",
   "metadata": {},
   "outputs": [],
   "source": [
    "age=[20,23,25,27,28,30,32,35,38,40]"
   ]
  },
  {
   "cell_type": "code",
   "execution_count": 7,
   "id": "e8c2d72b-2b28-4442-8b93-a41fca97c6bd",
   "metadata": {},
   "outputs": [],
   "source": [
    "#If we want to calculate the range of this dataset then subtract the smallest value(20) from the largest value(40) which is 20"
   ]
  },
  {
   "cell_type": "code",
   "execution_count": 8,
   "id": "3d0a2496-8e4c-4afc-8cb4-3dfcead6823b",
   "metadata": {},
   "outputs": [
    {
     "data": {
      "text/plain": [
       "29.8"
      ]
     },
     "execution_count": 8,
     "metadata": {},
     "output_type": "execute_result"
    }
   ],
   "source": [
    "# Now let us find the variance manually without using built in function\n",
    "#First find the mean of the data\n",
    "mean=np.mean(age)\n",
    "mean"
   ]
  },
  {
   "cell_type": "code",
   "execution_count": 9,
   "id": "119de595-a63b-4a8c-b6c6-6bc3f3359db5",
   "metadata": {},
   "outputs": [],
   "source": [
    "#Now subtract all the values of dataset from the mean and store it in 'var' variable\n",
    "var=[]\n",
    "for i in age:\n",
    "    var.append(i-mean)"
   ]
  },
  {
   "cell_type": "code",
   "execution_count": 10,
   "id": "366dc133-9035-45c0-bd4e-2d20a7b4b2bc",
   "metadata": {},
   "outputs": [
    {
     "data": {
      "text/plain": [
       "[-9.8,\n",
       " -6.800000000000001,\n",
       " -4.800000000000001,\n",
       " -2.8000000000000007,\n",
       " -1.8000000000000007,\n",
       " 0.1999999999999993,\n",
       " 2.1999999999999993,\n",
       " 5.199999999999999,\n",
       " 8.2,\n",
       " 10.2]"
      ]
     },
     "execution_count": 10,
     "metadata": {},
     "output_type": "execute_result"
    }
   ],
   "source": [
    "var"
   ]
  },
  {
   "cell_type": "code",
   "execution_count": 11,
   "id": "bcdec26a-3e32-49bf-a8d1-ef3828e8c3fd",
   "metadata": {},
   "outputs": [
    {
     "data": {
      "text/plain": [
       "[96.04000000000002,\n",
       " 46.24000000000001,\n",
       " 23.040000000000006,\n",
       " 7.840000000000004,\n",
       " 3.2400000000000024,\n",
       " 0.039999999999999716,\n",
       " 4.839999999999997,\n",
       " 27.039999999999992,\n",
       " 67.24,\n",
       " 104.03999999999999]"
      ]
     },
     "execution_count": 11,
     "metadata": {},
     "output_type": "execute_result"
    }
   ],
   "source": [
    "#Now square all the values of 'var' variable and store it in square variable\n",
    "square=[]\n",
    "for i in var:\n",
    "    square.append(i*i)\n",
    "square"
   ]
  },
  {
   "cell_type": "code",
   "execution_count": 12,
   "id": "44b4e9c1-c7a5-4ef3-9d6d-ac19ebbc0bea",
   "metadata": {},
   "outputs": [
    {
     "data": {
      "text/plain": [
       "37.96"
      ]
     },
     "execution_count": 12,
     "metadata": {},
     "output_type": "execute_result"
    }
   ],
   "source": [
    "# Now find the average of squared dataset\n",
    "variance=np.mean(square)\n",
    "variance"
   ]
  },
  {
   "cell_type": "code",
   "execution_count": 13,
   "id": "06a0b9fd-d211-435d-90bc-f32fb60c2190",
   "metadata": {},
   "outputs": [
    {
     "data": {
      "text/plain": [
       "6.161168720299745"
      ]
     },
     "execution_count": 13,
     "metadata": {},
     "output_type": "execute_result"
    }
   ],
   "source": [
    "standard_d=np.sqrt(variance)\n",
    "standard_d"
   ]
  },
  {
   "cell_type": "code",
   "execution_count": 14,
   "id": "d08665bc-5c9e-450c-b10b-fb7184796972",
   "metadata": {},
   "outputs": [
    {
     "data": {
      "text/plain": [
       "37.96"
      ]
     },
     "execution_count": 14,
     "metadata": {},
     "output_type": "execute_result"
    }
   ],
   "source": [
    "# verifying variance with built in function\n",
    "np.var(age)"
   ]
  },
  {
   "cell_type": "code",
   "execution_count": 15,
   "id": "a35bcc8a-be65-4dc5-9409-cb249ae07a7b",
   "metadata": {},
   "outputs": [
    {
     "data": {
      "text/plain": [
       "6.161168720299745"
      ]
     },
     "execution_count": 15,
     "metadata": {},
     "output_type": "execute_result"
    }
   ],
   "source": [
    "#Verifying standard deviation with built in function\n",
    "np.std(age)"
   ]
  },
  {
   "cell_type": "markdown",
   "id": "2bf91cc3-c659-43eb-bf26-3a972aec7d48",
   "metadata": {},
   "source": [
    "Q6. What is a Venn diagram?\n",
    "<br>Ans. A Venn diagram is a graphical representation of relation between different data sets."
   ]
  },
  {
   "cell_type": "markdown",
   "id": "8b0aab88-abd6-4583-8c8f-9d9845157b36",
   "metadata": {},
   "source": [
    "Q7. For the two given sets A = (2,3,4,5,6,7) & B = (0,2,6,8,10). Find:\n",
    "(i) A ∩ B\n",
    "(ii) A ⋃ B\n",
    "<br> A ∩ B={0,2,3,4,5,6,7,8,10}\n",
    "<br> A ⋃ B={2,6}"
   ]
  },
  {
   "cell_type": "markdown",
   "id": "48312997-4fed-44e8-8272-2631d06dc7d4",
   "metadata": {},
   "source": [
    "Q8. What do you understand about skewness in data?\n",
    "<br>Ans. Skewness refers to the degree of asymmetry in distribution of the data in a graph. If mean, median and mode are perfectly at the center of the distribution then there is no skewness. When the tail of distribution is longer on positive side then it is positive skewness and vice or versa."
   ]
  },
  {
   "cell_type": "markdown",
   "id": "efd244b1-9c35-4c1a-8fd7-e56ff2325843",
   "metadata": {},
   "source": [
    "Q9. If a data is right skewed then what will be the position of median with respect to mean?\n",
    "<br>Ans. If the data is right skewed then position of median will be towards left of mean or less than mean."
   ]
  },
  {
   "cell_type": "markdown",
   "id": "d89d4d7d-e0d7-4e24-9fe4-9e93e032e85b",
   "metadata": {},
   "source": [
    "Q10. Explain the difference between covariance and correlation. How are these measures used in\n",
    "statistical analysis?\n",
    "<br>Ans. Covariance and correlation are both measures of relationship between two variables. Covariance indicates the extent to which two variables change together while correlation refers to the strength of relationship between two variables.\n",
    "Covariance can take on any value between negative infinity to positive infinity while correlation is a scaled version of covariance that take on values between +1 and -1.\n",
    "<br>In statistical analysi, these measures are used to determine the relationship between two variables and helps to make conclusions. For example, if there is a relationship between rainfall and crop yield and we want to make some decisions, then we can calculate covariance and correlation"
   ]
  },
  {
   "cell_type": "markdown",
   "id": "070bb1c5-ab4e-4a32-96e2-f107d53107c9",
   "metadata": {},
   "source": [
    "Q11. What is the formula for calculating the sample mean? Provide an example calculation for a\n",
    "dataset.\n",
    "<br>Ans. The formula to calculate the sample mean is Σxi/n(sum of all the values/number of values)\n",
    "<br>Let's take the following data to calculate the mean [1,2,3,4,5,6,4,3,4]\n",
    "<br>Here the sum of all the values is 32 and there are 9 values. Therefore the mean will be 32/9 which is 3.55\n",
    "<br>Now lets calculate the mean with built in function and verify our answer"
   ]
  },
  {
   "cell_type": "code",
   "execution_count": 16,
   "id": "1ebc46a6-b80e-4817-8f5a-5568b1749db7",
   "metadata": {},
   "outputs": [
    {
     "data": {
      "text/plain": [
       "3.5555555555555554"
      ]
     },
     "execution_count": 16,
     "metadata": {},
     "output_type": "execute_result"
    }
   ],
   "source": [
    "np.mean([1,2,3,4,5,6,4,3,4])"
   ]
  },
  {
   "cell_type": "markdown",
   "id": "fd90481d-aaa1-4db1-bce9-84bce01e7bd1",
   "metadata": {},
   "source": [
    "Q12. For a normal distribution data what is the relationship between its measure of central tendency?\n",
    "<br>For a normal distribution data the mean,median and mode are equal. Because a normal distribution is symmetrical around its mean."
   ]
  },
  {
   "cell_type": "markdown",
   "id": "53a7ed9f-878e-48a7-9f3c-cf6bcfbeec39",
   "metadata": {},
   "source": [
    "Q13. How is covariance different from correlation?\n",
    "<br>Ans. Covariance indicates the extent of variable being dependent on each other while correlation signifies the strength of association between them.\n",
    "<br>Covariance lie between any negative infinity to positive infinity while correlation lie between -1 and +1"
   ]
  },
  {
   "cell_type": "markdown",
   "id": "9facac41-e0c0-4fab-bc05-5de54b4415e2",
   "metadata": {},
   "source": [
    "Q14. How do outliers affect measures of central tendency and dispersion? Provide an example.\n",
    "<br>Ans. Outliers can have significant impact on measures of central tendency and dispersion. An outlier is an observation that lies at very abnormal or different distance from other values in data.\n",
    "<br>For example, lets take this data [1,2,3,4,5,6,7,8,9,100]\n",
    "<br>In this data 100 is an outlier because it is at very large distance as compared to other value. So if we calculate the mean, it will be 14.5 and median will be 5.5. But if we remove the outlier(100) then the mean will be 5 and median will also be 5. We can that that presence of outlier can significantly affect the mean. We didn't calculate the mode because all values occur only once.\n",
    "<br>In terms of measure of dispersion, if we consider the outlier then the range will be 99, standard deviation will be 28.6 and variance will be 818.25. And if we didn't consider the outlier then the range will be 8, standard deviation will be 2.58 and variance will be 6.66.\n",
    "<br>In the above example we can clearly how much impact can outlier create in terms of central tendency and dispersion measurement"
   ]
  }
 ],
 "metadata": {
  "kernelspec": {
   "display_name": "Python 3 (ipykernel)",
   "language": "python",
   "name": "python3"
  },
  "language_info": {
   "codemirror_mode": {
    "name": "ipython",
    "version": 3
   },
   "file_extension": ".py",
   "mimetype": "text/x-python",
   "name": "python",
   "nbconvert_exporter": "python",
   "pygments_lexer": "ipython3",
   "version": "3.10.8"
  }
 },
 "nbformat": 4,
 "nbformat_minor": 5
}
