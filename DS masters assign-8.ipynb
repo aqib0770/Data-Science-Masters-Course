{
 "cells": [
  {
   "cell_type": "markdown",
   "id": "b473208e-ba9b-4b89-aac7-3838f878939a",
   "metadata": {},
   "source": [
    "Q1.What is an Exception in python? Write the difference between Exceptions and Syntax errors."
   ]
  },
  {
   "cell_type": "markdown",
   "id": "f897c23a-43ca-425f-9ac1-137acab28ec1",
   "metadata": {},
   "source": [
    "Ans) An Exception in Python is an error that occurs. It can be caused by incorrect input, incorrect syntax or run-time error.\n",
    "<br/> The main difference between Exception and Syntax errors is that syntax error occured when code is not valid according to the rules of language, whereas Exception occurs when code is valid but something unexpected happens during the execution of program.Syntax errors can be easily identified and fixed but Exceptions are hard to identify."
   ]
  },
  {
   "cell_type": "markdown",
   "id": "932e169a-e09c-44bf-9bb9-53595d76c62d",
   "metadata": {},
   "source": [
    "Q2. What happens when an exception is not handled? Explain with an example."
   ]
  },
  {
   "cell_type": "markdown",
   "id": "19594658-c9de-4720-847b-4f925ef448b4",
   "metadata": {},
   "source": [
    "Ans) When an exception is not handled, it will cause the program to crash.\n",
    "<br/>For example: When we try to open a file in read mode, if it dosen't exist, it will crash the program and give us error"
   ]
  },
  {
   "cell_type": "code",
   "execution_count": 22,
   "id": "a488969b-bc34-401b-85f6-3330c0cbabfa",
   "metadata": {},
   "outputs": [
    {
     "ename": "FileNotFoundError",
     "evalue": "[Errno 2] No such file or directory: 'aqib3.txt'",
     "output_type": "error",
     "traceback": [
      "\u001b[0;31m---------------------------------------------------------------------------\u001b[0m",
      "\u001b[0;31mFileNotFoundError\u001b[0m                         Traceback (most recent call last)",
      "Cell \u001b[0;32mIn[22], line 1\u001b[0m\n\u001b[0;32m----> 1\u001b[0m f\u001b[38;5;241m=\u001b[39m\u001b[38;5;28;43mopen\u001b[39;49m\u001b[43m(\u001b[49m\u001b[38;5;124;43m\"\u001b[39;49m\u001b[38;5;124;43maqib3.txt\u001b[39;49m\u001b[38;5;124;43m\"\u001b[39;49m\u001b[43m,\u001b[49m\u001b[38;5;124;43m\"\u001b[39;49m\u001b[38;5;124;43mr\u001b[39;49m\u001b[38;5;124;43m\"\u001b[39;49m\u001b[43m)\u001b[49m \u001b[38;5;66;03m#Error is created intentionally\u001b[39;00m\n",
      "File \u001b[0;32m/opt/conda/lib/python3.10/site-packages/IPython/core/interactiveshell.py:282\u001b[0m, in \u001b[0;36m_modified_open\u001b[0;34m(file, *args, **kwargs)\u001b[0m\n\u001b[1;32m    275\u001b[0m \u001b[38;5;28;01mif\u001b[39;00m file \u001b[38;5;129;01min\u001b[39;00m {\u001b[38;5;241m0\u001b[39m, \u001b[38;5;241m1\u001b[39m, \u001b[38;5;241m2\u001b[39m}:\n\u001b[1;32m    276\u001b[0m     \u001b[38;5;28;01mraise\u001b[39;00m \u001b[38;5;167;01mValueError\u001b[39;00m(\n\u001b[1;32m    277\u001b[0m         \u001b[38;5;124mf\u001b[39m\u001b[38;5;124m\"\u001b[39m\u001b[38;5;124mIPython won\u001b[39m\u001b[38;5;124m'\u001b[39m\u001b[38;5;124mt let you open fd=\u001b[39m\u001b[38;5;132;01m{\u001b[39;00mfile\u001b[38;5;132;01m}\u001b[39;00m\u001b[38;5;124m by default \u001b[39m\u001b[38;5;124m\"\u001b[39m\n\u001b[1;32m    278\u001b[0m         \u001b[38;5;124m\"\u001b[39m\u001b[38;5;124mas it is likely to crash IPython. If you know what you are doing, \u001b[39m\u001b[38;5;124m\"\u001b[39m\n\u001b[1;32m    279\u001b[0m         \u001b[38;5;124m\"\u001b[39m\u001b[38;5;124myou can use builtins\u001b[39m\u001b[38;5;124m'\u001b[39m\u001b[38;5;124m open.\u001b[39m\u001b[38;5;124m\"\u001b[39m\n\u001b[1;32m    280\u001b[0m     )\n\u001b[0;32m--> 282\u001b[0m \u001b[38;5;28;01mreturn\u001b[39;00m \u001b[43mio_open\u001b[49m\u001b[43m(\u001b[49m\u001b[43mfile\u001b[49m\u001b[43m,\u001b[49m\u001b[43m \u001b[49m\u001b[38;5;241;43m*\u001b[39;49m\u001b[43margs\u001b[49m\u001b[43m,\u001b[49m\u001b[43m \u001b[49m\u001b[38;5;241;43m*\u001b[39;49m\u001b[38;5;241;43m*\u001b[39;49m\u001b[43mkwargs\u001b[49m\u001b[43m)\u001b[49m\n",
      "\u001b[0;31mFileNotFoundError\u001b[0m: [Errno 2] No such file or directory: 'aqib3.txt'"
     ]
    }
   ],
   "source": [
    "f=open(\"aqib3.txt\",\"r\") #Error is created intentionally"
   ]
  },
  {
   "cell_type": "markdown",
   "id": "234746ba-8927-4fb5-a580-bb0d02cc9e85",
   "metadata": {},
   "source": [
    "Q3. Which Python statements are used to catch and handle exceptions? Explain with an example."
   ]
  },
  {
   "cell_type": "markdown",
   "id": "460d5991-ce0a-49eb-acc0-522dcf69d31a",
   "metadata": {},
   "source": [
    "Ans) The try-except statements in Python are used to catch and handle exceptions.\n",
    "<br/>Example:"
   ]
  },
  {
   "cell_type": "code",
   "execution_count": 7,
   "id": "46f18d5e-bf66-4845-9694-ec6e3a28cdc4",
   "metadata": {},
   "outputs": [
    {
     "name": "stdin",
     "output_type": "stream",
     "text": [
      "Enter a number kj\n"
     ]
    },
    {
     "name": "stdout",
     "output_type": "stream",
     "text": [
      "The number is not valid:  invalid literal for int() with base 10: 'kj'\n"
     ]
    }
   ],
   "source": [
    "try:\n",
    "    num=int(input(\"Enter a number\"))\n",
    "except ValueError as v:\n",
    "            print(\"The number is not valid: \",v)"
   ]
  },
  {
   "cell_type": "markdown",
   "id": "6c68226b-cbf2-4f9f-acf9-940ca77ede54",
   "metadata": {},
   "source": [
    "Q4. Explain with an example:\n",
    "<br/>a. try and else\n",
    "<br/>b. finally\n",
    "<br/>c. raise"
   ]
  },
  {
   "cell_type": "markdown",
   "id": "c390d998-e81c-4c30-b356-08d91ddbd280",
   "metadata": {},
   "source": [
    "Ans) a.try-else"
   ]
  },
  {
   "cell_type": "code",
   "execution_count": 8,
   "id": "fe487320-e18d-47df-b8f3-9a2362bc6f7e",
   "metadata": {},
   "outputs": [
    {
     "name": "stdin",
     "output_type": "stream",
     "text": [
      "Enter a number 78\n"
     ]
    },
    {
     "name": "stdout",
     "output_type": "stream",
     "text": [
      "The number is valid\n"
     ]
    }
   ],
   "source": [
    "try:\n",
    "    num=int(input(\"Enter a number\"))\n",
    "except ValueError as v:\n",
    "            print(\"The number is not valid: \",v)\n",
    "else:\n",
    "    print(\"The number is valid\")"
   ]
  },
  {
   "cell_type": "markdown",
   "id": "6c74404e-9ff7-4b6d-bc7b-6f14206a5045",
   "metadata": {},
   "source": [
    "b.finally"
   ]
  },
  {
   "cell_type": "code",
   "execution_count": 10,
   "id": "bda9f0c8-59e0-43d5-b4ae-fe84c477d806",
   "metadata": {},
   "outputs": [
    {
     "name": "stdout",
     "output_type": "stream",
     "text": [
      "This code will execute in any condition\n"
     ]
    }
   ],
   "source": [
    "try:\n",
    "    f=open(\"aqib2.txt\",\"w\")\n",
    "    f.write(\"My name is Aqib\")\n",
    "except Exception as e:\n",
    "    print(\"There is an error in try statement: \",e)\n",
    "finally:\n",
    "    f.close()\n",
    "    print(\"This code will execute in any condition\")"
   ]
  },
  {
   "cell_type": "markdown",
   "id": "a43601eb-af9a-4f8d-a1aa-f1bed7f6393d",
   "metadata": {},
   "source": [
    "c.raise"
   ]
  },
  {
   "cell_type": "code",
   "execution_count": 15,
   "id": "2bf31440-9211-4bd0-b883-f19e443622fa",
   "metadata": {},
   "outputs": [
    {
     "name": "stdin",
     "output_type": "stream",
     "text": [
      "Please enter your age:  ki\n"
     ]
    },
    {
     "name": "stdout",
     "output_type": "stream",
     "text": [
      "invalid literal for int() with base 10: 'ki'\n"
     ]
    }
   ],
   "source": [
    "try:\n",
    "    age = int(input(\"Please enter your age: \"))\n",
    "    if age < 0:\n",
    "        raise ValueError(\"Age cannot be negative\")\n",
    "except ValueError as e:\n",
    "    print(e)"
   ]
  },
  {
   "cell_type": "markdown",
   "id": "74c6cb9d-a48f-4525-a073-e0fe2d9993e8",
   "metadata": {},
   "source": [
    "Q5. What are Custom Exceptions in python? Why do we need Custom Exceptions? Explain with an example."
   ]
  },
  {
   "cell_type": "markdown",
   "id": "d75e8753-68de-4d5b-acbc-403f781d2b2d",
   "metadata": {},
   "source": [
    "Ans) Custom Exceptions are Exceptions that are defined by user and are not built-in exceptions.Custom Exceptions are used when specific Exception is required for some situation."
   ]
  },
  {
   "cell_type": "code",
   "execution_count": 18,
   "id": "fc5f8c27-0f34-45e1-a2ce-b28c39dbae4a",
   "metadata": {},
   "outputs": [
    {
     "name": "stdin",
     "output_type": "stream",
     "text": [
      "Enter a number:  -89\n"
     ]
    },
    {
     "name": "stdout",
     "output_type": "stream",
     "text": [
      "Number should be positive\n"
     ]
    }
   ],
   "source": [
    "class negativeNumExeption(Exception):\n",
    "    def __init__(self,msg):\n",
    "        self.msg=msg\n",
    "try:\n",
    "    num=int(input(\"Enter a number: \"))\n",
    "    if num<0:\n",
    "        raise negativeNumExeption(\"Number should be positive\")\n",
    "except negativeNumExeption as v:\n",
    "    print(v)"
   ]
  },
  {
   "cell_type": "markdown",
   "id": "db99a2a5-583b-493b-90f7-5652de6d0c06",
   "metadata": {},
   "source": [
    "Q6. Create a custom exception class. Use this class to handle an exception."
   ]
  },
  {
   "cell_type": "code",
   "execution_count": 19,
   "id": "19b27a14-f078-4d26-ad94-acedd0677923",
   "metadata": {},
   "outputs": [],
   "source": [
    "class validate(Exception):\n",
    "    def __init__(self,msg):\n",
    "        self.msg=msg"
   ]
  },
  {
   "cell_type": "code",
   "execution_count": 20,
   "id": "b20aefa9-f58d-40b6-a31c-2fe5d4d29d9a",
   "metadata": {},
   "outputs": [],
   "source": [
    "def validate_age(age):\n",
    "    if age<0:\n",
    "        raise validate(\"Age should not be negative\")\n",
    "    elif age>200:\n",
    "        raise validate(\"Age should not be too high\")\n",
    "    else:\n",
    "        print(\"Age is valid\")"
   ]
  },
  {
   "cell_type": "code",
   "execution_count": 21,
   "id": "de2b4264-74f0-4748-9ec2-67fca56de684",
   "metadata": {},
   "outputs": [
    {
     "name": "stdin",
     "output_type": "stream",
     "text": [
      "ENter your age:  -89\n"
     ]
    },
    {
     "name": "stdout",
     "output_type": "stream",
     "text": [
      "Age should not be negative\n"
     ]
    }
   ],
   "source": [
    "try:\n",
    "    age=int(input(\"ENter your age: \"))\n",
    "    validate_age(age)\n",
    "except validate as e:\n",
    "    print(e)"
   ]
  }
 ],
 "metadata": {
  "kernelspec": {
   "display_name": "Python 3 (ipykernel)",
   "language": "python",
   "name": "python3"
  },
  "language_info": {
   "codemirror_mode": {
    "name": "ipython",
    "version": 3
   },
   "file_extension": ".py",
   "mimetype": "text/x-python",
   "name": "python",
   "nbconvert_exporter": "python",
   "pygments_lexer": "ipython3",
   "version": "3.10.8"
  }
 },
 "nbformat": 4,
 "nbformat_minor": 5
}
