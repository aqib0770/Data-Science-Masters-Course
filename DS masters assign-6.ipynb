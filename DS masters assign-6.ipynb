{
 "cells": [
  {
   "cell_type": "markdown",
   "id": "09920bb6-a3f9-4188-baba-84765d92afb4",
   "metadata": {},
   "source": [
    "Q1. Explain Class and Object with respect to Object-Oriented Programming. Give a suitable example."
   ]
  },
  {
   "cell_type": "markdown",
   "id": "aad4e194-7d6a-493c-b54c-033338a4accd",
   "metadata": {},
   "source": [
    "Ans) A class is a user defined blueprint which provides means of building data and functionality together.\n",
    "An object is an instance of a class with actual values of class.\n",
    "Example:"
   ]
  },
  {
   "cell_type": "code",
   "execution_count": 2,
   "id": "f1a2f03d-beb1-4d4f-9d06-341a67d395e8",
   "metadata": {},
   "outputs": [],
   "source": [
    "class hello:\n",
    "    def first_program(self):\n",
    "        print(\"Hello World\")"
   ]
  },
  {
   "cell_type": "code",
   "execution_count": 3,
   "id": "964750bc-881b-4706-8fe3-5e6f2e5ee69c",
   "metadata": {},
   "outputs": [],
   "source": [
    "a=hello() #Here hello is a class and a is the object of hello class"
   ]
  },
  {
   "cell_type": "code",
   "execution_count": 6,
   "id": "da6fc438-b411-4125-a93a-cbc0522e9e93",
   "metadata": {},
   "outputs": [
    {
     "name": "stdout",
     "output_type": "stream",
     "text": [
      "Hello World\n"
     ]
    }
   ],
   "source": [
    "a.first_program()"
   ]
  },
  {
   "cell_type": "markdown",
   "id": "cad48c25-9c9a-48fc-bf55-6c35f9867b71",
   "metadata": {},
   "source": [
    "Q2. Name the four pillars of OOPs."
   ]
  },
  {
   "cell_type": "markdown",
   "id": "5a70addb-61da-4857-96bc-b1619e1e5964",
   "metadata": {},
   "source": [
    "Ans) The four pillars of OOPs are Abstraction, Encapsulation, Inheritance and Polymorphism."
   ]
  },
  {
   "cell_type": "markdown",
   "id": "3ea29678-a928-47c0-8947-9c095b03d80b",
   "metadata": {},
   "source": [
    "Q3. Explain why the __init__() function is used. Give a suitable example."
   ]
  },
  {
   "cell_type": "markdown",
   "id": "2988d4b5-ebf1-417a-afc8-2a33f139f9f1",
   "metadata": {},
   "source": [
    "Ans) init() in Python is a constructor. The task of a constructor is to assign values to data members of a class when an object of a class is created."
   ]
  },
  {
   "cell_type": "code",
   "execution_count": 8,
   "id": "b6c70c95-4d78-4437-aca5-13580084d0ca",
   "metadata": {},
   "outputs": [],
   "source": [
    "class students:\n",
    "    def __init__(self,student_name,Roll_no,Std):\n",
    "        self.student_name=student_name\n",
    "        self.Roll_no=Roll_no\n",
    "        self.Std=Std\n",
    "    def student_details(self):\n",
    "        return self.student_name,self.Roll_no,self.Std"
   ]
  },
  {
   "cell_type": "code",
   "execution_count": 9,
   "id": "41e42e41-c369-4581-a229-c856b51f69dd",
   "metadata": {},
   "outputs": [],
   "source": [
    "aqib=students(\"Aqib Ansari\",411,\"FYCS\")"
   ]
  },
  {
   "cell_type": "code",
   "execution_count": 11,
   "id": "86bb60dc-9d25-4c38-b178-c324150ecc6f",
   "metadata": {},
   "outputs": [
    {
     "data": {
      "text/plain": [
       "('Aqib Ansari', 411, 'FYCS')"
      ]
     },
     "execution_count": 11,
     "metadata": {},
     "output_type": "execute_result"
    }
   ],
   "source": [
    "aqib.student_details()"
   ]
  },
  {
   "cell_type": "markdown",
   "id": "d74f2f28-27a7-4832-a22d-72f0619738cd",
   "metadata": {},
   "source": [
    "Q4. Why self is used in OOPs?"
   ]
  },
  {
   "cell_type": "markdown",
   "id": "84cd42ee-fea4-468b-a3db-77c92644bdc4",
   "metadata": {},
   "source": [
    "Ans) Self represents the instance of a class. It is used to access the attributes and methods of the class. It binds the attributes with given arguments."
   ]
  },
  {
   "cell_type": "markdown",
   "id": "759a6de8-2314-441c-93d3-56930c178536",
   "metadata": {},
   "source": [
    "Q5. What is inheritance? Give an example for each type of inheritance."
   ]
  },
  {
   "cell_type": "markdown",
   "id": "4590d9a0-412f-4ad9-b5ca-c622a4d1b9ea",
   "metadata": {},
   "source": [
    "Ans) 1.Single Inheritance: When a class is derived from a single parent class, it  is called single inheritance."
   ]
  },
  {
   "cell_type": "code",
   "execution_count": 19,
   "id": "6d155033-45ee-452b-a735-52f4996011b6",
   "metadata": {},
   "outputs": [],
   "source": [
    "class Parent:\n",
    "    roll_no=411\n",
    "class Child(Parent):\n",
    "    def __init__(self):\n",
    "        print(\"Single Inheritance\")"
   ]
  },
  {
   "cell_type": "code",
   "execution_count": 24,
   "id": "d1c04206-acc0-421a-aba6-b2f37af54783",
   "metadata": {},
   "outputs": [
    {
     "name": "stdout",
     "output_type": "stream",
     "text": [
      "Single Inheritance\n"
     ]
    },
    {
     "data": {
      "text/plain": [
       "411"
      ]
     },
     "execution_count": 24,
     "metadata": {},
     "output_type": "execute_result"
    }
   ],
   "source": [
    "a=Child()\n",
    "a.roll_no"
   ]
  },
  {
   "cell_type": "markdown",
   "id": "ac2349ef-e61b-4ca7-a263-aae54bb1a182",
   "metadata": {},
   "source": [
    "2.Multilevel Inheritance: When a class is derived from a derived class, it is called multilevel inheritance."
   ]
  },
  {
   "cell_type": "code",
   "execution_count": 26,
   "id": "9a057528-f18e-4957-8480-d3a4fbdc399f",
   "metadata": {},
   "outputs": [],
   "source": [
    "class grandParent:\n",
    "    name=\"Aqib\"\n",
    "class Parent1(grandParent):\n",
    "    surname =\"Ansari\"\n",
    "class Child1(Parent1):\n",
    "    def __init__(self):\n",
    "        print(\"Multilevel Inheritance\")"
   ]
  },
  {
   "cell_type": "code",
   "execution_count": 31,
   "id": "35e5fb05-fb48-4a6f-8257-c85727d90140",
   "metadata": {},
   "outputs": [
    {
     "name": "stdout",
     "output_type": "stream",
     "text": [
      "Multilevel Inheritance\n",
      "Aqib Ansari\n"
     ]
    }
   ],
   "source": [
    "b=Child1()\n",
    "print(b.name,b.surname)"
   ]
  },
  {
   "cell_type": "markdown",
   "id": "a2f788ef-9007-44c6-8ae4-2bca721984a6",
   "metadata": {},
   "source": [
    "3.Multiple Inheritance: When a class is derived from multiple classes, it is called multiple inheritance."
   ]
  },
  {
   "cell_type": "code",
   "execution_count": 33,
   "id": "97e8f3ec-4c50-4c4d-85ce-6984edaca356",
   "metadata": {},
   "outputs": [],
   "source": [
    "class Parent2:\n",
    "    name1=\"Ahmad\"\n",
    "class Parent3:\n",
    "    name2=\"Aqib\"\n",
    "class Parent4:\n",
    "    name3=\"Zoheb\"\n",
    "class Child2(Parent2,Parent3,Parent4):\n",
    "    def __init__(self):\n",
    "        print(\"Multiple Inheritance\")"
   ]
  },
  {
   "cell_type": "code",
   "execution_count": 36,
   "id": "f454b3ad-c142-481b-b973-55f63f15ee40",
   "metadata": {},
   "outputs": [
    {
     "name": "stdout",
     "output_type": "stream",
     "text": [
      "Multiple Inheritance\n",
      "Ahmad Aqib Zoheb\n"
     ]
    }
   ],
   "source": [
    "c=Child2()\n",
    "print(c.name1,c.name2,c.name3)"
   ]
  },
  {
   "cell_type": "markdown",
   "id": "a2b751d0-fd08-4d79-8992-8456cc966431",
   "metadata": {},
   "source": [
    "4.Hierarchical Inheritance: When multiple class are defined from one base class, it is called hierarchical inheritance."
   ]
  },
  {
   "cell_type": "code",
   "execution_count": 48,
   "id": "54538eca-f490-458e-bf2a-dd9e441c6dbb",
   "metadata": {},
   "outputs": [],
   "source": [
    "class baseClass:\n",
    "    class_name=\"Cars\"\n",
    "class Parent4(baseClass):\n",
    "    car_name=\"Range Rover\"\n",
    "class Parent5(baseClass):\n",
    "    car_name=\"Audi\"\n",
    "class Child4(Parent4):\n",
    "    car_colour=\"Black\"\n",
    "class Child5(Parent5):\n",
    "    car_colour=\"Dark blue\"\n"
   ]
  },
  {
   "cell_type": "code",
   "execution_count": 44,
   "id": "6eca2e99-7b01-4439-9306-1e8c77bb41f4",
   "metadata": {},
   "outputs": [
    {
     "name": "stdout",
     "output_type": "stream",
     "text": [
      "Cars\n",
      "Range Rover\n",
      "Black\n"
     ]
    }
   ],
   "source": [
    "d=Child4()\n",
    "print(Child4.class_name)\n",
    "print(Child4.car_name)\n",
    "print(Child4.car_colour)"
   ]
  },
  {
   "cell_type": "code",
   "execution_count": 50,
   "id": "07d58806-feeb-4479-94f9-57e7b4dcc8a3",
   "metadata": {},
   "outputs": [
    {
     "name": "stdout",
     "output_type": "stream",
     "text": [
      "Cars\n",
      "Audi\n",
      "Dark blue\n"
     ]
    }
   ],
   "source": [
    "e=Child5()\n",
    "print(Child5.class_name)\n",
    "print(Child5.car_name)\n",
    "print(Child5.car_colour)"
   ]
  }
 ],
 "metadata": {
  "kernelspec": {
   "display_name": "Python 3 (ipykernel)",
   "language": "python",
   "name": "python3"
  },
  "language_info": {
   "codemirror_mode": {
    "name": "ipython",
    "version": 3
   },
   "file_extension": ".py",
   "mimetype": "text/x-python",
   "name": "python",
   "nbconvert_exporter": "python",
   "pygments_lexer": "ipython3",
   "version": "3.10.8"
  }
 },
 "nbformat": 4,
 "nbformat_minor": 5
}
