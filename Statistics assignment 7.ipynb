{
 "cells": [
  {
   "cell_type": "markdown",
   "id": "4d99b562-c8c0-49a9-aee9-72e3718cf848",
   "metadata": {},
   "source": [
    "Q1. Calculate the 95% confidence interval for a sample of data with a mean of 50 and a standard deviation\n",
    "of 5 using Python. Interpret the results."
   ]
  },
  {
   "cell_type": "code",
   "execution_count": 1,
   "id": "a122aa76-a286-4d4f-97cf-cc5f1f187165",
   "metadata": {},
   "outputs": [
    {
     "data": {
      "text/plain": [
       "(40.200180077299734, 59.799819922700266)"
      ]
     },
     "execution_count": 1,
     "metadata": {},
     "output_type": "execute_result"
    }
   ],
   "source": [
    "import scipy.stats as stat\n",
    "mean=50\n",
    "std=5\n",
    "ci=stat.norm.interval(0.95,mean,std)\n",
    "ci"
   ]
  },
  {
   "cell_type": "markdown",
   "id": "5dec08b7-ad22-4740-94e1-ef068d3daa92",
   "metadata": {},
   "source": [
    "We are 95% confident that true mean of the population lies between (40.2,59.79)"
   ]
  },
  {
   "cell_type": "markdown",
   "id": "cf074693-3ad9-4670-9917-7476259cbabc",
   "metadata": {},
   "source": [
    "Q2. Conduct a chi-square goodness of fit test to determine if the distribution of colors of M&Ms in a bag\n",
    "matches the expected distribution of 20% blue, 20% orange, 20% green, 10% yellow, 10% red, and 20%\n",
    "brown. Use Python to perform the test with a significance level of 0.05."
   ]
  },
  {
   "cell_type": "markdown",
   "id": "cba6f525-e6c0-4473-a05b-c2e83e913069",
   "metadata": {},
   "source": [
    "Ans. Null Hypothesis: The distribution of colors of M&Ms in a bag matches the expected distribution.\n",
    "<br>Alternate hypothesis: The distribution of colors of M&Ms is different from expected distribution."
   ]
  },
  {
   "cell_type": "code",
   "execution_count": 23,
   "id": "c1533501-0d78-4de4-89c7-93e899944c45",
   "metadata": {},
   "outputs": [
    {
     "name": "stdout",
     "output_type": "stream",
     "text": [
      "Chi-square statistic: 10.575\n",
      "Critical value 11.070497693516351\n",
      "We fail to reject the null hypothesis\n",
      "Conclusion: The distribution of colors of M&Ms matches the expected distribution\n"
     ]
    }
   ],
   "source": [
    "observed = np.array([38, 28, 37, 19, 22, 56])\n",
    "n = sum(observed)\n",
    "expected = np.array([0.2*n, 0.2*n, 0.2*n, 0.1*n, 0.1*n, 0.2*n])\n",
    "statistic, pvalue = stat.chisquare(observed, expected)\n",
    "\n",
    "critical_value=stat.chi2.ppf(1-0.05,5)\n",
    "print(\"Chi-square statistic:\", statistic)\n",
    "print(\"Critical value\",critical_value)\n",
    "if statistic > critical_value:\n",
    "    print(\"We reject the null hypothesis\")\n",
    "    print(\"Conclusion: The distribution of colors of M&Ms is different from expected distribution\")\n",
    "else:\n",
    "    print(\"We fail to reject the null hypothesis\")\n",
    "    print(\"Conclusion: The distribution of colors of M&Ms matches the expected distribution\")"
   ]
  },
  {
   "cell_type": "code",
   "execution_count": 19,
   "id": "189c67f3-306a-4e83-b313-b6aac41e1f0d",
   "metadata": {},
   "outputs": [
    {
     "data": {
      "text/plain": [
       "200"
      ]
     },
     "execution_count": 19,
     "metadata": {},
     "output_type": "execute_result"
    }
   ],
   "source": [
    "n"
   ]
  },
  {
   "cell_type": "markdown",
   "id": "c54a0685-cad7-47fc-b752-742c1464cec4",
   "metadata": {},
   "source": [
    "Q3. Use Python to calculate the chi-square statistic and p-value for a contingency table with the following\n",
    "data:\n",
    "|             |Group A|Group B|\n",
    "|-------------|------|--------|\n",
    "|Outcome 1|20|15|\n",
    "|Outcome 2|10|25|\n",
    "|Outcome 3|15|20|\n",
    "\n",
    "<br>Interpret the results of the test"
   ]
  },
  {
   "cell_type": "code",
   "execution_count": 2,
   "id": "b86b1c5f-bfca-4428-acf5-e4fa2dec7b91",
   "metadata": {},
   "outputs": [],
   "source": [
    "import scipy.stats as stat\n",
    "import numpy as np\n",
    "observed=np.array([[20,15],[10,25],[15,20]])\n",
    "chi_stats,p_value,dof,expected=stat.chi2_contingency(observed)"
   ]
  },
  {
   "cell_type": "code",
   "execution_count": 3,
   "id": "3cec06bc-45b5-4bba-a534-1ddda0983b7b",
   "metadata": {},
   "outputs": [
    {
     "name": "stdout",
     "output_type": "stream",
     "text": [
      "chi-square statistic: 5.833333333333334 | p_value: 0.05411376622282158\n"
     ]
    }
   ],
   "source": [
    "print(f\"chi-square statistic: {chi_stats} | p_value: {p_value}\")"
   ]
  },
  {
   "cell_type": "markdown",
   "id": "82c8427e-fc15-4fe6-865a-3058cf86a408",
   "metadata": {},
   "source": [
    "Since p_value (0.0541) is greater than conventional threshold value 0.05, we conclude that there is no significant relation between two groups and outcomes"
   ]
  },
  {
   "cell_type": "markdown",
   "id": "d4dfb60d-1bfe-4dd8-b3da-f398058bb605",
   "metadata": {},
   "source": [
    "Q4. A study of the prevalence of smoking in a population of 500 individuals found that 60 individuals\n",
    "smoked. Use Python to calculate the 95% confidence interval for the true proportion of individuals in the\n",
    "population who smoke."
   ]
  },
  {
   "cell_type": "code",
   "execution_count": 4,
   "id": "9e115bbc-da7e-4916-9113-95bf7d1de4c6",
   "metadata": {},
   "outputs": [
    {
     "name": "stdout",
     "output_type": "stream",
     "text": [
      "95% confidence interval (0.14848361112869293, 0.09151638887130706)\n",
      "We are 95% confident that true proportion of population who smoke lies between (9.15% , 14.84%)\n"
     ]
    }
   ],
   "source": [
    "n=500 #sample size\n",
    "x=60 #No. of smokers\n",
    "prop=x/n\n",
    "alpha=0.05\n",
    "z_value=stat.norm.ppf(alpha/2)\n",
    "standard_error=np.sqrt(prop*(1-prop)/n)\n",
    "margin_of_error=z_value*standard_error\n",
    "lower_bound=prop-margin_of_error\n",
    "upper_bound=prop+margin_of_error\n",
    "confidence_interval = (lower_bound, upper_bound)\n",
    "print(f\"95% confidence interval {confidence_interval}\")\n",
    "print(f\"We are 95% confident that true proportion of population who smoke lies between (9.15% , 14.84%)\")"
   ]
  },
  {
   "cell_type": "markdown",
   "id": "472d00d0-a59c-4cd2-939d-4ca595ffcb99",
   "metadata": {},
   "source": [
    "Q5.Calculate the 90% confidence interval for a sample of data with a mean of 75 and a standard deviation\n",
    "of 12 using Python. Interpret the results."
   ]
  },
  {
   "cell_type": "code",
   "execution_count": 5,
   "id": "d147e45d-85ba-4ccf-acb6-ecf8d934c14b",
   "metadata": {},
   "outputs": [
    {
     "data": {
      "text/plain": [
       "(55.26175647658233, 94.73824352341767)"
      ]
     },
     "execution_count": 5,
     "metadata": {},
     "output_type": "execute_result"
    }
   ],
   "source": [
    "mean=75\n",
    "std=12\n",
    "ci=stat.norm.interval(0.90,mean,std)\n",
    "ci"
   ]
  },
  {
   "cell_type": "markdown",
   "id": "c36c43ee-f519-431e-93af-15fa99e04af0",
   "metadata": {},
   "source": [
    "Interpretation: We are 90% confident that true mean of the population lies between (55.26,94.73)"
   ]
  },
  {
   "cell_type": "markdown",
   "id": "1266e1da-47ff-4f92-8619-5cd1e1c4cf02",
   "metadata": {},
   "source": [
    "Q6. Use Python to plot the chi-square distribution with 10 degrees of freedom. Label the axes and shade the\n",
    "area corresponding to a chi-square statistic of 15."
   ]
  },
  {
   "cell_type": "code",
   "execution_count": 6,
   "id": "e75794f4-4849-49fc-a284-12c7ac3b96fd",
   "metadata": {},
   "outputs": [],
   "source": [
    "import numpy as np\n",
    "import matplotlib.pyplot as plt\n",
    "import scipy.stats as stat"
   ]
  },
  {
   "cell_type": "code",
   "execution_count": 7,
   "id": "4e9cc356-4eaf-4c2c-a8e3-13e90bd2514d",
   "metadata": {},
   "outputs": [
    {
     "data": {
      "image/png": "[encoded data removed]",
      "text/plain": [
       "<Figure size 640x480 with 1 Axes>"
      ]
     },
     "metadata": {},
     "output_type": "display_data"
    }
   ],
   "source": [
    "dof=10\n",
    "chi_stats=15\n",
    "x=np.linspace(stat.chi2.ppf(0.001,dof),stat.chi2.ppf(0.999,dof),100)\n",
    "pdf=stat.chi2.pdf(x,dof)\n",
    "plt.plot(x,pdf)\n",
    "x_shade=np.linspace(stat.chi2.ppf(0.001,dof),15,100)\n",
    "plt.fill_between(x_shade,stat.chi2.pdf(x_shade,dof),alpha=0.2)\n",
    "plt.title(\"Chi square distribution with 10 degree of freedom\")\n",
    "plt.xlabel(\"Chi square test-stats\")\n",
    "plt.ylabel('pdf')\n",
    "plt.show()"
   ]
  },
  {
   "cell_type": "markdown",
   "id": "1b32f25b-a707-48fc-bb96-63dd038bc3f2",
   "metadata": {},
   "source": [
    "Q7. A random sample of 1000 people was asked if they preferred Coke or Pepsi. Of the sample, 520\n",
    "preferred Coke. Calculate a 99% confidence interval for the true proportion of people in the population who\n",
    "prefer Coke."
   ]
  },
  {
   "cell_type": "code",
   "execution_count": 8,
   "id": "c3f702c2-2112-4d02-9c31-bf0c3a3813dc",
   "metadata": {},
   "outputs": [
    {
     "name": "stdout",
     "output_type": "stream",
     "text": [
      "The true proportion of people at 99% confidence interval is : (0.463158098854049, 0.536841901145951)\n"
     ]
    }
   ],
   "source": [
    "n=1000\n",
    "x=500\n",
    "p=x/n\n",
    "se=np.sqrt((p*(1-p))/n)\n",
    "ci=stat.norm.interval(0.99,p,se)\n",
    "t_value=stat.t.ppf(0.01,n-1)\n",
    "ci=(p+t_value*se,p-t_value*se)\n",
    "print(f\"The true proportion of people at 99% confidence interval is : {ci}\")"
   ]
  },
  {
   "cell_type": "code",
   "execution_count": 9,
   "id": "c79370fe-aa6e-4bb3-953d-5631692ef499",
   "metadata": {},
   "outputs": [
    {
     "data": {
      "text/plain": [
       "(0.4592725626849012, 0.5407274373150988)"
      ]
     },
     "execution_count": 9,
     "metadata": {},
     "output_type": "execute_result"
    }
   ],
   "source": [
    "#alternate method\n",
    "stat.norm.interval(0.99,p,se)"
   ]
  },
  {
   "cell_type": "markdown",
   "id": "498fcd20-eec9-4955-9b6a-ae03c57ccd02",
   "metadata": {},
   "source": [
    "Q8. A researcher hypothesizes that a coin is biased towards tails. They flip the coin 100 times and observe\n",
    "45 tails. Conduct a chi-square goodness of fit test to determine if the observed frequencies match the\n",
    "expected frequencies of a fair coin. Use a significance level of 0.05."
   ]
  },
  {
   "cell_type": "markdown",
   "id": "bca94d22-5cff-4398-8e91-480ea684e83e",
   "metadata": {},
   "source": [
    "Null hypothesis: The coin is not biased\n",
    "Alternate hypothesis: The coin is biased"
   ]
  },
  {
   "cell_type": "code",
   "execution_count": 10,
   "id": "681d17a1-94a8-42bc-9f3f-1c6d2916c9bd",
   "metadata": {},
   "outputs": [
    {
     "name": "stdout",
     "output_type": "stream",
     "text": [
      "Chi-statistics: 1.0\n",
      "We fail to reject null hypothesis\n",
      "Conclusion: There is no much difference in expected and observed frequencies\n"
     ]
    }
   ],
   "source": [
    "observed=[45,55]\n",
    "expected=[50,50]\n",
    "chi_stats,p_value=stat.chisquare(observed,expected)\n",
    "print(f\"Chi-statistics: {chi_stats}\")\n",
    "significance_level=0.05\n",
    "dof=len(observed)-1\n",
    "critical_value=stat.chi2.ppf(1-significance_level,dof)\n",
    "if chi_stats>critical_value:\n",
    "    print(\"We reject null hypothesis\")\n",
    "    print(\"Conclusion: The observed frequencies are significantly different from expected frequencies\")\n",
    "else:\n",
    "    print(\"We fail to reject null hypothesis\")\n",
    "    print(\"Conclusion: There is no much difference in expected and observed frequencies\")"
   ]
  },
  {
   "cell_type": "markdown",
   "id": "5201fad4-1b53-43ab-a427-5eb56e8b318f",
   "metadata": {},
   "source": [
    "Q9. A study was conducted to determine if there is an association between smoking status (smoker or\n",
    "non-smoker) and lung cancer diagnosis (yes or no). The results are shown in the contingency table below.\n",
    "Conduct a chi-square test for independence to determine if there is a significant association between\n",
    "smoking status and lung cancer diagnosis.\n",
    "|   |Lung Cancer: Yes|Lung Cancer: No|\n",
    "|----|-------|------|\n",
    "|Smoker|60|140|\n",
    "Non-smoker|30|170|\n",
    "<br>Use a significance level of 0.05."
   ]
  },
  {
   "cell_type": "markdown",
   "id": "5613c1d9-5f77-487e-b8a2-3e0546ba2cf5",
   "metadata": {},
   "source": [
    "Null hypothesis: There is no association between smoking status and lung cancer\n",
    "<br>Alternate hypothesis: There is an association between smoking status and lung cancer"
   ]
  },
  {
   "cell_type": "code",
   "execution_count": 11,
   "id": "cb493960-35bb-4ef7-a734-e9beb70ae80a",
   "metadata": {},
   "outputs": [],
   "source": [
    "observed=np.array([[60,140],[30,170]])\n",
    "val=stat.chi2_contingency(observed)\n",
    "expected=val[3]"
   ]
  },
  {
   "cell_type": "code",
   "execution_count": 12,
   "id": "55b26eb0-bee5-469a-94c7-3e027335694c",
   "metadata": {},
   "outputs": [
    {
     "name": "stdout",
     "output_type": "stream",
     "text": [
      "Chi-statistics: 12.903225806451612\n",
      "Critical value: 3.841458820694124\n"
     ]
    }
   ],
   "source": [
    "chi=sum([(o-e)**2./e for o,e in zip(observed,expected)])\n",
    "chi_stats=chi[0]+chi[1]\n",
    "critical_value=stat.chi2.ppf(1-0.05,1)\n",
    "print(f\"Chi-statistics: {chi_stats}\\nCritical value: {critical_value}\")"
   ]
  },
  {
   "cell_type": "code",
   "execution_count": 13,
   "id": "1fd9be19-6004-44b7-a689-741adae3e059",
   "metadata": {},
   "outputs": [
    {
     "name": "stdout",
     "output_type": "stream",
     "text": [
      "Reject null hypothesis\n",
      "Conclusion: There is an association between smoking status and lung cancer\n"
     ]
    }
   ],
   "source": [
    "if chi_stats>critical_value:\n",
    "    print(\"Reject null hypothesis\")\n",
    "    print(\"Conclusion: There is an association between smoking status and lung cancer\")\n",
    "else:\n",
    "    print(\"We fail to reject null hypothesis\")\n",
    "    print(\"Conclusion: There is no association between smoking astatus and lung cancer\")"
   ]
  },
  {
   "cell_type": "markdown",
   "id": "e4cfd734-474c-4249-ba80-c0c5560b5259",
   "metadata": {},
   "source": [
    "Q10. A study was conducted to determine if the proportion of people who prefer milk chocolate, dark\n",
    "chocolate, or white chocolate is different in the U.S. versus the U.K. A random sample of 500 people from\n",
    "the U.S. and a random sample of 500 people from the U.K. were surveyed. The results are shown in the\n",
    "contingency table below. Conduct a chi-square test for independence to determine if there is a significant\n",
    "association between chocolate preference and country of origin.\n",
    "| |Milk chocolate|Dark chocolate|White chocolate|\n",
    "|---|---|---|---|\n",
    "|U.S(n=500)|200|150|150|\n",
    "|U.K(n=500)|225|175|100|\n",
    "<br>Use a significance level of 0.01."
   ]
  },
  {
   "cell_type": "markdown",
   "id": "b029ff7c-16aa-404f-a0d5-7b615ce9d680",
   "metadata": {},
   "source": [
    "Null hypothesis: There is no significant association between chocolate preference and country of origin\n",
    "<br>Alternate hypothesis: There is an association between chocolate preference and country of origin"
   ]
  },
  {
   "cell_type": "code",
   "execution_count": 14,
   "id": "bc6519c1-9db5-4638-a8d3-a2b3c096ef7d",
   "metadata": {},
   "outputs": [
    {
     "name": "stdout",
     "output_type": "stream",
     "text": [
      "Chi-statistics: 13.393665158371041\n",
      "Critical value: 9.21034037197618\n"
     ]
    }
   ],
   "source": [
    "observed=np.array([[200,150,150],[225,175,100]])\n",
    "value=stat.chi2_contingency(observed)\n",
    "expected=value[3]\n",
    "chi_stats=value[0]\n",
    "critical_value=stat.chi2.ppf(1-0.01,2)\n",
    "print(f\"Chi-statistics: {chi_stats}\\nCritical value: {critical_value}\")"
   ]
  },
  {
   "cell_type": "code",
   "execution_count": 15,
   "id": "33ff6c9a-e41f-415f-8ecf-15ef4fc0b082",
   "metadata": {},
   "outputs": [
    {
     "name": "stdout",
     "output_type": "stream",
     "text": [
      "Reject null hypothesis\n",
      "Conclusion: There is an association between chocolate preference and country of origin\n"
     ]
    }
   ],
   "source": [
    "if chi_stats>critical_value:\n",
    "    print(\"Reject null hypothesis\")\n",
    "    print(\"Conclusion: There is an association between chocolate preference and country of origin\")\n",
    "else:\n",
    "    print(\"We fail to reject null hypothesis\")\n",
    "    print(\"Conclusion: There is no association between chocolate preference and country of origin\")"
   ]
  },
  {
   "cell_type": "markdown",
   "id": "eaf94b40-4cfa-4360-88cc-4f3436eaca7f",
   "metadata": {},
   "source": [
    "Q11. A random sample of 30 people was selected from a population with an unknown mean and standard\n",
    "deviation. The sample mean was found to be 72 and the sample standard deviation was found to be 10.\n",
    "Conduct a hypothesis test to determine if the population mean is significantly different from 70. Use a\n",
    "significance level of 0.05."
   ]
  },
  {
   "cell_type": "markdown",
   "id": "b53a3dfc-db21-4682-aabf-6e0c185cbe6c",
   "metadata": {},
   "source": [
    "Null hypothesis: The population mean is not different from 70\n",
    "<br>Alternate hypothesis: The population mean is different from population mean"
   ]
  },
  {
   "cell_type": "code",
   "execution_count": 16,
   "id": "be0411f9-ccb7-4ee0-97a1-9364d6a4fdbb",
   "metadata": {},
   "outputs": [
    {
     "name": "stdout",
     "output_type": "stream",
     "text": [
      "T-stats: 1.0954451150103321\n",
      "Critical value: -2.0452296421327034\n",
      "We fail to reject null hypothesis\n",
      "The population mean is not different from 70\n"
     ]
    }
   ],
   "source": [
    "n=30  #sample size\n",
    "x=72 #sample mean\n",
    "x1=70 #population mean\n",
    "std=10 #sample standard deviation\n",
    "alpha=0.05\n",
    "critical_value=stat.t.ppf(alpha/2,n-1)\n",
    "t_stats=(72-70)/(std/np.sqrt(n))\n",
    "print(f\"T-stats: {t_stats}\\nCritical value: {critical_value}\")\n",
    "if t_stats<(critical_value) or t_stats>(abs(critical_value)):\n",
    "    print(\"Reject null hypothesis\")\n",
    "    print(\"The population mean is different from 70\")\n",
    "else:\n",
    "    print(\"We fail to reject null hypothesis\")\n",
    "    print(\"The population mean is not different from 70\")"
   ]
  }
 ],
 "metadata": {
  "kernelspec": {
   "display_name": "Python 3 (ipykernel)",
   "language": "python",
   "name": "python3"
  },
  "language_info": {
   "codemirror_mode": {
    "name": "ipython",
    "version": 3
   },
   "file_extension": ".py",
   "mimetype": "text/x-python",
   "name": "python",
   "nbconvert_exporter": "python",
   "pygments_lexer": "ipython3",
   "version": "3.10.8"
  }
 },
 "nbformat": 4,
 "nbformat_minor": 5
}
