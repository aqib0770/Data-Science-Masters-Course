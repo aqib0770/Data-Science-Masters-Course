{
 "cells": [
  {
   "cell_type": "markdown",
   "id": "3a0e2f8b-070a-49e0-bcd5-8d64fb7f5352",
   "metadata": {},
   "source": [
    "Q1. What is Statistics?\n",
    "<br>Ans. Statistics is the science of collecting, organizing and analyzing the data."
   ]
  },
  {
   "cell_type": "markdown",
   "id": "3f2fc14b-6051-4a33-bd25-a6c4fad7c110",
   "metadata": {},
   "source": [
    "Q2. Define the different types of statistics and give an example of when each type might be used.\n",
    "<br>Ans. Statistics is of two types:\n",
    "1. Descriptive statistics:- It consists of doing mathematical calculations or organizing the data and summarizing the data. It can be used when we want to find the average of population data.\n",
    "2. Inferential statistics:- It is used to make conclusion on the data that we have measured by using hypothesis and many other techniques. It is used when we want to conclude whether a product is good or bad"
   ]
  },
  {
   "cell_type": "markdown",
   "id": "728578ce-8f48-4169-8b8d-c1066eb43517",
   "metadata": {},
   "source": [
    "Q3. What are the different types of data and how do they differ from each other? Provide an example of\n",
    "each type of data.\n",
    "Ans) Data is of two types:\n",
    "1. Quantitative data: It is any numerical data. There are two types of numerical data, one is discrete and other is continuous data. A discrete data is any whole number and a continuous data is any positive integer.For example:\n",
    "No.of students is a discrete data and weight is a continuous data\n",
    "2. Qualitative data: It means categorical data where data can be divided. There are two types of categorical data, one is nominal and other is ordinal. The main difference between these two types is in nominal data we can't assign ranks while in ordinal data we can assign ranks. Examples, gender of students is nominal data while grades of students is ordinal data"
   ]
  },
  {
   "cell_type": "markdown",
   "id": "28aaf759-0c30-421b-9d23-cb7725d2dc07",
   "metadata": {},
   "source": [
    "Q4. Categorise the following datasets with respect to quantitative and qualitative data types:\n",
    "<br>Ans. (i) Grading in exam: A+, A, B+, B, C+, C, D, E- Qualitative nominal  data\n",
    "<br>(ii) Colour of mangoes: yellow, green, orange, red- Qualitative nominal data\n",
    "<br>(iii) Height data of a class: [178.9, 179, 179.5, 176, 177.2, 178.3, 175.8,...]- Quantitative continuous data\n",
    "<br>(iv) Number of mangoes exported by a farm: [500, 600, 478, 672, ...]- Quantitative discrete data"
   ]
  },
  {
   "cell_type": "markdown",
   "id": "6d54857a-82b4-4795-a522-dc5a6a105a2b",
   "metadata": {},
   "source": [
    "Q5. Explain the concept of levels of measurement and give an example of a variable for each level.\n",
    "<br>Ans. Levels of measurement or scale of measurement refers to the way in which variables or data can be classified or measured. They are of four types:\n",
    "1. Nominal scale data: It is both quantitative and qualitative data in which order does not matter. Example, gender or marital status.\n",
    "2. Ordinal scale data: In this, ranking and order matters but the difference between the values or variables cannot be measured. Example, customer satisfaction rating(extremely dissatisfied, dissatisfied, satisfied, extremely satisfied)\n",
    "3. Interval scale data: In this, ranking and order matters, difference between data can be measured excluding ratios and starting value can't be 0. Example, temperature.\n",
    "4. Ratio scale data: In this, ranking and order matters and difference between data and the ratio can be measured. It can start with zero. Example, Age of people."
   ]
  },
  {
   "cell_type": "markdown",
   "id": "d13747c6-52fb-4f09-ac8d-af5669881cf3",
   "metadata": {},
   "source": [
    "Q6. Why is it important to understand the level of measurement when analyzing data? Provide an\n",
    "example to illustrate your answer.\n",
    "<br>Ans. Understanding level of measurement when analyzing the data is important because it helps us to determine appropriate statitical methods and to make conclusions.\n",
    "<br>For example: If we classify the data at ordinal level of measurement, then we can rank it but we can't calculate or compare the difference between the data. To do so, it should be converted to interval scale data or ratio scale data."
   ]
  },
  {
   "cell_type": "markdown",
   "id": "c767f3f6-3607-4df5-84ea-6c4883783751",
   "metadata": {},
   "source": [
    "Q7. How nominal data type is different from ordinal data type.\n",
    "<br>Ans. In nominal data the order does not matter while in ordinal type, order of the data matters."
   ]
  },
  {
   "cell_type": "markdown",
   "id": "9145cd6e-f816-43d2-9163-e372b9acbca5",
   "metadata": {},
   "source": [
    "Q8. Which type of plot can be used to display data in terms of range?\n",
    "<br>Ans. A box plot is used to display the data in terms of range because it shows the distance between minimum and maximum values."
   ]
  },
  {
   "cell_type": "markdown",
   "id": "679bb53c-f6c9-49ab-b533-0b3681c0de90",
   "metadata": {},
   "source": [
    "Q9. Describe the difference between descriptive and inferential statistics. Give an example of each\n",
    "type of statistics and explain how they are used.\n",
    "<br>Ans. Descriptive statistics helps in measuring the central tendency and measure of dispersion of data while inferential statistics helps in making conclusion using different types of testing.\n",
    "<br>Example: If we want to calculate the average of runs, a batsman scored, then it comes under descriptive statistics. And if we want to conclude whether a batsman is good in chasing targets or not, then it comes under inferential statistics."
   ]
  },
  {
   "cell_type": "markdown",
   "id": "094b28ed-e94b-4942-892d-d2b003a63fbc",
   "metadata": {},
   "source": [
    "Q10. What are some common measures of central tendency and variability used in statistics? Explain\n",
    "how each measure can be used to describe a dataset.\n",
    "<br>Ans. The most common measures of central tendency are mean,median and mode while common measures of variability include range,variance and standard deviation.\n",
    "1. Mean: It is the average of population data.\n",
    "2. Median: It is the middle value of the data.\n",
    "3. Mode: It is the most frequent occuring value in a dataset.\n",
    "4. Range: It is the difference between highest and lowest value of a dataset.\n",
    "5. Standard deviation: It shows the distance of a value from the mean.\n",
    "6. Variance: It is the square of standard deviation."
   ]
  }
 ],
 "metadata": {
  "kernelspec": {
   "display_name": "Python 3 (ipykernel)",
   "language": "python",
   "name": "python3"
  },
  "language_info": {
   "codemirror_mode": {
    "name": "ipython",
    "version": 3
   },
   "file_extension": ".py",
   "mimetype": "text/x-python",
   "name": "python",
   "nbconvert_exporter": "python",
   "pygments_lexer": "ipython3",
   "version": "3.10.8"
  }
 },
 "nbformat": 4,
 "nbformat_minor": 5
}
