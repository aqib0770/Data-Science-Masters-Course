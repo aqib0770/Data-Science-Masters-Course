{
 "cells": [
  {
   "cell_type": "markdown",
   "id": "9db944c4-c2cb-42c4-828b-05f501ced6bd",
   "metadata": {},
   "source": [
    "Q1. Write a Python function that takes in two arrays of data and calculates the F-value for a variance ratio\n",
    "test. The function should return the F-value and the corresponding p-value for the test."
   ]
  },
  {
   "cell_type": "code",
   "execution_count": 1,
   "id": "61bd44e2-ea98-4374-a73e-4b0ba2cb2ad8",
   "metadata": {},
   "outputs": [],
   "source": [
    "import numpy as np\n",
    "import scipy.stats as stat\n",
    "def f_values(arr1,arr2):\n",
    "    var1=np.var(arr1)\n",
    "    var2=np.var(arr2)\n",
    "    f_value=var1/var2\n",
    "    df1=len(arr1)-1\n",
    "    df2=len(arr2)-1\n",
    "    p_value=stat.f.cdf(f_value,df1,df2)\n",
    "    return f\"f_value:- {f_value} | p_value:- {p_value}\""
   ]
  },
  {
   "cell_type": "code",
   "execution_count": 2,
   "id": "38127ed7-b3f6-4802-857f-525920a8e752",
   "metadata": {},
   "outputs": [
    {
     "data": {
      "text/plain": [
       "'f_value:- 0.6989247311827956 | p_value:- 0.3519259699213742'"
      ]
     },
     "execution_count": 2,
     "metadata": {},
     "output_type": "execute_result"
    }
   ],
   "source": [
    "arr1=[2,4,5,6,3,5]\n",
    "arr2=[4,6,2,4,1,4]\n",
    "f_values(arr1,arr2)"
   ]
  },
  {
   "cell_type": "markdown",
   "id": "513c19b6-00a5-45b5-abeb-7ab9aed937a2",
   "metadata": {},
   "source": [
    "Q2. Given a significance level of 0.05 and the degrees of freedom for the numerator and denominator of an\n",
    "F-distribution, write a Python function that returns the critical F-value for a two-tailed test."
   ]
  },
  {
   "cell_type": "code",
   "execution_count": 3,
   "id": "0be0789c-e67a-4956-a151-45181db3a588",
   "metadata": {},
   "outputs": [],
   "source": [
    "def critical_f_value(alpha,df_n,df_d):\n",
    "    return stat.f.ppf(1-alpha,df_n,df_d)"
   ]
  },
  {
   "cell_type": "code",
   "execution_count": 4,
   "id": "7385e99d-398d-4d57-b3e3-cd67b4098aba",
   "metadata": {},
   "outputs": [
    {
     "data": {
      "text/plain": [
       "3.238871517453585"
      ]
     },
     "execution_count": 4,
     "metadata": {},
     "output_type": "execute_result"
    }
   ],
   "source": [
    "critical_f_value(0.05,3,16)"
   ]
  },
  {
   "cell_type": "markdown",
   "id": "215e3ec5-78b4-4da0-ac10-8dfa8674695a",
   "metadata": {},
   "source": [
    "Q3. Write a Python program that generates random samples from two normal distributions with known\n",
    "variances and uses an F-test to determine if the variances are equal. The program should output the F-\n",
    "value, degrees of freedom, and p-value for the test."
   ]
  },
  {
   "cell_type": "code",
   "execution_count": 5,
   "id": "30ba1e20-2bf1-4053-bcb8-433dcf209f80",
   "metadata": {},
   "outputs": [
    {
     "name": "stdout",
     "output_type": "stream",
     "text": [
      "F-value: 0.7244577378061607\n",
      "Degrees of freedom: (19, 24)\n",
      "P-value: 0.2386595071218028\n"
     ]
    }
   ],
   "source": [
    "n1,n2=20,25\n",
    "var1,var2=4.9,6.4\n",
    "sample1=np.random.normal(scale=np.sqrt(var1),size=n1)\n",
    "sample2=np.random.normal(scale=np.sqrt(var2),size=n2)\n",
    "f_value=np.var(sample1)/np.var(sample2)\n",
    "dof1=len(sample1)-1\n",
    "dof2=len(sample2)-1\n",
    "p_value=stat.f.cdf(f_value,dof1,dof2)\n",
    "print(f\"F-value: {f_value}\\nDegrees of freedom: {dof1,dof2}\\nP-value: {p_value}\")"
   ]
  },
  {
   "cell_type": "markdown",
   "id": "c63a0f4e-6e3e-4c7e-8e83-de8bdf8f05e5",
   "metadata": {},
   "source": [
    "Q4.The variances of two populations are known to be 10 and 15. A sample of 12 observations is taken from\n",
    "each population. Conduct an F-test at the 5% significance level to determine if the variances are\n",
    "significantly different."
   ]
  },
  {
   "cell_type": "markdown",
   "id": "84fa17fd-31f7-41e6-8d96-0596fa48e070",
   "metadata": {},
   "source": [
    "Null Hypothesis: The variances of two populations are not different. s1^2=s2^2\n",
    "Alternate hypothesis: The variances of two population are not different s1^2 != s2^2"
   ]
  },
  {
   "cell_type": "code",
   "execution_count": 6,
   "id": "97dd51b9-0889-459f-812d-95d58d83f3c1",
   "metadata": {},
   "outputs": [
    {
     "name": "stdout",
     "output_type": "stream",
     "text": [
      "F-value: 0.7244577378061607\n",
      "Critical value: 3.473699051085809\n",
      "we fail to reject null hypothesis\n"
     ]
    }
   ],
   "source": [
    "v1,v2=10,15\n",
    "n1,n2=12,12\n",
    "alpha=0.05\n",
    "dof1,dof2=n1-1,n2-1\n",
    "f_stats=v1/v2\n",
    "critical_value=abs(stat.f.ppf(1-alpha/2,dof1,dof2))\n",
    "print(f\"F-value: {f_value}\\nCritical value: {critical_value}\")\n",
    "if f_stats<(-critical_value) or f_stats>(+critical_value):\n",
    "    print(\"We reject null hypothesis\")\n",
    "else:\n",
    "    print(\"we fail to reject null hypothesis\")"
   ]
  },
  {
   "cell_type": "markdown",
   "id": "44e341eb-56f9-458a-899d-fa4edeb1e5ff",
   "metadata": {},
   "source": [
    "Q5. A manufacturer claims that the variance of the diameter of a certain product is 0.005. A sample of 25\n",
    "products is taken, and the sample variance is found to be 0.006. Conduct an F-test at the 1% significance\n",
    "level to determine if the claim is justified."
   ]
  },
  {
   "cell_type": "markdown",
   "id": "71c98ce7-bc0f-4b4a-a3fb-39d0421d023a",
   "metadata": {},
   "source": [
    "Null hypothesis: The population variance is equal to 0.005\n",
    "<br>Alternate hypothesis: The population variance is greater than 0.005"
   ]
  },
  {
   "cell_type": "code",
   "execution_count": 7,
   "id": "345bb423-7773-4a17-8841-b72fe44e4a2e",
   "metadata": {},
   "outputs": [
    {
     "name": "stdout",
     "output_type": "stream",
     "text": [
      "F-value: 0.7244577378061607\n",
      "Critical value: 4.462436043152857\n",
      "we fail to reject null hypothesis\n"
     ]
    }
   ],
   "source": [
    "var1=0.005\n",
    "var2=0.006\n",
    "s_size=25\n",
    "f_stats=var1/var2\n",
    "alpha=0.01\n",
    "critical_value=abs(stat.f.ppf(1-alpha,dof1,dof2))\n",
    "print(f\"F-value: {f_value}\\nCritical value: {critical_value}\")\n",
    "if f_stats>critical_value:\n",
    "    print(\"We reject null hypothesis\")\n",
    "else:\n",
    "    print(\"we fail to reject null hypothesis\")"
   ]
  },
  {
   "cell_type": "markdown",
   "id": "d1f5f333-50a5-474f-beb9-f65e28786ab9",
   "metadata": {},
   "source": [
    "Q6. Write a Python function that takes in the degrees of freedom for the numerator and denominator of an\n",
    "F-distribution and calculates the mean and variance of the distribution. The function should return the\n",
    "mean and variance as a tuple."
   ]
  },
  {
   "cell_type": "markdown",
   "id": "34494984-58a7-4477-8e29-9fe1f157dad0",
   "metadata": {},
   "source": [
    "mean of f distribution=df_d/(df_d-2)\n",
    "<br>Variance of f distribution=(2*df_d**2*(df_n+df_d-2))/(df_n*(df_d-2)**2*(df_d-4))"
   ]
  },
  {
   "cell_type": "code",
   "execution_count": 32,
   "id": "885319ba-fbc2-4953-adc7-67cb5a01f7c2",
   "metadata": {},
   "outputs": [],
   "source": [
    "def mean_var(df_n,df_d):\n",
    "    mean=df_d/(df_d-2)\n",
    "    variance=(2*df_d**2*(df_n+df_d-2))/(df_n*(df_d-2)**2*(df_d-4))\n",
    "    return mean,variance"
   ]
  },
  {
   "cell_type": "code",
   "execution_count": 33,
   "id": "ab2dcadd-bfc3-4ed8-b81d-b3c1010c6aff",
   "metadata": {},
   "outputs": [
    {
     "data": {
      "text/plain": [
       "(1.2857142857142858, 1.0820037105751392)"
      ]
     },
     "execution_count": 33,
     "metadata": {},
     "output_type": "execute_result"
    }
   ],
   "source": [
    "mean_var(11,9)"
   ]
  },
  {
   "cell_type": "markdown",
   "id": "9b22efe4-d3e9-4679-846f-5d78e5e2d6ca",
   "metadata": {},
   "source": [
    "Q7. A random sample of 10 measurements is taken from a normal population with unknown variance. The\n",
    "sample variance is found to be 25. Another random sample of 15 measurements is taken from another\n",
    "normal population with unknown variance, and the sample variance is found to be 20. Conduct an F-test\n",
    "at the 10% significance level to determine if the variances are significantly different."
   ]
  },
  {
   "cell_type": "markdown",
   "id": "217cb04e-e740-4891-aed2-0b1854171bcd",
   "metadata": {},
   "source": [
    "Null Hypothesis: The variance of population are same\n",
    "<br>Alternate hypothesis: The variance of population are different"
   ]
  },
  {
   "cell_type": "code",
   "execution_count": 9,
   "id": "d5259871-ec2b-416d-ab57-7c03df938ffa",
   "metadata": {},
   "outputs": [
    {
     "name": "stdout",
     "output_type": "stream",
     "text": [
      "F-stats: 1.25\n",
      "Critical value: 2.121954566976902\n",
      "we fail to reject null hypothesis\n"
     ]
    }
   ],
   "source": [
    "v1,v2=25,20\n",
    "n1,n2=10,15\n",
    "alpha=0.1\n",
    "dof1,dof2=n1-1,n2-1\n",
    "f_stats=v1/v2\n",
    "critical_value=stat.f.ppf(1-alpha,dof1,dof2)\n",
    "print(f\"F-stats: {f_stats}\\nCritical value: {critical_value}\")\n",
    "if f_stats>critical_value:\n",
    "    print(\"We reject null hypothesis\")\n",
    "else:\n",
    "    print(\"we fail to reject null hypothesis\")"
   ]
  },
  {
   "cell_type": "markdown",
   "id": "944f7182-9f1f-44f1-861a-da72ec446e13",
   "metadata": {},
   "source": [
    "Q8. The following data represent the waiting times in minutes at two different restaurants on a Saturday\n",
    "night: Restaurant A: 24, 25, 28, 23, 22, 20, 27; Restaurant B: 31, 33, 35, 30, 32, 36. Conduct an F-test at the 5%\n",
    "significance level to determine if the variances are significantly different."
   ]
  },
  {
   "cell_type": "markdown",
   "id": "1987edd4-ca57-43a7-8730-8bfd405dd228",
   "metadata": {},
   "source": [
    "Null Hypothesis: The variance are same\n",
    "<br>Alternate hypothesis: The variance are different"
   ]
  },
  {
   "cell_type": "code",
   "execution_count": 16,
   "id": "7f0d9feb-6961-4745-87b6-f41d96f8f5d4",
   "metadata": {},
   "outputs": [
    {
     "name": "stdout",
     "output_type": "stream",
     "text": [
      "F-stats: 1.496767651159843\n",
      "Critical value: 4.950288068694318\n",
      "we fail to reject null hypothesis\n"
     ]
    }
   ],
   "source": [
    "res_A=[24,25,28,23,22,20,27]\n",
    "res_B=[31,33,35,30,32,36]\n",
    "n1=len(res_A)\n",
    "n2=len(res_B)\n",
    "v1=np.var(res_A)\n",
    "v2=np.var(res_B)\n",
    "dof_A=n1-1\n",
    "dof_B=n2-1\n",
    "f_stats=v1/v2\n",
    "alpha=0.05\n",
    "critical_value=stat.f.ppf(1-alpha,dof_A,dof_B)\n",
    "print(f\"F-stats: {f_stats}\\nCritical value: {critical_value}\")\n",
    "if f_stats>critical_value:\n",
    "    print(\"We reject null hypothesis\")\n",
    "else:\n",
    "    print(\"we fail to reject null hypothesis\")"
   ]
  },
  {
   "cell_type": "markdown",
   "id": "9e8150bd-9a11-4f6e-b760-14c5d41158d1",
   "metadata": {},
   "source": [
    "Q9. The following data represent the test scores of two groups of students: Group A: 80, 85, 90, 92, 87, 83;\n",
    "Group B: 75, 78, 82, 79, 81, 84. Conduct an F-test at the 1% significance level to determine if the variances\n",
    "are significantly different."
   ]
  },
  {
   "cell_type": "markdown",
   "id": "be9aa720-9b18-4aa5-9f1b-3dc5b060edad",
   "metadata": {},
   "source": [
    "Null Hypothesis: The variance are same\n",
    "<br>Alternate hypothesis: The variance are different"
   ]
  },
  {
   "cell_type": "code",
   "execution_count": 22,
   "id": "2e466c80-0cfa-4f80-872c-ef0ed3afe75a",
   "metadata": {},
   "outputs": [
    {
     "name": "stdout",
     "output_type": "stream",
     "text": [
      "F-stats: 1.9442622950819677\n",
      "Critical value: 3.4529822480379053\n",
      "we fail to reject null hypothesis\n"
     ]
    }
   ],
   "source": [
    "group_a=[80,85,90,92,87,83]\n",
    "group_b=[75,78,82,79,81,84]\n",
    "n1=len(group_a)\n",
    "n2=len(group_b)\n",
    "v1=np.var(group_a)\n",
    "v2=np.var(group_b)\n",
    "dof_A=n1-1\n",
    "dof_B=n2-1\n",
    "f_stats=v1/v2\n",
    "alpha=0.1\n",
    "critical_value=stat.f.ppf(1-alpha,dof_A,dof_B)\n",
    "print(f\"F-stats: {f_stats}\\nCritical value: {critical_value}\")\n",
    "if f_stats>critical_value:\n",
    "    print(\"We reject null hypothesis\")\n",
    "else:\n",
    "    print(\"we fail to reject null hypothesis\")"
   ]
  }
 ],
 "metadata": {
  "kernelspec": {
   "display_name": "Python 3 (ipykernel)",
   "language": "python",
   "name": "python3"
  },
  "language_info": {
   "codemirror_mode": {
    "name": "ipython",
    "version": 3
   },
   "file_extension": ".py",
   "mimetype": "text/x-python",
   "name": "python",
   "nbconvert_exporter": "python",
   "pygments_lexer": "ipython3",
   "version": "3.10.8"
  }
 },
 "nbformat": 4,
 "nbformat_minor": 5
}
