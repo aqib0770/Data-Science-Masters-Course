{
 "cells": [
  {
   "cell_type": "markdown",
   "id": "469a544d-9fb2-413b-bc07-cb5d50794367",
   "metadata": {},
   "source": [
    "Q1. What is Min-Max scaling, and how is it used in data preprocessing? Provide an example to illustrate its\n",
    "application.\n",
    "<br>Ans. Min-Max scaling also known as Normalization is the method of scaling down the entire data into values between 0 and 1. In this process we find the smallest and biggest value from the dataset and apply this formula. \n",
    "<br>x_scaled=(xi-x_min)/(x_max-x_min)\n",
    "<br>Suppose we have a dataset with two features age(ranging from 18 to 65) and income(ranging from 1000 to 100000). The age feature has a smaller range than the income feature. To scale both features to a range between 0 and 1. we use min-max scaling"
   ]
  },
  {
   "cell_type": "code",
   "execution_count": 1,
   "id": "d748974e-83e1-4ee7-a6e2-7061077e45b1",
   "metadata": {},
   "outputs": [],
   "source": [
    "import numpy as np\n",
    "from sklearn.preprocessing import MinMaxScaler"
   ]
  },
  {
   "cell_type": "code",
   "execution_count": 2,
   "id": "cb2ac462-bcfa-4fb8-b113-ad838450befd",
   "metadata": {},
   "outputs": [],
   "source": [
    "age=np.random.randint(18,65,size=100)\n",
    "income=np.random.randint(1000,100000,size=100)\n",
    "data=np.column_stack((age,income)) #Stack the two arrays horizontally\n",
    "min_max=MinMaxScaler()\n",
    "scaled_data=min_max.fit_transform((data))"
   ]
  },
  {
   "cell_type": "code",
   "execution_count": 3,
   "id": "51132a5c-2561-4a59-9cac-8a316815ca84",
   "metadata": {},
   "outputs": [
    {
     "data": {
      "text/plain": [
       "array([[0.22222222, 0.97553181],\n",
       "       [0.8       , 0.51292621],\n",
       "       [0.48888889, 0.24226972],\n",
       "       [0.26666667, 0.67319084],\n",
       "       [0.31111111, 0.93580662],\n",
       "       [0.24444444, 0.22003053],\n",
       "       [0.75555556, 0.8723257 ],\n",
       "       [0.02222222, 0.83435115],\n",
       "       [0.44444444, 0.83300763],\n",
       "       [0.31111111, 0.16870229],\n",
       "       [0.28888889, 0.47685496],\n",
       "       [0.22222222, 0.88314504],\n",
       "       [0.31111111, 0.10235115],\n",
       "       [0.55555556, 0.21284478],\n",
       "       [0.6       , 0.72391858],\n",
       "       [0.02222222, 0.24979135],\n",
       "       [0.73333333, 0.20719593],\n",
       "       [0.28888889, 0.98379644],\n",
       "       [0.62222222, 0.96496692],\n",
       "       [0.53333333, 0.38258524],\n",
       "       [1.        , 0.78458015],\n",
       "       [0.04444444, 0.6475827 ],\n",
       "       [0.95555556, 0.25770992],\n",
       "       [0.62222222, 0.02443766],\n",
       "       [0.95555556, 0.72846819],\n",
       "       [0.73333333, 0.01179644],\n",
       "       [0.33333333, 0.05815776],\n",
       "       [0.86666667, 0.26284987],\n",
       "       [0.84444444, 0.20561832],\n",
       "       [0.82222222, 0.00243257],\n",
       "       [0.31111111, 0.61375064],\n",
       "       [0.26666667, 0.21296692],\n",
       "       [0.6       , 0.69464631],\n",
       "       [0.95555556, 0.40452926],\n",
       "       [0.08888889, 0.83865649],\n",
       "       [0.24444444, 0.01764885],\n",
       "       [0.37777778, 0.        ],\n",
       "       [0.46666667, 0.56438677],\n",
       "       [0.62222222, 0.95709924],\n",
       "       [0.26666667, 0.68759288],\n",
       "       [0.13333333, 0.41836132],\n",
       "       [0.71111111, 0.73291603],\n",
       "       [0.75555556, 0.67151145],\n",
       "       [0.42222222, 0.01259033],\n",
       "       [0.57777778, 0.68144529],\n",
       "       [0.77777778, 0.49266158],\n",
       "       [0.06666667, 0.25717048],\n",
       "       [0.46666667, 0.42579135],\n",
       "       [0.95555556, 0.56338931],\n",
       "       [0.04444444, 0.94210687],\n",
       "       [0.55555556, 0.22636132],\n",
       "       [0.73333333, 0.61435115],\n",
       "       [0.57777778, 0.89230534],\n",
       "       [0.68888889, 0.90249364],\n",
       "       [0.93333333, 0.08454962],\n",
       "       [0.82222222, 0.6733028 ],\n",
       "       [0.71111111, 0.75649873],\n",
       "       [0.86666667, 0.51945038],\n",
       "       [0.28888889, 0.06696183],\n",
       "       [1.        , 0.57543003],\n",
       "       [0.44444444, 0.47735369],\n",
       "       [0.31111111, 0.44069211],\n",
       "       [0.93333333, 0.08941476],\n",
       "       [0.68888889, 0.31359796],\n",
       "       [0.8       , 0.64287023],\n",
       "       [0.82222222, 0.74804071],\n",
       "       [0.57777778, 0.01106361],\n",
       "       [0.75555556, 0.35021883],\n",
       "       [0.24444444, 0.55794402],\n",
       "       [0.53333333, 0.83388295],\n",
       "       [0.31111111, 0.5749313 ],\n",
       "       [0.77777778, 0.53659033],\n",
       "       [0.71111111, 0.76319593],\n",
       "       [0.31111111, 0.6194402 ],\n",
       "       [0.91111111, 0.3213944 ],\n",
       "       [0.02222222, 0.52339949],\n",
       "       [0.22222222, 0.64735878],\n",
       "       [0.55555556, 0.98297201],\n",
       "       [0.6       , 0.74475318],\n",
       "       [0.84444444, 0.86812214],\n",
       "       [0.4       , 1.        ],\n",
       "       [0.82222222, 0.21110433],\n",
       "       [0.88888889, 0.55327226],\n",
       "       [0.48888889, 0.71521628],\n",
       "       [0.93333333, 0.50638168],\n",
       "       [0.6       , 0.01337405],\n",
       "       [0.66666667, 0.32622901],\n",
       "       [0.        , 0.53380153],\n",
       "       [0.91111111, 0.53107379],\n",
       "       [0.        , 0.70048855],\n",
       "       [0.77777778, 0.49298728],\n",
       "       [0.48888889, 0.63708906],\n",
       "       [0.62222222, 0.83380153],\n",
       "       [0.84444444, 0.8680916 ],\n",
       "       [0.55555556, 0.35606107],\n",
       "       [0.04444444, 0.964743  ],\n",
       "       [0.17777778, 0.27278372],\n",
       "       [0.66666667, 0.35830025],\n",
       "       [0.4       , 0.5829313 ],\n",
       "       [0.04444444, 0.89857506]])"
      ]
     },
     "execution_count": 3,
     "metadata": {},
     "output_type": "execute_result"
    }
   ],
   "source": [
    "scaled_data"
   ]
  },
  {
   "cell_type": "markdown",
   "id": "4cdbcf24-61a5-4365-8850-19c0cf6c322d",
   "metadata": {},
   "source": [
    "Q2. What is the Unit Vector technique in feature scaling, and how does it differ from Min-Max scaling?\n",
    "Provide an example to illustrate its application.\n",
    "<br>Ans. Unit vector is a technique in data preprocessing used to scale the values of feature. In this technique each feature vector is divided by its magnitude (Hypotenuse) to obtain the unit vector.\n",
    "<br>The main difference between min-max scaling and unit vector is that min-max scaling scales the values of feature to a fixed range(0and 1) while unit vector scales each feature vector to have a magnitude of 1"
   ]
  },
  {
   "cell_type": "markdown",
   "id": "0f07b4ad-f43b-45cc-8f7e-c6a95fd7cba1",
   "metadata": {},
   "source": [
    "Q3. What is PCA (Principle Component Analysis), and how is it used in dimensionality reduction? Provide an example to illustrate its application.\n",
    "<br>Ans. PCA is a technique used for dimensionality reduction. It is used to transform a dataset with many variables or dimensions into a smaller set of variables while retaining as much of the original information as possible."
   ]
  },
  {
   "cell_type": "code",
   "execution_count": 4,
   "id": "c46cf053-7762-47fd-b04b-7aaa60d48a6f",
   "metadata": {},
   "outputs": [],
   "source": [
    "from sklearn.decomposition import PCA"
   ]
  },
  {
   "cell_type": "code",
   "execution_count": 5,
   "id": "de35b0c4-a1b9-4630-af96-0fe5f151aab0",
   "metadata": {},
   "outputs": [],
   "source": [
    "age=np.random.randint(18,65,size=100)\n",
    "income=np.random.randint(1000,100000,size=100)\n",
    "education=np.random.randint(1,10,size=100)\n",
    "data=np.column_stack((age,income,education))"
   ]
  },
  {
   "cell_type": "code",
   "execution_count": 6,
   "id": "40aa820d-0d50-4bdd-b6d8-a6ba0c0fd174",
   "metadata": {},
   "outputs": [],
   "source": [
    "pca=PCA(n_components=2)\n",
    "reduced_data=pca.fit_transform(data)"
   ]
  },
  {
   "cell_type": "code",
   "execution_count": 7,
   "id": "7283669e-4e9f-4334-bce0-927cac49c316",
   "metadata": {},
   "outputs": [
    {
     "data": {
      "text/plain": [
       "array([[-6.65429010e+03, -9.30510183e+00],\n",
       "       [ 3.21267100e+04, -4.74538111e+00],\n",
       "       [-4.23502901e+04, -1.49597385e+01],\n",
       "       [ 1.65617098e+04, -2.05848376e+01],\n",
       "       [ 4.47877102e+04,  1.91867448e+01],\n",
       "       [ 3.09307098e+04, -1.76690611e+01],\n",
       "       [ 2.25637099e+04, -1.36467908e+01],\n",
       "       [-6.13228979e+03,  2.37088152e+01],\n",
       "       [ 4.79387098e+04, -1.88751229e+01],\n",
       "       [ 8.00970990e+03, -1.55079518e+01],\n",
       "       [ 3.46167099e+04, -3.69709399e+00],\n",
       "       [ 5.48370994e+03, -8.46132279e+00],\n",
       "       [ 1.91617103e+04,  2.44176514e+01],\n",
       "       [ 2.22570997e+03, -2.39657509e+00],\n",
       "       [-9.22728989e+03,  1.17201200e+01],\n",
       "       [ 1.65907100e+04,  4.87578274e-01],\n",
       "       [ 1.21571026e+03,  2.15807836e+01],\n",
       "       [-4.04582900e+04,  8.07234751e+00],\n",
       "       [ 3.48497102e+04,  2.12569046e+01],\n",
       "       [-3.05132900e+04,  9.49620795e-01],\n",
       "       [ 4.40747097e+04, -2.18036580e+01],\n",
       "       [-2.66072899e+04,  1.08773352e+01],\n",
       "       [ 3.53187102e+04,  1.32419849e+01],\n",
       "       [-3.26692900e+04, -2.09142608e+00],\n",
       "       [-2.12702902e+04, -1.41232409e+01],\n",
       "       [-2.97862901e+04, -1.30676110e+01],\n",
       "       [-3.62128993e+03,  8.67334036e+00],\n",
       "       [-4.47792899e+04,  3.05361874e+00],\n",
       "       [-3.36872902e+04, -1.60063214e+01],\n",
       "       [ 4.66757098e+04, -2.18408916e+01],\n",
       "       [-1.45792898e+04,  1.97745706e+01],\n",
       "       [-4.04972902e+04, -1.69469693e+01],\n",
       "       [-2.47302902e+04, -1.60981945e+01],\n",
       "       [-5.06129004e+03, -2.31127664e+00],\n",
       "       [ 2.62337100e+04, -9.69521204e+00],\n",
       "       [-1.12832902e+04, -1.92781740e+01],\n",
       "       [-3.39122901e+04, -1.10148468e+01],\n",
       "       [ 2.80567100e+04, -3.68258083e+00],\n",
       "       [ 8.28670990e+03, -1.35003497e+01],\n",
       "       [ 1.55067100e+04,  8.49825138e+00],\n",
       "       [-2.59422901e+04, -1.10860414e+01],\n",
       "       [-1.37232902e+04, -2.02530909e+01],\n",
       "       [-2.34628997e+03,  5.67098435e+00],\n",
       "       [ 3.20017102e+04,  1.32654531e+01],\n",
       "       [-1.92112902e+04, -1.81546922e+01],\n",
       "       [-6.09628983e+03,  2.07191678e+01],\n",
       "       [ 3.71917100e+04, -2.74467126e+00],\n",
       "       [-1.06252899e+04,  1.17239048e+01],\n",
       "       [-2.30129017e+03, -1.83703593e+01],\n",
       "       [ 4.90317098e+04, -1.68970001e+01],\n",
       "       [ 3.05947102e+04,  2.03322686e+01],\n",
       "       [-1.90092902e+04, -2.01777622e+01],\n",
       "       [ 2.20067100e+04, -6.20692288e-01],\n",
       "       [ 3.17171014e+03,  9.55083432e+00],\n",
       "       [-3.98982897e+04,  2.50339924e+01],\n",
       "       [ 2.31297102e+04,  1.83456211e+01],\n",
       "       [ 1.40157099e+04, -3.49634153e+00],\n",
       "       [ 4.70427101e+04,  6.14322967e+00],\n",
       "       [-1.40429013e+03, -9.33784232e+00],\n",
       "       [ 1.41207099e+04, -1.15603013e+01],\n",
       "       [-2.70872900e+04,  1.92497888e+00],\n",
       "       [ 4.14257099e+04, -7.81948563e+00],\n",
       "       [-3.51102900e+04, -4.03461283e+00],\n",
       "       [-1.68582899e+04,  8.81966875e+00],\n",
       "       [-2.40322898e+04,  2.38713084e+01],\n",
       "       [-7.76328999e+03,  6.95161574e-01],\n",
       "       [-3.37232901e+04, -8.02750721e+00],\n",
       "       [ 5.60371024e+03,  1.85253877e+01],\n",
       "       [-1.27742900e+04,  7.57114792e-01],\n",
       "       [-3.62992898e+04,  1.89974112e+01],\n",
       "       [ 2.63270994e+03, -1.36914126e+00],\n",
       "       [-3.99782902e+04, -1.89310719e+01],\n",
       "       [ 3.15207102e+04,  1.62913291e+01],\n",
       "       [-4.80802902e+04, -1.28694123e+01],\n",
       "       [-3.92729014e+03, -1.73748463e+01],\n",
       "       [-2.36942899e+04,  7.82651385e+00],\n",
       "       [ 1.82647099e+04, -1.15816974e+01],\n",
       "       [ 2.42847099e+04, -1.36327792e+01],\n",
       "       [ 3.12427102e+04,  1.32626835e+01],\n",
       "       [-2.15532898e+04,  2.08249387e+01],\n",
       "       [ 3.80737099e+04, -1.48163780e+01],\n",
       "       [ 2.81987102e+04,  1.33044610e+01],\n",
       "       [-3.72742899e+04,  7.00808032e+00],\n",
       "       [-2.94852901e+04, -8.06042221e+00],\n",
       "       [-2.30282900e+04,  3.87267905e+00],\n",
       "       [-4.54722901e+04, -1.87566620e+00],\n",
       "       [ 2.12277099e+04, -5.59928348e-01],\n",
       "       [-4.44912898e+04,  1.60288311e+01],\n",
       "       [ 1.41467101e+04,  1.45013121e+01],\n",
       "       [ 4.44717100e+04, -5.86139499e+00],\n",
       "       [ 4.24757101e+04,  1.42001831e+01],\n",
       "       [ 5.46470998e+03, -1.42985364e+00],\n",
       "       [-4.03752901e+04, -1.69904396e+01],\n",
       "       [-1.57072898e+04,  1.77651426e+01],\n",
       "       [ 2.06377100e+04, -9.63781313e+00],\n",
       "       [-3.45102899e+04,  1.09478426e+01],\n",
       "       [ 4.10767100e+04,  4.20453513e+00],\n",
       "       [ 6.98470995e+03, -4.44527738e+00],\n",
       "       [ 3.08971020e+03,  2.36247787e+01],\n",
       "       [-1.47412898e+04,  1.97867869e+01]])"
      ]
     },
     "execution_count": 7,
     "metadata": {},
     "output_type": "execute_result"
    }
   ],
   "source": [
    "reduced_data"
   ]
  },
  {
   "cell_type": "markdown",
   "id": "d1af6199-b46a-4830-a337-efacc31bd9d1",
   "metadata": {},
   "source": [
    "Q4. What is the relationship between PCA and Feature Extraction, and how can PCA be used for Feature Extraction? Provide an example to illustrate this concept.\n",
    "<br>Ans. Feature extraction is the process of transforming the original features into a new set of features that are more suitable for the model. While PCA is one of the methods of feature extraction as it creates new features (principal components) that are linear combinations of the original features\n",
    "<br>PCA can be used when original features are highly correlated and noisy. By using PCA, we can reduce the number of features and select the most important ones that capture the most variance in data"
   ]
  },
  {
   "cell_type": "markdown",
   "id": "97f6742a-567b-4368-898d-77db79879a35",
   "metadata": {},
   "source": [
    "Q5. You are working on a project to build a recommendation system for a food delivery service. The dataset\n",
    "contains features such as price, rating, and delivery time. Explain how you would use Min-Max scaling to\n",
    "preprocess the data.\n",
    "<br>Ans. Min-max scaling can be used as a step to normalize the data to build a recommendation system for a food delivery service. This ensures that all features lie on the similar scale and have equal importance in the model.\n",
    "<br>Here is an example of how to use min-max scaling in preprocessing the data."
   ]
  },
  {
   "cell_type": "code",
   "execution_count": 8,
   "id": "bbd204de-ab20-4e96-bdaa-86e161bd407d",
   "metadata": {},
   "outputs": [
    {
     "data": {
      "text/plain": [
       "array([[0.67801858, 1.        , 0.85714286],\n",
       "       [0.71104231, 0.66666667, 0.75510204],\n",
       "       [0.01031992, 1.        , 0.2244898 ],\n",
       "       [0.10423117, 1.        , 0.06122449],\n",
       "       [0.2745098 , 0.33333333, 0.20408163],\n",
       "       [0.45304438, 0.33333333, 0.36734694],\n",
       "       [0.92776058, 1.        , 0.81632653],\n",
       "       [0.86584107, 1.        , 0.81632653],\n",
       "       [0.52321981, 1.        , 0.30612245],\n",
       "       [0.74097007, 1.        , 0.89795918],\n",
       "       [0.93085655, 0.33333333, 0.36734694],\n",
       "       [0.14344685, 0.66666667, 0.14285714],\n",
       "       [0.0753354 , 0.        , 0.51020408],\n",
       "       [0.74303406, 1.        , 0.40816327],\n",
       "       [0.84726522, 0.66666667, 0.34693878],\n",
       "       [0.9370485 , 1.        , 0.83673469],\n",
       "       [0.76780186, 0.66666667, 0.06122449],\n",
       "       [0.1630547 , 0.        , 0.14285714],\n",
       "       [0.07739938, 0.        , 0.53061224],\n",
       "       [0.25077399, 0.        , 0.08163265],\n",
       "       [0.86996904, 0.66666667, 0.36734694],\n",
       "       [0.07636739, 1.        , 0.24489796],\n",
       "       [0.4499484 , 0.        , 0.28571429],\n",
       "       [0.16408669, 0.66666667, 0.53061224],\n",
       "       [0.83281734, 1.        , 0.24489796],\n",
       "       [0.8245614 , 0.        , 0.95918367],\n",
       "       [0.59855521, 0.66666667, 0.85714286],\n",
       "       [0.30340557, 0.        , 0.46938776],\n",
       "       [0.50670795, 0.33333333, 0.18367347],\n",
       "       [0.80288958, 1.        , 0.73469388],\n",
       "       [0.91640867, 0.66666667, 0.30612245],\n",
       "       [0.7378741 , 0.33333333, 0.55102041],\n",
       "       [0.01754386, 0.66666667, 0.20408163],\n",
       "       [0.2373581 , 1.        , 0.87755102],\n",
       "       [0.0247678 , 0.66666667, 0.7755102 ],\n",
       "       [0.72858617, 0.        , 0.75510204],\n",
       "       [0.33023736, 1.        , 0.93877551],\n",
       "       [0.68524252, 0.66666667, 0.7755102 ],\n",
       "       [0.86996904, 0.33333333, 0.48979592],\n",
       "       [0.33539732, 0.66666667, 0.81632653],\n",
       "       [0.56037152, 0.66666667, 0.14285714],\n",
       "       [0.99071207, 0.66666667, 0.75510204],\n",
       "       [0.15686275, 0.66666667, 0.40816327],\n",
       "       [0.39112487, 0.33333333, 0.24489796],\n",
       "       [0.29308566, 0.        , 0.32653061],\n",
       "       [0.        , 1.        , 0.83673469],\n",
       "       [0.86893705, 0.        , 0.57142857],\n",
       "       [0.25490196, 0.        , 0.57142857],\n",
       "       [0.01444788, 0.33333333, 0.        ],\n",
       "       [0.41382869, 0.33333333, 0.04081633],\n",
       "       [0.42724458, 0.66666667, 0.63265306],\n",
       "       [0.54901961, 0.        , 0.10204082],\n",
       "       [0.63157895, 0.        , 0.73469388],\n",
       "       [0.62229102, 0.66666667, 0.83673469],\n",
       "       [0.5128999 , 0.33333333, 0.59183673],\n",
       "       [0.64602683, 0.66666667, 0.65306122],\n",
       "       [0.2868937 , 0.        , 0.3877551 ],\n",
       "       [0.55830753, 0.66666667, 0.95918367],\n",
       "       [0.66666667, 0.66666667, 0.34693878],\n",
       "       [0.74303406, 1.        , 0.51020408],\n",
       "       [0.91744066, 1.        , 0.3877551 ],\n",
       "       [0.54385965, 1.        , 0.81632653],\n",
       "       [0.2249742 , 0.33333333, 0.06122449],\n",
       "       [0.85964912, 0.        , 0.02040816],\n",
       "       [0.75232198, 0.        , 0.2244898 ],\n",
       "       [0.90196078, 0.66666667, 0.06122449],\n",
       "       [0.48916409, 0.        , 0.36734694],\n",
       "       [0.90092879, 0.66666667, 0.42857143],\n",
       "       [0.50257998, 1.        , 0.48979592],\n",
       "       [0.29308566, 1.        , 0.34693878],\n",
       "       [0.52115583, 0.33333333, 1.        ],\n",
       "       [0.98555212, 0.        , 0.75510204],\n",
       "       [0.09494324, 0.33333333, 0.87755102],\n",
       "       [0.42208462, 0.66666667, 0.55102041],\n",
       "       [0.6996904 , 1.        , 0.79591837],\n",
       "       [0.19401445, 1.        , 0.04081633],\n",
       "       [0.65221878, 1.        , 0.08163265],\n",
       "       [0.22910217, 0.33333333, 0.63265306],\n",
       "       [0.25386997, 0.        , 0.32653061],\n",
       "       [0.91434469, 0.33333333, 0.6122449 ],\n",
       "       [0.11455108, 0.66666667, 0.89795918],\n",
       "       [0.65118679, 0.33333333, 0.2244898 ],\n",
       "       [0.39525284, 0.66666667, 1.        ],\n",
       "       [0.88648091, 0.33333333, 0.32653061],\n",
       "       [0.05572755, 1.        , 0.93877551],\n",
       "       [0.50464396, 0.66666667, 0.04081633],\n",
       "       [0.40866873, 0.33333333, 0.34693878],\n",
       "       [0.78224974, 0.        , 0.91836735],\n",
       "       [0.00825593, 0.33333333, 0.44897959],\n",
       "       [0.95562436, 0.        , 0.36734694],\n",
       "       [0.49432405, 0.        , 0.53061224],\n",
       "       [0.69865841, 0.33333333, 0.20408163],\n",
       "       [1.        , 0.66666667, 0.79591837],\n",
       "       [0.56656347, 0.        , 0.79591837],\n",
       "       [0.45510836, 0.66666667, 0.36734694],\n",
       "       [0.6130031 , 0.33333333, 0.69387755],\n",
       "       [0.1372549 , 0.        , 0.42857143],\n",
       "       [0.60371517, 1.        , 0.95918367],\n",
       "       [0.92879257, 0.        , 0.81632653],\n",
       "       [0.81320949, 0.66666667, 0.89795918]])"
      ]
     },
     "execution_count": 8,
     "metadata": {},
     "output_type": "execute_result"
    }
   ],
   "source": [
    "price=np.random.randint(10,1000,size=100)\n",
    "rating=np.random.randint(1,5,size=100)\n",
    "delivery_time=np.random.randint(10,60,size=100) #time between 10 minutes to 60 minutes\n",
    "data=np.column_stack((price,rating,delivery_time))\n",
    "scaler=MinMaxScaler()\n",
    "scaled_data=scaler.fit_transform(data)\n",
    "scaled_data"
   ]
  },
  {
   "cell_type": "markdown",
   "id": "7cb9eed9-f728-4ae9-9be4-54e08380c4ba",
   "metadata": {},
   "source": [
    "Q6. You are working on a project to build a model to predict stock prices. The dataset contains many\n",
    "features, such as company financial data and market trends. Explain how you would use PCA to reduce the\n",
    "dimensionality of the dataset.\n",
    "<br>Ans. If we want to build a model to predict stock prices with dataset containing features such as financial data and market trends, we can use PCA to reduce the dimensionality of the dataset by following methods:\n",
    "1. Preprocess the data: Before applying PCA, it is important to preprocess the data and handle missing values, normalizing or standardizing the features and perform necessary data sleaning steps.\n",
    "2. Identify the features: Determine the set of features to use from the dataset for stock price prediction. These features can include company's financial data and market trends.\n",
    "3. Apply PCA: Use PCA to reduce the dimensionality of the dataset. It creates new features called Principle components which are linear combinations of original features. These principal components are derived in a way that captures the maximum variance in the data.\n",
    "4. Determine the number of components: Decide the number of features to retain based on desired level of dimensionality reduction."
   ]
  },
  {
   "cell_type": "markdown",
   "id": "decea392-40b2-426d-bbe1-8ee7681a5a68",
   "metadata": {},
   "source": [
    "Q7. For a dataset containing the following values: [1, 5, 10, 15, 20], perform Min-Max scaling to transform the\n",
    "values to a range of -1 to 1."
   ]
  },
  {
   "cell_type": "code",
   "execution_count": 9,
   "id": "0ec4592b-2d93-4b72-9f08-3d44ca9fd4f8",
   "metadata": {},
   "outputs": [
    {
     "data": {
      "text/plain": [
       "array([[-1., -1., -1., -1., -1.]])"
      ]
     },
     "execution_count": 9,
     "metadata": {},
     "output_type": "execute_result"
    }
   ],
   "source": [
    "data=[[1, 5, 10, 15, 20]]\n",
    "scaler=MinMaxScaler(feature_range=(-1,1))\n",
    "scaled_data=scaler.fit_transform(data)\n",
    "scaled_data"
   ]
  },
  {
   "cell_type": "markdown",
   "id": "8005e819-8f19-425a-a7bc-400fda4f045a",
   "metadata": {},
   "source": [
    "Q8. For a dataset containing the following features: [height, weight, age, gender, blood pressure], perform\n",
    "Feature Extraction using PCA. How many principal components would you choose to retain, and why?"
   ]
  },
  {
   "cell_type": "code",
   "execution_count": 37,
   "id": "e7b1664d-a8f7-4395-b9cb-47d817642171",
   "metadata": {},
   "outputs": [
    {
     "name": "stdout",
     "output_type": "stream",
     "text": [
      "Proportion of variance explained by each principal component: [5.62772611e-01 4.27686843e-01 9.36776170e-03 1.72784627e-04\n",
      " 2.86379849e-33]\n",
      "Cumulative Explained Variance Ratio: [0.56277261 0.99045945 0.99982722 1.         1.        ]\n",
      "Number of principal components to retain: 2\n"
     ]
    },
    {
     "data": {
      "image/png": "[encoded data removed]",
      "text/plain": [
       "<Figure size 640x480 with 1 Axes>"
      ]
     },
     "metadata": {},
     "output_type": "display_data"
    }
   ],
   "source": [
    "import pandas as pd\n",
    "from sklearn.preprocessing import StandardScaler\n",
    "from sklearn.decomposition import PCA\n",
    "from sklearn.preprocessing import LabelEncoder\n",
    "import matplotlib.pyplot as plt\n",
    "#Creating a dataset\n",
    "Height=[170, 160, 180, 165, 175, 155, 185, 170, 175, 165]\n",
    "Weight= [70, 60, 80, 65, 75, 55, 85, 70, 75, 65]\n",
    "Age= [25, 30, 35, 40, 45, 50, 55, 60, 65, 70]\n",
    "Gender= ['M', 'F', 'M', 'F', 'M', 'F', 'M', 'F', 'M', 'F']\n",
    "Blood_Pressure= [120, 110, 130, 120, 125, 115, 135, 120,125 ,120]\n",
    "\n",
    "data=pd.DataFrame({'Height':Height,'Weight':Weight,'Age':Age,'Gender':Gender,'Blood pressure':Blood_Pressure})\n",
    "#Encoding gender feature\n",
    "le=LabelEncoder()\n",
    "data['Gender']=le.fit_transform(data['Gender'])\n",
    "#Scaling down the data\n",
    "scaler = StandardScaler()\n",
    "scaler.fit_transform(data)\n",
    "#performing PCA\n",
    "pca=PCA()\n",
    "pca.fit_transform(data)\n",
    "#variance explained by each principal component\n",
    "explained_variance_ratio = pca.explained_variance_ratio_\n",
    "cumulative_explained_variance_ratio = np.cumsum(explained_variance_ratio)\n",
    "plt.plot(range(1,len(cumulative_explained_variance_ratio)+1),cumulative_explained_variance_ratio)\n",
    "print(f\"Proportion of variance explained by each principal component: {explained_variance_ratio}\")\n",
    "print(f\"Cumulative Explained Variance Ratio: {cumulative_explained_variance_ratio}\")\n",
    "variance_threshold = 0.95  # Set the desired variance threshold\n",
    "n_components = np.argmax(cumulative_explained_variance_ratio >= variance_threshold) + 1\n",
    "print(f\"Number of principal components to retain: {n_components}\")"
   ]
  },
  {
   "cell_type": "code",
   "execution_count": null,
   "id": "64d53c4e-01b0-41f6-a842-5098eba050c9",
   "metadata": {},
   "outputs": [],
   "source": [
    "I would retain 2 principal components because the first two components explains the maximum proportion of the data"
   ]
  }
 ],
 "metadata": {
  "kernelspec": {
   "display_name": "Python 3 (ipykernel)",
   "language": "python",
   "name": "python3"
  },
  "language_info": {
   "codemirror_mode": {
    "name": "ipython",
    "version": 3
   },
   "file_extension": ".py",
   "mimetype": "text/x-python",
   "name": "python",
   "nbconvert_exporter": "python",
   "pygments_lexer": "ipython3",
   "version": "3.10.8"
  }
 },
 "nbformat": 4,
 "nbformat_minor": 5
}
