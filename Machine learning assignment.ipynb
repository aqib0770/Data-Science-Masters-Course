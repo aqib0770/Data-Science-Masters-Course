{
 "cells": [
  {
   "cell_type": "markdown",
   "id": "0b379c90-b0fd-4efa-b730-b3ac52d92271",
   "metadata": {},
   "source": [
    "Q1: Explain the following with an example\n",
    "<br>Artificial intelligence\n",
    "<br>2. Machine learning\n",
    "<br>3. Deep learning \n",
    "<br>Ans> 1.Artificial intelligence is the application which can perform it's task without any human intervention\n",
    "2. Machine learning : It is the method of learning, analysing and developing the ai model from data.\n",
    "3. Deep learning: It is a specialised form of machine learning that focuses on training artificial networks which are inspired by structure and function of a human brain."
   ]
  },
  {
   "cell_type": "markdown",
   "id": "d6faf1f2-3588-4600-8ef4-d47921c23854",
   "metadata": {},
   "source": [
    "Q2: What is supervised learning? List some examples of supervised learning.\n",
    "<br>Ans. Supervised learning is the method of training a model with some input and output data. There are two types of supervised learning: 1. Classification learning and regression learning. In classification supervised learning, the output is categorical and in regression supervised learning, the output is continuous."
   ]
  },
  {
   "cell_type": "markdown",
   "id": "a2fd3a83-3537-4669-9377-0205564a11b4",
   "metadata": {},
   "source": [
    "Q3: What is unsupervised learning? List some examples of unsupervised learning.\n",
    "<br>Ans. Unsupervised learning is the method of training the model with data which has input but no output. Hence we divide the data into clusters or groups\n",
    "<br>Examples of unsupervised learning are making group of fruits based on their shape and color"
   ]
  },
  {
   "cell_type": "markdown",
   "id": "b6185132-5f26-42ae-94ae-05cf042d194d",
   "metadata": {},
   "source": [
    "Q4: What is the difference between AI, ML, DL, and DS?\n",
    "<br>Ans. AI is the broader concepts of creating machines or models that can do its task without human intervention\n",
    "2. Machine learning (ML) is the subset of AI that focuses on development of models that allow them to learn and make predections.\n",
    "3. Deep learning (DL) is a subset of Machine learning that focuses on training artificial neural networks.\n",
    "4. Data Science (DS) involves extraction of insights from data through various techniques such as statistical analysis, machine learning and deep learning."
   ]
  },
  {
   "cell_type": "markdown",
   "id": "be538d07-d85a-4db0-8605-3daefbbbe3c2",
   "metadata": {},
   "source": [
    "Q5- What are the main differences between supervised, unsupervised, and semi-supervised learning?\n",
    "<br>Ans. Supervised learning: It involves training the model with labelled data where input data is paired with corresponding output data. The goal is to predict the output of new unseen data.\n",
    "<br>Unsupervised learning: It involves training the model with unlabelled data. The goal is to make patterns and clusters from the data.\n",
    "<br>Semi-supervised learning: It is the combination of supervised and unsupervised learning. It is a method that uses small amount of labelled data and large amount of unlabelled data to train a model"
   ]
  },
  {
   "cell_type": "markdown",
   "id": "27f912ff-5a50-4d76-94cb-6cb4ac4aa3ec",
   "metadata": {},
   "source": [
    "Q6- What is train, test and validation split? Explain the importance of each term.\n",
    "<br>Ans. Whenever we solve any ML problem, we require dataset and then we split that dataset into three parts: train,test and validation.\n",
    "<br>Train: In first part, we train the model with various different data based on the problem.\n",
    "<br>Validate: In further step, we validate the mode by fine-tuning and optimizing the model to get more accurate output from the model.\n",
    "<br>Test: At the end, we test the model with unknown data."
   ]
  },
  {
   "cell_type": "markdown",
   "id": "5e4df0d0-762d-48e9-b647-a92f0cf3e4ad",
   "metadata": {},
   "source": [
    "Q7: How can unsupervised learning be used in anomaly detection?\n",
    "<br>Ans. Unsupervised learning can be a powerful tool for anomaly detection because it does not require labelled data. Anomalies can be detected by forming the clusters and if any instance doesn't match to any cluster, then it is an outlier or anomaly"
   ]
  },
  {
   "cell_type": "markdown",
   "id": "be80c16b-0942-4f73-96ff-bbc522905da9",
   "metadata": {},
   "source": [
    "Q8: List down some commonly used supervised learning algorithms and unsupervised learning\n",
    "algorithms.\n",
    "<br>Ans. Some commonly used supervised learning algorithms are:\n",
    "1. Linear regression\n",
    "2. Logistic regression\n",
    "3. Decision trees\n",
    "4. Support Vector Machines\n",
    "5. Naive Bayes\n",
    "<br>Some commonly used unsupervised learning algorithms are:\n",
    "1. K-Means clustering\n",
    "2. Principal Component Analysis (PCA)\n",
    "3. Independent components analysis\n",
    "4. Gaussian Matrix Mixture Models (GMM)\n",
    "5. Hierarchical Clustering"
   ]
  }
 ],
 "metadata": {
  "kernelspec": {
   "display_name": "Python 3 (ipykernel)",
   "language": "python",
   "name": "python3"
  },
  "language_info": {
   "codemirror_mode": {
    "name": "ipython",
    "version": 3
   },
   "file_extension": ".py",
   "mimetype": "text/x-python",
   "name": "python",
   "nbconvert_exporter": "python",
   "pygments_lexer": "ipython3",
   "version": "3.10.8"
  }
 },
 "nbformat": 4,
 "nbformat_minor": 5
}
