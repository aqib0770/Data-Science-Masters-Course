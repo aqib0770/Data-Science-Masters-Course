{
 "cells": [
  {
   "cell_type": "markdown",
   "id": "402fa272-454d-4c44-9467-23ca7e69e040",
   "metadata": {},
   "source": [
    "Q1. What is Ridge Regression, and how does it differ from ordinary least squares regression?\n",
    "<br>Ans: Ridge regression is a type of linear regression that adds a penalty to the ordinary least squares (ORS) or cost function.\n",
    "This penalty penalizes large coefficients to shrink towards zero. This helps to prevent overfitting in the model.\n",
    "<br>There are many differences between these two regression. Ridge regression is more robust towards overfitting while ORS is less robust. Ridge regression's coefficient shrinks towards zero while OLS regression dosen't."
   ]
  },
  {
   "cell_type": "markdown",
   "id": "0d047d1a-2a28-441f-b5fe-1ac7951770c3",
   "metadata": {},
   "source": [
    "Q2. What are the assumptions of Ridge Regression?\n",
    "<br>Ans:\n",
    "1. The relationship between predicted values and actual values should be linear.\n",
    "2. The values of error between actual and predicted values should be normally distributed.\n",
    "3. The variance of errors must be constant"
   ]
  },
  {
   "cell_type": "markdown",
   "id": "c940f66e-a726-4e78-aee4-bcc6acb2f0ea",
   "metadata": {},
   "source": [
    "Q3. How do you select the value of the tuning parameter (lambda) in Ridge Regression?\n",
    "<br>Ans: One way to select the value of tuning parameter is by using cross validation. Cross validation involves dividing the dataset in test data and training data. The model is then fit to the training set and the value of lambda is chosen that minimize the error on the test set."
   ]
  },
  {
   "cell_type": "markdown",
   "id": "8dfaf56c-9276-4667-913b-51fc4fee7399",
   "metadata": {},
   "source": [
    "Q4. Can Ridge Regression be used for feature selection? If yes, how?\n",
    "<br>Ans: Although it is not a suitable method for feature selection but in some cases it can be used for selecting features. This is because Ridge regression also penalizes the coefficients and shrink towards zero. This can help to identify the features which are not important. To use Ridge regression for feature selection, following steps can be taken:\n",
    "1. Fit a ridge regression model to the training data.\n",
    "2. Look at the coefficients of the model. The coefficients that are closest to zero are least important features.\n",
    "3. Remove the features which are closest to zero."
   ]
  },
  {
   "cell_type": "markdown",
   "id": "9bd392e3-f15a-4bb4-a7e4-1db2fd8f636a",
   "metadata": {},
   "source": [
    "Q5. How does the Ridge Regression model perform in the presence of multicollinearity?\n",
    "<br>Ans: In the presence of multicollinearity, OLS regression can produce unstable estimates with large standard errors. This is because OLS are sensitive to the exact values of the coefficients and when the coefficients are correlated, small changes in the data can lead to large changes in estimates.\n",
    "<br>Ridge regression can stabilize the OLS estimates by shrinking them towards zero. This resuces the impact of collinearity."
   ]
  },
  {
   "cell_type": "markdown",
   "id": "b21f00d4-4b10-4a28-91f3-5c4164f129b7",
   "metadata": {},
   "source": [
    "Q6. Can Ridge Regression handle both categorical and continuous independent variables?\n",
    "<br>Ans: Yes, Ridge regression can handle both type of independent variables. Categorical variables are encoded as dummy variable which are binary variables that indicates the presence or absence of a particular category"
   ]
  },
  {
   "cell_type": "markdown",
   "id": "0b1aa1ae-a573-4b46-81ec-7fd47d155769",
   "metadata": {},
   "source": [
    "Q7. How do you interpret the coefficients of Ridge Regression?\n",
    "<br>Ans: In Ridge regression the coefficient are shrunk toward zero by adding a penalty term to the ordinary least square(OLS). This penalty is the square of magnitude of coefficient. The larger the coefficient, the larger the penalty"
   ]
  }
 ],
 "metadata": {
  "kernelspec": {
   "display_name": "Python 3 (ipykernel)",
   "language": "python",
   "name": "python3"
  },
  "language_info": {
   "codemirror_mode": {
    "name": "ipython",
    "version": 3
   },
   "file_extension": ".py",
   "mimetype": "text/x-python",
   "name": "python",
   "nbconvert_exporter": "python",
   "pygments_lexer": "ipython3",
   "version": "3.10.8"
  }
 },
 "nbformat": 4,
 "nbformat_minor": 5
}
