{
 "cells": [
  {
   "cell_type": "code",
   "execution_count": 1,
   "id": "8e775bb3-4ada-4bb9-a4dc-aed2b37688bf",
   "metadata": {},
   "outputs": [],
   "source": [
    "import pandas as pd"
   ]
  },
  {
   "cell_type": "markdown",
   "id": "17201ffd-eee6-4c38-ae68-5b0ffd9bb879",
   "metadata": {},
   "source": [
    "Q1. Create a Pandas Series that contains the following data: 4, 8, 15, 16, 23, and 42. Then, print the series."
   ]
  },
  {
   "cell_type": "code",
   "execution_count": 7,
   "id": "1511c07d-fec6-42b9-8430-0ac25ec7aa8c",
   "metadata": {},
   "outputs": [],
   "source": [
    "series=pd.Series([4,8,15,16,23,42])"
   ]
  },
  {
   "cell_type": "code",
   "execution_count": 8,
   "id": "b00c244d-0463-4efd-9d37-a83b8b5e7db3",
   "metadata": {},
   "outputs": [
    {
     "name": "stdout",
     "output_type": "stream",
     "text": [
      "0     4\n",
      "1     8\n",
      "2    15\n",
      "3    16\n",
      "4    23\n",
      "5    42\n",
      "dtype: int64\n"
     ]
    }
   ],
   "source": [
    "print(series)"
   ]
  },
  {
   "cell_type": "markdown",
   "id": "860674c8-f540-44b9-81e9-65d052ccbccd",
   "metadata": {},
   "source": [
    "Q1. Create a Pandas Series that contains the following data: 4, 8, 15, 16, 23, and 42. Then, print the series."
   ]
  },
  {
   "cell_type": "code",
   "execution_count": 9,
   "id": "989ba159-6138-4c3e-989f-c6187caca5e8",
   "metadata": {},
   "outputs": [],
   "source": [
    "variable=[\"Aqib\",1,\"Ansari\",2,\"Data\",3,\"Science\",34,25,75,35]"
   ]
  },
  {
   "cell_type": "code",
   "execution_count": 10,
   "id": "69351c93-0da6-49d8-bb26-73ae985708b0",
   "metadata": {},
   "outputs": [],
   "source": [
    "series1=pd.Series(variable)"
   ]
  },
  {
   "cell_type": "code",
   "execution_count": 11,
   "id": "5b53ae1f-571f-4819-a445-904c1b82bcf8",
   "metadata": {},
   "outputs": [
    {
     "name": "stdout",
     "output_type": "stream",
     "text": [
      "0        Aqib\n",
      "1           1\n",
      "2      Ansari\n",
      "3           2\n",
      "4        Data\n",
      "5           3\n",
      "6     Science\n",
      "7          34\n",
      "8          25\n",
      "9          75\n",
      "10         35\n",
      "dtype: object\n"
     ]
    }
   ],
   "source": [
    "print(series1)"
   ]
  },
  {
   "cell_type": "markdown",
   "id": "1cd1b38f-fe6c-4c8d-b5ba-076fc153fdcd",
   "metadata": {},
   "source": [
    "Q3. Create a Pandas DataFrame that contains the following data:\n",
    " Name | Age | Gender |\n",
    "---|---|---|\n",
    " Alice | 25 | Female |\n",
    " Bob | 30 | Male |\n",
    " Claire | 27 | Female |\n",
    "\n",
    "<br/>Then, print the DataFrame."
   ]
  },
  {
   "cell_type": "code",
   "execution_count": 32,
   "id": "cac822b2-b1af-4354-b5dc-763e6d7420ea",
   "metadata": {},
   "outputs": [],
   "source": [
    "data={\"Name\":[\"Alice\",\"Bob\",\"Claire\"],\"Age\":[25,30,27],\"Gender\":[\"Female\",\"Male\",\"Female\"]}"
   ]
  },
  {
   "cell_type": "code",
   "execution_count": 13,
   "id": "b1696581-5572-4f59-a8a2-10993f86d630",
   "metadata": {},
   "outputs": [],
   "source": [
    "df=pd.DataFrame(data)"
   ]
  },
  {
   "cell_type": "code",
   "execution_count": 14,
   "id": "276da369-5fdd-423f-91ca-9f756f3b0b93",
   "metadata": {},
   "outputs": [
    {
     "name": "stdout",
     "output_type": "stream",
     "text": [
      "     Name  Age  Gender\n",
      "0   Alice   25  Female\n",
      "1     Bob   30    Male\n",
      "2  Claire   27  Female\n"
     ]
    }
   ],
   "source": [
    "print(df)"
   ]
  },
  {
   "cell_type": "markdown",
   "id": "699a7e8c-1f8e-4b37-98f0-3320afd5fbe2",
   "metadata": {},
   "source": [
    "Q4. What is ‘DataFrame’ in pandas and how is it different from pandas.series? Explain with an example."
   ]
  },
  {
   "cell_type": "markdown",
   "id": "0297392c-9e26-4e5e-9cd6-4b36376fd65f",
   "metadata": {},
   "source": [
    "Ans) A DataFrame is a two-dimensional data structure that can be thought of as a spreadsheet or a collection of two or more series with common indices. A Series is a one-dimensional data structure that can store heterogeneous type of data. Therefore, a single column DataFrame can have a name for its single column but a Series cannot have a column name"
   ]
  },
  {
   "cell_type": "code",
   "execution_count": 16,
   "id": "4f00bb50-386b-4f39-aa53-5859eaedd69d",
   "metadata": {},
   "outputs": [
    {
     "data": {
      "text/plain": [
       "0    1\n",
       "1    2\n",
       "2    3\n",
       "3    4\n",
       "dtype: int64"
      ]
     },
     "execution_count": 16,
     "metadata": {},
     "output_type": "execute_result"
    }
   ],
   "source": [
    "pd.Series([1,2,3,4])"
   ]
  },
  {
   "cell_type": "code",
   "execution_count": 17,
   "id": "a8115703-dfec-473e-aa54-faa66f3765b7",
   "metadata": {},
   "outputs": [
    {
     "data": {
      "text/html": [
       "<div>\n",
       "<style scoped>\n",
       "    .dataframe tbody tr th:only-of-type {\n",
       "        vertical-align: middle;\n",
       "    }\n",
       "\n",
       "    .dataframe tbody tr th {\n",
       "        vertical-align: top;\n",
       "    }\n",
       "\n",
       "    .dataframe thead th {\n",
       "        text-align: right;\n",
       "    }\n",
       "</style>\n",
       "<table border=\"1\" class=\"dataframe\">\n",
       "  <thead>\n",
       "    <tr style=\"text-align: right;\">\n",
       "      <th></th>\n",
       "      <th>Name</th>\n",
       "      <th>Surname</th>\n",
       "      <th>Age</th>\n",
       "    </tr>\n",
       "  </thead>\n",
       "  <tbody>\n",
       "    <tr>\n",
       "      <th>0</th>\n",
       "      <td>Aqib</td>\n",
       "      <td>Ansari</td>\n",
       "      <td>18</td>\n",
       "    </tr>\n",
       "    <tr>\n",
       "      <th>1</th>\n",
       "      <td>Zoheb</td>\n",
       "      <td>Shaikh</td>\n",
       "      <td>19</td>\n",
       "    </tr>\n",
       "    <tr>\n",
       "      <th>2</th>\n",
       "      <td>Riyan</td>\n",
       "      <td>Shaikh</td>\n",
       "      <td>19</td>\n",
       "    </tr>\n",
       "  </tbody>\n",
       "</table>\n",
       "</div>"
      ],
      "text/plain": [
       "    Name Surname  Age\n",
       "0   Aqib  Ansari   18\n",
       "1  Zoheb  Shaikh   19\n",
       "2  Riyan  Shaikh   19"
      ]
     },
     "execution_count": 17,
     "metadata": {},
     "output_type": "execute_result"
    }
   ],
   "source": [
    "pd.DataFrame({\"Name\":[\"Aqib\",\"Zoheb\",\"Riyan\"],\"Surname\":[\"Ansari\",\"Shaikh\",\"Shaikh\"],\"Age\":[18,19,19]})"
   ]
  },
  {
   "cell_type": "markdown",
   "id": "df4660a6-b499-4c9a-b870-4e66a9125dd3",
   "metadata": {},
   "source": [
    "Q5.What are some common functions you can use to manipulate data in a Pandas DataFrame? Can\n",
    "you give an example of when you might use one of these functions?"
   ]
  },
  {
   "cell_type": "markdown",
   "id": "b5f3fc13-8bc2-4f6a-b226-a539a3af02d6",
   "metadata": {},
   "source": [
    "Some common functions you can use to manipulate data in a Pandas DataFrame are:\n",
    "\n",
    "apply(): This function is used to apply a function along a particular axis of a dataframe1.\n",
    "<br/>ndim: This function returns the number of dimensions of the dataframe.\n",
    "<br/>size: This function returns the size of the data structure (number of rows and columns).\n",
    "<br/>sort_values(): This function sorts a dataframe by one or more columns3.\n",
    "\n",
    "<br/>An example of when you might use one of these functions is when you want to sort a dataframe by a specific column. For instance, if you have a dataframe called df with columns name, age, and score, you can sort it by score in descending order using:"
   ]
  },
  {
   "cell_type": "code",
   "execution_count": 24,
   "id": "8138ce8b-a974-4ee4-9a07-307b07f74e0d",
   "metadata": {},
   "outputs": [],
   "source": [
    "df1=pd.DataFrame({\"Player\":[\"Sachin\",\"Virat\",\"Ponting\"],\"Centuries\":[100,74,71]})"
   ]
  },
  {
   "cell_type": "code",
   "execution_count": 25,
   "id": "93ecf2d8-6d6f-407a-af0b-65b782e92467",
   "metadata": {},
   "outputs": [
    {
     "data": {
      "text/html": [
       "<div>\n",
       "<style scoped>\n",
       "    .dataframe tbody tr th:only-of-type {\n",
       "        vertical-align: middle;\n",
       "    }\n",
       "\n",
       "    .dataframe tbody tr th {\n",
       "        vertical-align: top;\n",
       "    }\n",
       "\n",
       "    .dataframe thead th {\n",
       "        text-align: right;\n",
       "    }\n",
       "</style>\n",
       "<table border=\"1\" class=\"dataframe\">\n",
       "  <thead>\n",
       "    <tr style=\"text-align: right;\">\n",
       "      <th></th>\n",
       "      <th>Player</th>\n",
       "      <th>Centuries</th>\n",
       "    </tr>\n",
       "  </thead>\n",
       "  <tbody>\n",
       "    <tr>\n",
       "      <th>2</th>\n",
       "      <td>Ponting</td>\n",
       "      <td>71</td>\n",
       "    </tr>\n",
       "    <tr>\n",
       "      <th>1</th>\n",
       "      <td>Virat</td>\n",
       "      <td>74</td>\n",
       "    </tr>\n",
       "    <tr>\n",
       "      <th>0</th>\n",
       "      <td>Sachin</td>\n",
       "      <td>100</td>\n",
       "    </tr>\n",
       "  </tbody>\n",
       "</table>\n",
       "</div>"
      ],
      "text/plain": [
       "    Player  Centuries\n",
       "2  Ponting         71\n",
       "1    Virat         74\n",
       "0   Sachin        100"
      ]
     },
     "execution_count": 25,
     "metadata": {},
     "output_type": "execute_result"
    }
   ],
   "source": [
    "df1.sort_values(by='Centuries')"
   ]
  },
  {
   "cell_type": "markdown",
   "id": "681b38a4-3aba-492d-ad57-0b3fbe4a67d6",
   "metadata": {},
   "source": [
    "Q6. Which of the following is mutable in nature Series, DataFrame, Panel?"
   ]
  },
  {
   "cell_type": "markdown",
   "id": "6fa989fa-143c-4486-bf0c-98a29c6d01bf",
   "metadata": {},
   "source": [
    "Ans)Series, DataFrame and Panel are all data structures in pandas that are mutable in nature. This means that data can be added, updated or deleted from them. However, when a Series is added to a DataFrame, the Series length cannot be changed.That is when the DataFrame becomes immutable."
   ]
  },
  {
   "cell_type": "markdown",
   "id": "94dcf0ae-dbf0-49a4-bf82-dea26336fcba",
   "metadata": {},
   "source": [
    "Q7. Create a DataFrame using multiple Series. Explain with an example."
   ]
  },
  {
   "cell_type": "code",
   "execution_count": 27,
   "id": "8c578abd-8a3c-49de-bdbe-19a5c8334046",
   "metadata": {},
   "outputs": [],
   "source": [
    "s1=pd.Series([\"Country\",\"State\",\"City\",\"District\"])"
   ]
  },
  {
   "cell_type": "code",
   "execution_count": 29,
   "id": "7947c37c-a012-4503-ac29-d4431c1f11be",
   "metadata": {},
   "outputs": [],
   "source": [
    "s2=pd.Series([\"India\",\"Maharashtra\",\"Mumbai\",\"Bandra\"])"
   ]
  },
  {
   "cell_type": "code",
   "execution_count": 31,
   "id": "771b84aa-a93b-4f65-aa0d-8859d793eac2",
   "metadata": {},
   "outputs": [
    {
     "data": {
      "text/html": [
       "<div>\n",
       "<style scoped>\n",
       "    .dataframe tbody tr th:only-of-type {\n",
       "        vertical-align: middle;\n",
       "    }\n",
       "\n",
       "    .dataframe tbody tr th {\n",
       "        vertical-align: top;\n",
       "    }\n",
       "\n",
       "    .dataframe thead th {\n",
       "        text-align: right;\n",
       "    }\n",
       "</style>\n",
       "<table border=\"1\" class=\"dataframe\">\n",
       "  <thead>\n",
       "    <tr style=\"text-align: right;\">\n",
       "      <th></th>\n",
       "      <th>Common_noun</th>\n",
       "      <th>Proper_noun</th>\n",
       "    </tr>\n",
       "  </thead>\n",
       "  <tbody>\n",
       "    <tr>\n",
       "      <th>0</th>\n",
       "      <td>Country</td>\n",
       "      <td>India</td>\n",
       "    </tr>\n",
       "    <tr>\n",
       "      <th>1</th>\n",
       "      <td>State</td>\n",
       "      <td>Maharashtra</td>\n",
       "    </tr>\n",
       "    <tr>\n",
       "      <th>2</th>\n",
       "      <td>City</td>\n",
       "      <td>Mumbai</td>\n",
       "    </tr>\n",
       "    <tr>\n",
       "      <th>3</th>\n",
       "      <td>District</td>\n",
       "      <td>Bandra</td>\n",
       "    </tr>\n",
       "  </tbody>\n",
       "</table>\n",
       "</div>"
      ],
      "text/plain": [
       "  Common_noun  Proper_noun\n",
       "0     Country        India\n",
       "1       State  Maharashtra\n",
       "2        City       Mumbai\n",
       "3    District       Bandra"
      ]
     },
     "execution_count": 31,
     "metadata": {},
     "output_type": "execute_result"
    }
   ],
   "source": [
    "pd.DataFrame({\"Common_noun\":s1,\"Proper_noun\":s2})"
   ]
  }
 ],
 "metadata": {
  "kernelspec": {
   "display_name": "Python 3 (ipykernel)",
   "language": "python",
   "name": "python3"
  },
  "language_info": {
   "codemirror_mode": {
    "name": "ipython",
    "version": 3
   },
   "file_extension": ".py",
   "mimetype": "text/x-python",
   "name": "python",
   "nbconvert_exporter": "python",
   "pygments_lexer": "ipython3",
   "version": "3.10.8"
  }
 },
 "nbformat": 4,
 "nbformat_minor": 5
}
