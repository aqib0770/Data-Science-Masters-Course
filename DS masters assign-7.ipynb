{
 "cells": [
  {
   "cell_type": "markdown",
   "id": "a735c3a1-3333-4d20-aaf1-d9e1241c4847",
   "metadata": {},
   "source": [
    "Q1. Which function is used to open a file? What are the different modes of opening a file? Explain each mode\n",
    "of file opening."
   ]
  },
  {
   "cell_type": "markdown",
   "id": "4a6f64d5-945d-4130-bda6-25c111042018",
   "metadata": {},
   "source": [
    "Ans) The open() function is used to open a file in python.\n",
    "<br />Different methods of opening a file are:\n",
    "<br />'r'- Read mode which is used to read existing file\n",
    "<br />'w'- Write mode which is used to write data into a file\n",
    "<br />'a'- Append mode which is used to add new data to the end of an existing file\n",
    "<br />'x'- Create mode which is used to create a new file\n",
    "<br />'t'- Text mode which is used to open a file for reading and writing in text mode\n",
    "<br />'b'- Binary mode which is used to open a file for reading and writing in binary mode"
   ]
  },
  {
   "cell_type": "markdown",
   "id": "d22e17ed-b0f4-4800-a135-d98b435b23b6",
   "metadata": {},
   "source": [
    "Q2. Why close() function is used? Why is it important to close a file?"
   ]
  },
  {
   "cell_type": "markdown",
   "id": "8b9419d6-6ef2-48c4-8021-2e0252088c23",
   "metadata": {},
   "source": [
    "Ans) The close() function is used to close an open file in Python. It is important to close a file in python because once it is closed, the file is no longer accessible and any resources that were tied to the file are released. Additionaly it is good practice to close a file once you are done with it to avoid overwriting."
   ]
  },
  {
   "cell_type": "markdown",
   "id": "eac80923-7306-4fe7-93c6-28abcab2e31e",
   "metadata": {},
   "source": [
    "Q3. Write a python program to create a text file. Write ‘I want to become a Data Scientist’ in that file. Then close the file. Open this file and read the content of the file."
   ]
  },
  {
   "cell_type": "code",
   "execution_count": 17,
   "id": "22daebc9-e882-48b7-8cc6-8c1765049ab6",
   "metadata": {},
   "outputs": [],
   "source": [
    "f=open(\"assign.txt\",\"w\")"
   ]
  },
  {
   "cell_type": "code",
   "execution_count": 18,
   "id": "c0e3fe13-22a4-4a6c-856a-edfacab77f44",
   "metadata": {},
   "outputs": [
    {
     "data": {
      "text/plain": [
       "55"
      ]
     },
     "execution_count": 18,
     "metadata": {},
     "output_type": "execute_result"
    }
   ],
   "source": [
    "f.write(\"I want to become a Data Scientist\\n I am learning Python\")"
   ]
  },
  {
   "cell_type": "code",
   "execution_count": 3,
   "id": "372c08d6-2930-41f4-b273-fce6d51d81d1",
   "metadata": {},
   "outputs": [],
   "source": [
    "f.close()"
   ]
  },
  {
   "cell_type": "code",
   "execution_count": 27,
   "id": "61cb40ac-63ca-48c4-9729-e6e198e3c838",
   "metadata": {},
   "outputs": [
    {
     "data": {
      "text/plain": [
       "'I want to become a Data Scientist\\n I am learning Python'"
      ]
     },
     "execution_count": 27,
     "metadata": {},
     "output_type": "execute_result"
    }
   ],
   "source": [
    "data=open(\"assign.txt\",\"r\")\n",
    "data.read()"
   ]
  },
  {
   "cell_type": "code",
   "execution_count": 28,
   "id": "e8720ade-6012-4174-b7e7-dd2b76e7f333",
   "metadata": {},
   "outputs": [],
   "source": [
    "f.close()"
   ]
  },
  {
   "cell_type": "markdown",
   "id": "2b2ae40a-05ad-405f-a46f-fec880cdc23c",
   "metadata": {},
   "source": [
    "Q4. Explain the following with python code: read(), readline() and readlines()."
   ]
  },
  {
   "cell_type": "code",
   "execution_count": 43,
   "id": "a884c212-66d9-44ec-ad95-49acd0d0a68b",
   "metadata": {},
   "outputs": [],
   "source": [
    "data=open(\"assign.txt\",\"r\")"
   ]
  },
  {
   "cell_type": "code",
   "execution_count": 44,
   "id": "b81de6d2-5fb0-4865-a6a5-e3c53123847b",
   "metadata": {},
   "outputs": [
    {
     "data": {
      "text/plain": [
       "'I want to become a Data Scientist\\n I am learning Python'"
      ]
     },
     "execution_count": 44,
     "metadata": {},
     "output_type": "execute_result"
    }
   ],
   "source": [
    "data.read()"
   ]
  },
  {
   "cell_type": "code",
   "execution_count": 48,
   "id": "9b337b4c-9dd5-4cd4-a7d8-dd4860603c93",
   "metadata": {},
   "outputs": [
    {
     "data": {
      "text/plain": [
       "'I want to become a Data Scientist\\n'"
      ]
     },
     "execution_count": 48,
     "metadata": {},
     "output_type": "execute_result"
    }
   ],
   "source": [
    "data.seek(0) #pointing cursor towards start\n",
    "data.readline()"
   ]
  },
  {
   "cell_type": "code",
   "execution_count": 49,
   "id": "282345de-11e6-40cd-9a3a-8a33e2453c3d",
   "metadata": {},
   "outputs": [
    {
     "data": {
      "text/plain": [
       "['I want to become a Data Scientist\\n', ' I am learning Python']"
      ]
     },
     "execution_count": 49,
     "metadata": {},
     "output_type": "execute_result"
    }
   ],
   "source": [
    "data.seek(0) #pointing cursor towards start\n",
    "data.readlines()"
   ]
  },
  {
   "cell_type": "markdown",
   "id": "af4f8e7b-229a-4748-8803-b8f4e81c9588",
   "metadata": {},
   "source": [
    "Q5. Explain why with statement is used with open(). What is the advantage of using with statement and\n",
    "open() together?"
   ]
  },
  {
   "cell_type": "markdown",
   "id": "5a1c1b5a-71f0-46f0-b95b-5dbab9a26356",
   "metadata": {},
   "source": [
    "Ans) The 'with' statement is used with open() to ensure that files are properly closed after they have been uploaded. This can be especially useful when working with large files. Its advantage is that to code looks clean and and files are closed so that no unexpected error occurs to the file."
   ]
  },
  {
   "cell_type": "markdown",
   "id": "2a892828-4755-44ac-be13-b20b1d72670a",
   "metadata": {},
   "source": [
    "Q6. Explain the write() and writelines() functions. Give a suitable example."
   ]
  },
  {
   "cell_type": "markdown",
   "id": "397cb558-109c-496f-aedb-bdc6f00b8b7f",
   "metadata": {},
   "source": [
    "Ans) The write() function is used to write a string to an open file. It takes string as a parameter and returns the number of character of a file.\n",
    "<br/> Example:"
   ]
  },
  {
   "cell_type": "code",
   "execution_count": 3,
   "id": "a103c792-e738-4d6d-b1f5-9d014aca46bf",
   "metadata": {},
   "outputs": [],
   "source": [
    "f1=open(\"assign2.txt\",\"w\")\n",
    "f1.write(\"I am a data scientist\")\n",
    "f1.close()"
   ]
  },
  {
   "cell_type": "markdown",
   "id": "3f7a6f1a-d2b3-494a-a99c-68311554a30a",
   "metadata": {},
   "source": [
    "The writelines() function is used to write each element of a sequence(such as list or tuple) to an open file. It takes a single parameter which is a sequence.\n",
    "<br/> Example:"
   ]
  },
  {
   "cell_type": "code",
   "execution_count": 4,
   "id": "799aca2a-861f-4e30-b1c1-e1dfb9c46b4e",
   "metadata": {},
   "outputs": [],
   "source": [
    "f1=open(\"assign2.txt\",\"w\")\n",
    "list=[\"I am learning Python\\n \",\"I am learning statistics\\n \",\"I am learning Machine Learning\"]\n",
    "f1.writelines(list)\n",
    "f1.close()"
   ]
  },
  {
   "cell_type": "code",
   "execution_count": 6,
   "id": "2de9028a-5b6c-4cb4-aaa7-c4ad1e582200",
   "metadata": {},
   "outputs": [
    {
     "data": {
      "text/plain": [
       "['I am learning Python\\n',\n",
       " ' I am learning statistics\\n',\n",
       " ' I am learning Machine Learning']"
      ]
     },
     "execution_count": 6,
     "metadata": {},
     "output_type": "execute_result"
    }
   ],
   "source": [
    "f1=open(\"assign2.txt\",\"r\")\n",
    "f1.seek(0)\n",
    "f1.readlines()"
   ]
  }
 ],
 "metadata": {
  "kernelspec": {
   "display_name": "Python 3 (ipykernel)",
   "language": "python",
   "name": "python3"
  },
  "language_info": {
   "codemirror_mode": {
    "name": "ipython",
    "version": 3
   },
   "file_extension": ".py",
   "mimetype": "text/x-python",
   "name": "python",
   "nbconvert_exporter": "python",
   "pygments_lexer": "ipython3",
   "version": "3.10.8"
  }
 },
 "nbformat": 4,
 "nbformat_minor": 5
}
