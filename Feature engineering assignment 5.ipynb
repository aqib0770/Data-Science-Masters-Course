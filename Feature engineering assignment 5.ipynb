{
 "cells": [
  {
   "cell_type": "markdown",
   "id": "9ebcb68a-e513-4a72-a492-e5685dd6836f",
   "metadata": {},
   "source": [
    "Q1. Pearson correlation coefficient is a measure of the linear relationship between two variables. Suppose\n",
    "you have collected data on the amount of time students spend studying for an exam and their final exam\n",
    "scores. Calculate the Pearson correlation coefficient between these two variables and interpret the result."
   ]
  },
  {
   "cell_type": "code",
   "execution_count": 1,
   "id": "9b658f4f-2438-4795-b6c6-c8cda0d15be3",
   "metadata": {},
   "outputs": [],
   "source": [
    "import numpy as np\n",
    "import pandas as pd"
   ]
  },
  {
   "cell_type": "code",
   "execution_count": 2,
   "id": "29c2f476-a963-4c2a-963c-229a75a0d53d",
   "metadata": {},
   "outputs": [],
   "source": [
    "time=np.random.randint(2,8,size=100)\n",
    "scores=np.random.randint(34,95,size=100)"
   ]
  },
  {
   "cell_type": "code",
   "execution_count": 3,
   "id": "fe3f3e98-0675-4bc0-b7d5-5c49fb96c5c3",
   "metadata": {},
   "outputs": [],
   "source": [
    "results=pd.DataFrame({'Time (in hours)':time,'Exam scores':scores})"
   ]
  },
  {
   "cell_type": "code",
   "execution_count": 4,
   "id": "0f36c756-9745-49b8-8e40-bca81ffa38a0",
   "metadata": {},
   "outputs": [
    {
     "data": {
      "text/html": [
       "<div>\n",
       "<style scoped>\n",
       "    .dataframe tbody tr th:only-of-type {\n",
       "        vertical-align: middle;\n",
       "    }\n",
       "\n",
       "    .dataframe tbody tr th {\n",
       "        vertical-align: top;\n",
       "    }\n",
       "\n",
       "    .dataframe thead th {\n",
       "        text-align: right;\n",
       "    }\n",
       "</style>\n",
       "<table border=\"1\" class=\"dataframe\">\n",
       "  <thead>\n",
       "    <tr style=\"text-align: right;\">\n",
       "      <th></th>\n",
       "      <th>Time (in hours)</th>\n",
       "      <th>Exam scores</th>\n",
       "    </tr>\n",
       "  </thead>\n",
       "  <tbody>\n",
       "    <tr>\n",
       "      <th>0</th>\n",
       "      <td>2</td>\n",
       "      <td>91</td>\n",
       "    </tr>\n",
       "    <tr>\n",
       "      <th>1</th>\n",
       "      <td>6</td>\n",
       "      <td>94</td>\n",
       "    </tr>\n",
       "    <tr>\n",
       "      <th>2</th>\n",
       "      <td>3</td>\n",
       "      <td>80</td>\n",
       "    </tr>\n",
       "    <tr>\n",
       "      <th>3</th>\n",
       "      <td>2</td>\n",
       "      <td>43</td>\n",
       "    </tr>\n",
       "    <tr>\n",
       "      <th>4</th>\n",
       "      <td>7</td>\n",
       "      <td>51</td>\n",
       "    </tr>\n",
       "  </tbody>\n",
       "</table>\n",
       "</div>"
      ],
      "text/plain": [
       "   Time (in hours)  Exam scores\n",
       "0                2           91\n",
       "1                6           94\n",
       "2                3           80\n",
       "3                2           43\n",
       "4                7           51"
      ]
     },
     "execution_count": 4,
     "metadata": {},
     "output_type": "execute_result"
    }
   ],
   "source": [
    "results.head()"
   ]
  },
  {
   "cell_type": "code",
   "execution_count": 5,
   "id": "c9528f79-7e7b-4156-897f-3037d2e6cd56",
   "metadata": {},
   "outputs": [
    {
     "data": {
      "text/html": [
       "<div>\n",
       "<style scoped>\n",
       "    .dataframe tbody tr th:only-of-type {\n",
       "        vertical-align: middle;\n",
       "    }\n",
       "\n",
       "    .dataframe tbody tr th {\n",
       "        vertical-align: top;\n",
       "    }\n",
       "\n",
       "    .dataframe thead th {\n",
       "        text-align: right;\n",
       "    }\n",
       "</style>\n",
       "<table border=\"1\" class=\"dataframe\">\n",
       "  <thead>\n",
       "    <tr style=\"text-align: right;\">\n",
       "      <th></th>\n",
       "      <th>Time (in hours)</th>\n",
       "      <th>Exam scores</th>\n",
       "    </tr>\n",
       "  </thead>\n",
       "  <tbody>\n",
       "    <tr>\n",
       "      <th>Time (in hours)</th>\n",
       "      <td>1.000000</td>\n",
       "      <td>0.038764</td>\n",
       "    </tr>\n",
       "    <tr>\n",
       "      <th>Exam scores</th>\n",
       "      <td>0.038764</td>\n",
       "      <td>1.000000</td>\n",
       "    </tr>\n",
       "  </tbody>\n",
       "</table>\n",
       "</div>"
      ],
      "text/plain": [
       "                 Time (in hours)  Exam scores\n",
       "Time (in hours)         1.000000     0.038764\n",
       "Exam scores             0.038764     1.000000"
      ]
     },
     "execution_count": 5,
     "metadata": {},
     "output_type": "execute_result"
    }
   ],
   "source": [
    "results.corr(method='pearson')"
   ]
  },
  {
   "cell_type": "markdown",
   "id": "01fb62ac-8c8f-4c65-b9e6-bc9455184c76",
   "metadata": {},
   "source": [
    "In Pearson correlation coefficient, it measures the relationship between 2 variables on a scale of (-1,1).\n",
    "<br>From above relation between study hours and exam scores, it can be seen that both variables are positively correlated which means if study time increases, the scores also increases and if study time decreases, the scores also decrease."
   ]
  },
  {
   "cell_type": "markdown",
   "id": "1aedba90-b5c1-4458-8eb5-d8dab8d00fa1",
   "metadata": {},
   "source": [
    "Q2. Spearman's rank correlation is a measure of the monotonic relationship between two variables.\n",
    "Suppose you have collected data on the amount of sleep individuals get each night and their overall job\n",
    "satisfaction level on a scale of 1 to 10. Calculate the Spearman's rank correlation between these two\n",
    "variables and interpret the result."
   ]
  },
  {
   "cell_type": "code",
   "execution_count": 6,
   "id": "05208736-cc27-4b79-8705-6abf98332c2e",
   "metadata": {},
   "outputs": [],
   "source": [
    "sleep=np.random.randint(4,8,size=100)\n",
    "job_satisfaction=np.random.randint(1,10,size=100)"
   ]
  },
  {
   "cell_type": "code",
   "execution_count": 7,
   "id": "937a6dc0-abc6-4ce1-9c19-02779a183260",
   "metadata": {},
   "outputs": [],
   "source": [
    "data=pd.DataFrame({'Sleep time':sleep,'Job-satisfaction-level':job_satisfaction})"
   ]
  },
  {
   "cell_type": "code",
   "execution_count": 8,
   "id": "016cfdcd-7581-4fb9-ab0c-7f288c63377b",
   "metadata": {},
   "outputs": [
    {
     "data": {
      "text/html": [
       "<div>\n",
       "<style scoped>\n",
       "    .dataframe tbody tr th:only-of-type {\n",
       "        vertical-align: middle;\n",
       "    }\n",
       "\n",
       "    .dataframe tbody tr th {\n",
       "        vertical-align: top;\n",
       "    }\n",
       "\n",
       "    .dataframe thead th {\n",
       "        text-align: right;\n",
       "    }\n",
       "</style>\n",
       "<table border=\"1\" class=\"dataframe\">\n",
       "  <thead>\n",
       "    <tr style=\"text-align: right;\">\n",
       "      <th></th>\n",
       "      <th>Sleep time</th>\n",
       "      <th>Job-satisfaction-level</th>\n",
       "    </tr>\n",
       "  </thead>\n",
       "  <tbody>\n",
       "    <tr>\n",
       "      <th>0</th>\n",
       "      <td>7</td>\n",
       "      <td>1</td>\n",
       "    </tr>\n",
       "    <tr>\n",
       "      <th>1</th>\n",
       "      <td>5</td>\n",
       "      <td>9</td>\n",
       "    </tr>\n",
       "    <tr>\n",
       "      <th>2</th>\n",
       "      <td>6</td>\n",
       "      <td>2</td>\n",
       "    </tr>\n",
       "    <tr>\n",
       "      <th>3</th>\n",
       "      <td>7</td>\n",
       "      <td>8</td>\n",
       "    </tr>\n",
       "    <tr>\n",
       "      <th>4</th>\n",
       "      <td>6</td>\n",
       "      <td>7</td>\n",
       "    </tr>\n",
       "    <tr>\n",
       "      <th>...</th>\n",
       "      <td>...</td>\n",
       "      <td>...</td>\n",
       "    </tr>\n",
       "    <tr>\n",
       "      <th>95</th>\n",
       "      <td>5</td>\n",
       "      <td>7</td>\n",
       "    </tr>\n",
       "    <tr>\n",
       "      <th>96</th>\n",
       "      <td>4</td>\n",
       "      <td>6</td>\n",
       "    </tr>\n",
       "    <tr>\n",
       "      <th>97</th>\n",
       "      <td>5</td>\n",
       "      <td>1</td>\n",
       "    </tr>\n",
       "    <tr>\n",
       "      <th>98</th>\n",
       "      <td>5</td>\n",
       "      <td>7</td>\n",
       "    </tr>\n",
       "    <tr>\n",
       "      <th>99</th>\n",
       "      <td>6</td>\n",
       "      <td>5</td>\n",
       "    </tr>\n",
       "  </tbody>\n",
       "</table>\n",
       "<p>100 rows × 2 columns</p>\n",
       "</div>"
      ],
      "text/plain": [
       "    Sleep time  Job-satisfaction-level\n",
       "0            7                       1\n",
       "1            5                       9\n",
       "2            6                       2\n",
       "3            7                       8\n",
       "4            6                       7\n",
       "..         ...                     ...\n",
       "95           5                       7\n",
       "96           4                       6\n",
       "97           5                       1\n",
       "98           5                       7\n",
       "99           6                       5\n",
       "\n",
       "[100 rows x 2 columns]"
      ]
     },
     "execution_count": 8,
     "metadata": {},
     "output_type": "execute_result"
    }
   ],
   "source": [
    "data"
   ]
  },
  {
   "cell_type": "code",
   "execution_count": 9,
   "id": "3b2fb3f2-2cb3-4627-956f-a39bd331bf86",
   "metadata": {},
   "outputs": [
    {
     "data": {
      "text/html": [
       "<div>\n",
       "<style scoped>\n",
       "    .dataframe tbody tr th:only-of-type {\n",
       "        vertical-align: middle;\n",
       "    }\n",
       "\n",
       "    .dataframe tbody tr th {\n",
       "        vertical-align: top;\n",
       "    }\n",
       "\n",
       "    .dataframe thead th {\n",
       "        text-align: right;\n",
       "    }\n",
       "</style>\n",
       "<table border=\"1\" class=\"dataframe\">\n",
       "  <thead>\n",
       "    <tr style=\"text-align: right;\">\n",
       "      <th></th>\n",
       "      <th>Sleep time</th>\n",
       "      <th>Job-satisfaction-level</th>\n",
       "    </tr>\n",
       "  </thead>\n",
       "  <tbody>\n",
       "    <tr>\n",
       "      <th>Sleep time</th>\n",
       "      <td>1.000000</td>\n",
       "      <td>-0.001916</td>\n",
       "    </tr>\n",
       "    <tr>\n",
       "      <th>Job-satisfaction-level</th>\n",
       "      <td>-0.001916</td>\n",
       "      <td>1.000000</td>\n",
       "    </tr>\n",
       "  </tbody>\n",
       "</table>\n",
       "</div>"
      ],
      "text/plain": [
       "                        Sleep time  Job-satisfaction-level\n",
       "Sleep time                1.000000               -0.001916\n",
       "Job-satisfaction-level   -0.001916                1.000000"
      ]
     },
     "execution_count": 9,
     "metadata": {},
     "output_type": "execute_result"
    }
   ],
   "source": [
    "data.corr(method='spearman')"
   ]
  },
  {
   "cell_type": "markdown",
   "id": "3500f160-30b1-4d3f-a2d2-522c5e62a6fd",
   "metadata": {},
   "source": [
    "The spearman correlation shows that there is a positive relationship between job-satisfaction level and sleep time which means both features are directly proportional."
   ]
  },
  {
   "cell_type": "markdown",
   "id": "0c29cc8d-8159-4522-a029-6ae27ede6e25",
   "metadata": {},
   "source": [
    "Q3. Suppose you are conducting a study to examine the relationship between the number of hours of\n",
    "exercise per week and body mass index (BMI) in a sample of adults. You collected data on both variables\n",
    "for 50 participants. Calculate the Pearson correlation coefficient and the Spearman's rank correlation\n",
    "between these two variables and compare the results."
   ]
  },
  {
   "cell_type": "code",
   "execution_count": 10,
   "id": "ccd4b5a3-633b-47e9-b901-e305caebbae3",
   "metadata": {},
   "outputs": [],
   "source": [
    "hours=np.random.randint(4,10,size=50)\n",
    "bmi=np.random.randint(15,35,size=50)"
   ]
  },
  {
   "cell_type": "code",
   "execution_count": 11,
   "id": "eb9e95eb-b381-4716-acf9-05fe63d588dd",
   "metadata": {},
   "outputs": [],
   "source": [
    "health=pd.DataFrame({'Exercise per week (in hours)':hours,'Body Mass Index (BMI)':bmi})"
   ]
  },
  {
   "cell_type": "code",
   "execution_count": 12,
   "id": "7a7b32d3-2235-4500-a552-2ae98faa43a1",
   "metadata": {},
   "outputs": [
    {
     "data": {
      "text/html": [
       "<div>\n",
       "<style scoped>\n",
       "    .dataframe tbody tr th:only-of-type {\n",
       "        vertical-align: middle;\n",
       "    }\n",
       "\n",
       "    .dataframe tbody tr th {\n",
       "        vertical-align: top;\n",
       "    }\n",
       "\n",
       "    .dataframe thead th {\n",
       "        text-align: right;\n",
       "    }\n",
       "</style>\n",
       "<table border=\"1\" class=\"dataframe\">\n",
       "  <thead>\n",
       "    <tr style=\"text-align: right;\">\n",
       "      <th></th>\n",
       "      <th>Exercise per week (in hours)</th>\n",
       "      <th>Body Mass Index (BMI)</th>\n",
       "    </tr>\n",
       "  </thead>\n",
       "  <tbody>\n",
       "    <tr>\n",
       "      <th>0</th>\n",
       "      <td>4</td>\n",
       "      <td>19</td>\n",
       "    </tr>\n",
       "    <tr>\n",
       "      <th>1</th>\n",
       "      <td>5</td>\n",
       "      <td>30</td>\n",
       "    </tr>\n",
       "    <tr>\n",
       "      <th>2</th>\n",
       "      <td>7</td>\n",
       "      <td>23</td>\n",
       "    </tr>\n",
       "    <tr>\n",
       "      <th>3</th>\n",
       "      <td>7</td>\n",
       "      <td>18</td>\n",
       "    </tr>\n",
       "    <tr>\n",
       "      <th>4</th>\n",
       "      <td>4</td>\n",
       "      <td>23</td>\n",
       "    </tr>\n",
       "  </tbody>\n",
       "</table>\n",
       "</div>"
      ],
      "text/plain": [
       "   Exercise per week (in hours)  Body Mass Index (BMI)\n",
       "0                             4                     19\n",
       "1                             5                     30\n",
       "2                             7                     23\n",
       "3                             7                     18\n",
       "4                             4                     23"
      ]
     },
     "execution_count": 12,
     "metadata": {},
     "output_type": "execute_result"
    }
   ],
   "source": [
    "health.head()"
   ]
  },
  {
   "cell_type": "code",
   "execution_count": 13,
   "id": "fbc0cb86-9a24-4340-bf03-efbba773f448",
   "metadata": {},
   "outputs": [
    {
     "data": {
      "text/html": [
       "<div>\n",
       "<style scoped>\n",
       "    .dataframe tbody tr th:only-of-type {\n",
       "        vertical-align: middle;\n",
       "    }\n",
       "\n",
       "    .dataframe tbody tr th {\n",
       "        vertical-align: top;\n",
       "    }\n",
       "\n",
       "    .dataframe thead th {\n",
       "        text-align: right;\n",
       "    }\n",
       "</style>\n",
       "<table border=\"1\" class=\"dataframe\">\n",
       "  <thead>\n",
       "    <tr style=\"text-align: right;\">\n",
       "      <th></th>\n",
       "      <th>Exercise per week (in hours)</th>\n",
       "      <th>Body Mass Index (BMI)</th>\n",
       "    </tr>\n",
       "  </thead>\n",
       "  <tbody>\n",
       "    <tr>\n",
       "      <th>Exercise per week (in hours)</th>\n",
       "      <td>1.000000</td>\n",
       "      <td>0.038485</td>\n",
       "    </tr>\n",
       "    <tr>\n",
       "      <th>Body Mass Index (BMI)</th>\n",
       "      <td>0.038485</td>\n",
       "      <td>1.000000</td>\n",
       "    </tr>\n",
       "  </tbody>\n",
       "</table>\n",
       "</div>"
      ],
      "text/plain": [
       "                              Exercise per week (in hours)  \\\n",
       "Exercise per week (in hours)                      1.000000   \n",
       "Body Mass Index (BMI)                             0.038485   \n",
       "\n",
       "                              Body Mass Index (BMI)  \n",
       "Exercise per week (in hours)               0.038485  \n",
       "Body Mass Index (BMI)                      1.000000  "
      ]
     },
     "execution_count": 13,
     "metadata": {},
     "output_type": "execute_result"
    }
   ],
   "source": [
    "pearson=health.corr(method='pearson')\n",
    "spearman=health.corr(method='spearman')\n",
    "pearson"
   ]
  },
  {
   "cell_type": "code",
   "execution_count": 14,
   "id": "8f75f571-d2c5-4871-b058-f132cadef865",
   "metadata": {},
   "outputs": [
    {
     "data": {
      "text/html": [
       "<div>\n",
       "<style scoped>\n",
       "    .dataframe tbody tr th:only-of-type {\n",
       "        vertical-align: middle;\n",
       "    }\n",
       "\n",
       "    .dataframe tbody tr th {\n",
       "        vertical-align: top;\n",
       "    }\n",
       "\n",
       "    .dataframe thead th {\n",
       "        text-align: right;\n",
       "    }\n",
       "</style>\n",
       "<table border=\"1\" class=\"dataframe\">\n",
       "  <thead>\n",
       "    <tr style=\"text-align: right;\">\n",
       "      <th></th>\n",
       "      <th>Exercise per week (in hours)</th>\n",
       "      <th>Body Mass Index (BMI)</th>\n",
       "    </tr>\n",
       "  </thead>\n",
       "  <tbody>\n",
       "    <tr>\n",
       "      <th>Exercise per week (in hours)</th>\n",
       "      <td>1.000000</td>\n",
       "      <td>0.052689</td>\n",
       "    </tr>\n",
       "    <tr>\n",
       "      <th>Body Mass Index (BMI)</th>\n",
       "      <td>0.052689</td>\n",
       "      <td>1.000000</td>\n",
       "    </tr>\n",
       "  </tbody>\n",
       "</table>\n",
       "</div>"
      ],
      "text/plain": [
       "                              Exercise per week (in hours)  \\\n",
       "Exercise per week (in hours)                      1.000000   \n",
       "Body Mass Index (BMI)                             0.052689   \n",
       "\n",
       "                              Body Mass Index (BMI)  \n",
       "Exercise per week (in hours)               0.052689  \n",
       "Body Mass Index (BMI)                      1.000000  "
      ]
     },
     "execution_count": 14,
     "metadata": {},
     "output_type": "execute_result"
    }
   ],
   "source": [
    "spearman"
   ]
  },
  {
   "cell_type": "markdown",
   "id": "b80b5f96-7bc3-4498-a48e-631d73da44ed",
   "metadata": {},
   "source": [
    "The spearman's rank correlation is 0.110721 and pearson correlation coefficient is 0.104438. Since both values are positive, hence the relationship is directly proportional. The difference between both the correlatoion is not large which means that relationship between these two variables is linear."
   ]
  },
  {
   "cell_type": "markdown",
   "id": "c7376564-f370-448c-9cfc-da186218e64a",
   "metadata": {},
   "source": [
    "Q4. A researcher is interested in examining the relationship between the number of hours individuals\n",
    "spend watching television per day and their level of physical activity. The researcher collected data on\n",
    "both variables from a sample of 50 participants. Calculate the Pearson correlation coefficient between\n",
    "these two variables."
   ]
  },
  {
   "cell_type": "code",
   "execution_count": 15,
   "id": "6a6d54c6-5950-45cd-9c80-e6eb72c1bd9e",
   "metadata": {},
   "outputs": [],
   "source": [
    "data=pd.DataFrame({'Hours spend on Television':np.random.randint(1,5,size=50),\n",
    "                   'Level of physical activity':np.random.choice(['High','Moderate','Low'],size=50)})"
   ]
  },
  {
   "cell_type": "code",
   "execution_count": 16,
   "id": "d53aae34-b038-4df0-ae3a-6ef0306004b1",
   "metadata": {},
   "outputs": [
    {
     "data": {
      "text/html": [
       "<div>\n",
       "<style scoped>\n",
       "    .dataframe tbody tr th:only-of-type {\n",
       "        vertical-align: middle;\n",
       "    }\n",
       "\n",
       "    .dataframe tbody tr th {\n",
       "        vertical-align: top;\n",
       "    }\n",
       "\n",
       "    .dataframe thead th {\n",
       "        text-align: right;\n",
       "    }\n",
       "</style>\n",
       "<table border=\"1\" class=\"dataframe\">\n",
       "  <thead>\n",
       "    <tr style=\"text-align: right;\">\n",
       "      <th></th>\n",
       "      <th>Hours spend on Television</th>\n",
       "      <th>Level of physical activity</th>\n",
       "    </tr>\n",
       "  </thead>\n",
       "  <tbody>\n",
       "    <tr>\n",
       "      <th>0</th>\n",
       "      <td>4</td>\n",
       "      <td>High</td>\n",
       "    </tr>\n",
       "    <tr>\n",
       "      <th>1</th>\n",
       "      <td>3</td>\n",
       "      <td>Moderate</td>\n",
       "    </tr>\n",
       "    <tr>\n",
       "      <th>2</th>\n",
       "      <td>2</td>\n",
       "      <td>High</td>\n",
       "    </tr>\n",
       "    <tr>\n",
       "      <th>3</th>\n",
       "      <td>2</td>\n",
       "      <td>High</td>\n",
       "    </tr>\n",
       "    <tr>\n",
       "      <th>4</th>\n",
       "      <td>1</td>\n",
       "      <td>Moderate</td>\n",
       "    </tr>\n",
       "  </tbody>\n",
       "</table>\n",
       "</div>"
      ],
      "text/plain": [
       "   Hours spend on Television Level of physical activity\n",
       "0                          4                       High\n",
       "1                          3                   Moderate\n",
       "2                          2                       High\n",
       "3                          2                       High\n",
       "4                          1                   Moderate"
      ]
     },
     "execution_count": 16,
     "metadata": {},
     "output_type": "execute_result"
    }
   ],
   "source": [
    "data.head()"
   ]
  },
  {
   "cell_type": "code",
   "execution_count": 17,
   "id": "fa630e38-fdd3-41c4-99df-1bec1f50bb31",
   "metadata": {},
   "outputs": [],
   "source": [
    "from sklearn.preprocessing import OrdinalEncoder"
   ]
  },
  {
   "cell_type": "code",
   "execution_count": 18,
   "id": "d4cbc152-cab3-4463-a349-39a1a2de5a88",
   "metadata": {},
   "outputs": [],
   "source": [
    "encoder=OrdinalEncoder(categories=[['Low','Moderate','High']]) #Using ordinal encoding because we can't calculate pearson correlation on categorical data"
   ]
  },
  {
   "cell_type": "code",
   "execution_count": 19,
   "id": "73716bdd-2b27-427d-90fa-98c668c19bb4",
   "metadata": {},
   "outputs": [],
   "source": [
    "data['encoded_level_of_activity']=encoder.fit_transform(data[['Level of physical activity']])"
   ]
  },
  {
   "cell_type": "code",
   "execution_count": 20,
   "id": "65cbcc19-fc90-4d39-ad5b-2d07298d19de",
   "metadata": {},
   "outputs": [
    {
     "data": {
      "text/html": [
       "<div>\n",
       "<style scoped>\n",
       "    .dataframe tbody tr th:only-of-type {\n",
       "        vertical-align: middle;\n",
       "    }\n",
       "\n",
       "    .dataframe tbody tr th {\n",
       "        vertical-align: top;\n",
       "    }\n",
       "\n",
       "    .dataframe thead th {\n",
       "        text-align: right;\n",
       "    }\n",
       "</style>\n",
       "<table border=\"1\" class=\"dataframe\">\n",
       "  <thead>\n",
       "    <tr style=\"text-align: right;\">\n",
       "      <th></th>\n",
       "      <th>Hours spend on Television</th>\n",
       "      <th>Level of physical activity</th>\n",
       "      <th>encoded_level_of_activity</th>\n",
       "    </tr>\n",
       "  </thead>\n",
       "  <tbody>\n",
       "    <tr>\n",
       "      <th>0</th>\n",
       "      <td>4</td>\n",
       "      <td>High</td>\n",
       "      <td>2.0</td>\n",
       "    </tr>\n",
       "    <tr>\n",
       "      <th>1</th>\n",
       "      <td>3</td>\n",
       "      <td>Moderate</td>\n",
       "      <td>1.0</td>\n",
       "    </tr>\n",
       "    <tr>\n",
       "      <th>2</th>\n",
       "      <td>2</td>\n",
       "      <td>High</td>\n",
       "      <td>2.0</td>\n",
       "    </tr>\n",
       "    <tr>\n",
       "      <th>3</th>\n",
       "      <td>2</td>\n",
       "      <td>High</td>\n",
       "      <td>2.0</td>\n",
       "    </tr>\n",
       "    <tr>\n",
       "      <th>4</th>\n",
       "      <td>1</td>\n",
       "      <td>Moderate</td>\n",
       "      <td>1.0</td>\n",
       "    </tr>\n",
       "  </tbody>\n",
       "</table>\n",
       "</div>"
      ],
      "text/plain": [
       "   Hours spend on Television Level of physical activity  \\\n",
       "0                          4                       High   \n",
       "1                          3                   Moderate   \n",
       "2                          2                       High   \n",
       "3                          2                       High   \n",
       "4                          1                   Moderate   \n",
       "\n",
       "   encoded_level_of_activity  \n",
       "0                        2.0  \n",
       "1                        1.0  \n",
       "2                        2.0  \n",
       "3                        2.0  \n",
       "4                        1.0  "
      ]
     },
     "execution_count": 20,
     "metadata": {},
     "output_type": "execute_result"
    }
   ],
   "source": [
    "data.head()"
   ]
  },
  {
   "cell_type": "code",
   "execution_count": 21,
   "id": "3c14fd39-ca7b-4a93-b1b4-d02860248f13",
   "metadata": {},
   "outputs": [
    {
     "name": "stderr",
     "output_type": "stream",
     "text": [
      "/tmp/ipykernel_98/2721894934.py:1: FutureWarning: The default value of numeric_only in DataFrame.corr is deprecated. In a future version, it will default to False. Select only valid columns or specify the value of numeric_only to silence this warning.\n",
      "  data.corr(method='pearson')\n"
     ]
    },
    {
     "data": {
      "text/html": [
       "<div>\n",
       "<style scoped>\n",
       "    .dataframe tbody tr th:only-of-type {\n",
       "        vertical-align: middle;\n",
       "    }\n",
       "\n",
       "    .dataframe tbody tr th {\n",
       "        vertical-align: top;\n",
       "    }\n",
       "\n",
       "    .dataframe thead th {\n",
       "        text-align: right;\n",
       "    }\n",
       "</style>\n",
       "<table border=\"1\" class=\"dataframe\">\n",
       "  <thead>\n",
       "    <tr style=\"text-align: right;\">\n",
       "      <th></th>\n",
       "      <th>Hours spend on Television</th>\n",
       "      <th>encoded_level_of_activity</th>\n",
       "    </tr>\n",
       "  </thead>\n",
       "  <tbody>\n",
       "    <tr>\n",
       "      <th>Hours spend on Television</th>\n",
       "      <td>1.000000</td>\n",
       "      <td>-0.020123</td>\n",
       "    </tr>\n",
       "    <tr>\n",
       "      <th>encoded_level_of_activity</th>\n",
       "      <td>-0.020123</td>\n",
       "      <td>1.000000</td>\n",
       "    </tr>\n",
       "  </tbody>\n",
       "</table>\n",
       "</div>"
      ],
      "text/plain": [
       "                           Hours spend on Television  \\\n",
       "Hours spend on Television                   1.000000   \n",
       "encoded_level_of_activity                  -0.020123   \n",
       "\n",
       "                           encoded_level_of_activity  \n",
       "Hours spend on Television                  -0.020123  \n",
       "encoded_level_of_activity                   1.000000  "
      ]
     },
     "execution_count": 21,
     "metadata": {},
     "output_type": "execute_result"
    }
   ],
   "source": [
    "data.corr(method='pearson')"
   ]
  },
  {
   "cell_type": "markdown",
   "id": "c0d1763b-ff17-4ef7-acba-ecce15cee7bb",
   "metadata": {},
   "source": [
    "Q5. A survey was conducted to examine the relationship between age and preference for a particular\n",
    "brand of soft drink. The survey results are shown below:\n",
    "|Age(Years)|Soft drink Preference|\n",
    "|----------|-----------|\n",
    "|25|Coke|\n",
    "|42|Pepsi|\n",
    "|37|Mountain Dew|\n",
    "|19|Coke|\n",
    "|31|Pepsi|\n",
    "|28|Coke|"
   ]
  },
  {
   "cell_type": "code",
   "execution_count": 30,
   "id": "7212e774-17cd-4c03-943c-1bfd96adba54",
   "metadata": {},
   "outputs": [
    {
     "data": {
      "text/plain": [
       "Soft drink preference\n",
       "Coke            24.0\n",
       "Mountain Dew    37.0\n",
       "Pepsi           36.5\n",
       "Name: Age(Years), dtype: float64"
      ]
     },
     "execution_count": 30,
     "metadata": {},
     "output_type": "execute_result"
    }
   ],
   "source": [
    "df=pd.DataFrame({'Age(Years)':[25,42,37,19,31,28],'Soft drink preference':['Coke','Pepsi','Mountain Dew','Coke','Pepsi','Coke']})\n",
    "df.groupby(['Soft drink preference'])['Age(Years)'].mean()"
   ]
  },
  {
   "cell_type": "markdown",
   "id": "424f984d-6c20-4c11-b803-f47e6b5e15df",
   "metadata": {},
   "source": [
    "According to the given data younger people prefer Coke while relatively elder people prefer Mountain Dew and Pepsi"
   ]
  },
  {
   "cell_type": "markdown",
   "id": "c3567bc7-d181-4888-a627-550b11fd5ac9",
   "metadata": {},
   "source": [
    "Q6. A company is interested in examining the relationship between the number of sales calls made per day\n",
    "and the number of sales made per week. The company collected data on both variables from a sample of\n",
    "30 sales representatives. Calculate the Pearson correlation coefficient between these two variables."
   ]
  },
  {
   "cell_type": "code",
   "execution_count": 22,
   "id": "950748f6-dcf8-4a28-ae44-802ec63c8249",
   "metadata": {},
   "outputs": [],
   "source": [
    "sales=pd.DataFrame({'Sales per day':np.random.randint(5,20,size=100),'Sales per week':np.random.randint(30,60,size=100)})"
   ]
  },
  {
   "cell_type": "code",
   "execution_count": 23,
   "id": "667e2e9b-34d2-4c32-a5b3-a9ab1fa0dcf7",
   "metadata": {},
   "outputs": [
    {
     "data": {
      "text/html": [
       "<div>\n",
       "<style scoped>\n",
       "    .dataframe tbody tr th:only-of-type {\n",
       "        vertical-align: middle;\n",
       "    }\n",
       "\n",
       "    .dataframe tbody tr th {\n",
       "        vertical-align: top;\n",
       "    }\n",
       "\n",
       "    .dataframe thead th {\n",
       "        text-align: right;\n",
       "    }\n",
       "</style>\n",
       "<table border=\"1\" class=\"dataframe\">\n",
       "  <thead>\n",
       "    <tr style=\"text-align: right;\">\n",
       "      <th></th>\n",
       "      <th>Sales per day</th>\n",
       "      <th>Sales per week</th>\n",
       "    </tr>\n",
       "  </thead>\n",
       "  <tbody>\n",
       "    <tr>\n",
       "      <th>0</th>\n",
       "      <td>8</td>\n",
       "      <td>43</td>\n",
       "    </tr>\n",
       "    <tr>\n",
       "      <th>1</th>\n",
       "      <td>11</td>\n",
       "      <td>35</td>\n",
       "    </tr>\n",
       "    <tr>\n",
       "      <th>2</th>\n",
       "      <td>18</td>\n",
       "      <td>53</td>\n",
       "    </tr>\n",
       "    <tr>\n",
       "      <th>3</th>\n",
       "      <td>7</td>\n",
       "      <td>55</td>\n",
       "    </tr>\n",
       "    <tr>\n",
       "      <th>4</th>\n",
       "      <td>5</td>\n",
       "      <td>53</td>\n",
       "    </tr>\n",
       "    <tr>\n",
       "      <th>...</th>\n",
       "      <td>...</td>\n",
       "      <td>...</td>\n",
       "    </tr>\n",
       "    <tr>\n",
       "      <th>95</th>\n",
       "      <td>11</td>\n",
       "      <td>31</td>\n",
       "    </tr>\n",
       "    <tr>\n",
       "      <th>96</th>\n",
       "      <td>15</td>\n",
       "      <td>35</td>\n",
       "    </tr>\n",
       "    <tr>\n",
       "      <th>97</th>\n",
       "      <td>8</td>\n",
       "      <td>50</td>\n",
       "    </tr>\n",
       "    <tr>\n",
       "      <th>98</th>\n",
       "      <td>18</td>\n",
       "      <td>55</td>\n",
       "    </tr>\n",
       "    <tr>\n",
       "      <th>99</th>\n",
       "      <td>12</td>\n",
       "      <td>35</td>\n",
       "    </tr>\n",
       "  </tbody>\n",
       "</table>\n",
       "<p>100 rows × 2 columns</p>\n",
       "</div>"
      ],
      "text/plain": [
       "    Sales per day  Sales per week\n",
       "0               8              43\n",
       "1              11              35\n",
       "2              18              53\n",
       "3               7              55\n",
       "4               5              53\n",
       "..            ...             ...\n",
       "95             11              31\n",
       "96             15              35\n",
       "97              8              50\n",
       "98             18              55\n",
       "99             12              35\n",
       "\n",
       "[100 rows x 2 columns]"
      ]
     },
     "execution_count": 23,
     "metadata": {},
     "output_type": "execute_result"
    }
   ],
   "source": [
    "sales"
   ]
  },
  {
   "cell_type": "code",
   "execution_count": 24,
   "id": "20e88d14-ce54-4b73-8edb-b07574a7451e",
   "metadata": {},
   "outputs": [
    {
     "data": {
      "text/html": [
       "<div>\n",
       "<style scoped>\n",
       "    .dataframe tbody tr th:only-of-type {\n",
       "        vertical-align: middle;\n",
       "    }\n",
       "\n",
       "    .dataframe tbody tr th {\n",
       "        vertical-align: top;\n",
       "    }\n",
       "\n",
       "    .dataframe thead th {\n",
       "        text-align: right;\n",
       "    }\n",
       "</style>\n",
       "<table border=\"1\" class=\"dataframe\">\n",
       "  <thead>\n",
       "    <tr style=\"text-align: right;\">\n",
       "      <th></th>\n",
       "      <th>Sales per day</th>\n",
       "      <th>Sales per week</th>\n",
       "    </tr>\n",
       "  </thead>\n",
       "  <tbody>\n",
       "    <tr>\n",
       "      <th>Sales per day</th>\n",
       "      <td>1.000000</td>\n",
       "      <td>0.023671</td>\n",
       "    </tr>\n",
       "    <tr>\n",
       "      <th>Sales per week</th>\n",
       "      <td>0.023671</td>\n",
       "      <td>1.000000</td>\n",
       "    </tr>\n",
       "  </tbody>\n",
       "</table>\n",
       "</div>"
      ],
      "text/plain": [
       "                Sales per day  Sales per week\n",
       "Sales per day        1.000000        0.023671\n",
       "Sales per week       0.023671        1.000000"
      ]
     },
     "execution_count": 24,
     "metadata": {},
     "output_type": "execute_result"
    }
   ],
   "source": [
    "sales.corr(method='pearson')"
   ]
  }
 ],
 "metadata": {
  "kernelspec": {
   "display_name": "Python 3 (ipykernel)",
   "language": "python",
   "name": "python3"
  },
  "language_info": {
   "codemirror_mode": {
    "name": "ipython",
    "version": 3
   },
   "file_extension": ".py",
   "mimetype": "text/x-python",
   "name": "python",
   "nbconvert_exporter": "python",
   "pygments_lexer": "ipython3",
   "version": "3.10.8"
  }
 },
 "nbformat": 4,
 "nbformat_minor": 5
}
