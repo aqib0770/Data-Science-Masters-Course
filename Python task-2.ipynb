{
 "cells": [
  {
   "cell_type": "markdown",
   "id": "30d1633a-033d-485d-92ed-4dc24258363c",
   "metadata": {},
   "source": [
    "Q1. You are writing code for a company. The requirement of the company is that you create a python\n",
    "function that will check whether the password entered by the user is correct or not. The function should\n",
    "take the password as input and return the string “Valid Password” if the entered password follows the\n",
    "below-given password guidelines else it should return “Invalid Password”.\n",
    "\n",
    "Note: 1. The Password should contain at least two uppercase letters and at least two lowercase letters.\n",
    "    2. The Password should contain at least a number and three special characters.\n",
    "    3. The length of the password should be 10 characters long."
   ]
  },
  {
   "cell_type": "code",
   "execution_count": 96,
   "id": "3e8f6344-de14-4c1d-bd5d-540572d0569d",
   "metadata": {},
   "outputs": [],
   "source": [
    "def check_pswd(string):\n",
    "    if len(string)<10 or \" \" in string:\n",
    "        print(\"Invalid Password\")\n",
    "    upper=0\n",
    "    lower=0\n",
    "    number=0\n",
    "    special_character=0\n",
    "    for i in string:\n",
    "        if i.isupper():\n",
    "            upper+=1\n",
    "        elif i.islower():\n",
    "            lower+=1\n",
    "        elif i.isdigit():\n",
    "            number+=1\n",
    "        else:\n",
    "            special_character+=1\n",
    "    if upper>=2 and lower>=2 and number>=1 and special_character>=3:\n",
    "        return \"Valid Password\"\n",
    "    else:\n",
    "        return \"Invalid Password\""
   ]
  },
  {
   "cell_type": "code",
   "execution_count": 98,
   "id": "ac95b38b-d09c-493b-9748-fbb7e27ea75b",
   "metadata": {},
   "outputs": [
    {
     "data": {
      "text/plain": [
       "'Valid Password'"
      ]
     },
     "execution_count": 98,
     "metadata": {},
     "output_type": "execute_result"
    }
   ],
   "source": [
    "check_pswd(\"Aqib@1%$Ansari\")"
   ]
  },
  {
   "cell_type": "markdown",
   "id": "06d55381-c2d7-42f9-89ca-4ccf0aeb7bad",
   "metadata": {},
   "source": [
    "Q2. Solve the below-given questions using at least one of the following:\n",
    "1. Lambda function\n",
    "2. Filter function\n",
    "3. Map function\n",
    "4. List Comprehension"
   ]
  },
  {
   "cell_type": "markdown",
   "id": "5f053add-83b0-40fb-a439-f4e76b9cdbcc",
   "metadata": {},
   "source": [
    "Check if the string starts with a particular letter"
   ]
  },
  {
   "cell_type": "code",
   "execution_count": 78,
   "id": "61308e6b-4edd-4e5b-982a-6c62c245a002",
   "metadata": {},
   "outputs": [],
   "source": [
    "string=\"Aqibansari\""
   ]
  },
  {
   "cell_type": "code",
   "execution_count": 99,
   "id": "eab1362c-76da-46bf-b1c8-04a80bd24ed0",
   "metadata": {},
   "outputs": [
    {
     "data": {
      "text/plain": [
       "True"
      ]
     },
     "execution_count": 99,
     "metadata": {},
     "output_type": "execute_result"
    }
   ],
   "source": [
    "ifStringStartsWithLetter=lambda str,letter:str.startswith(letter)\n",
    "ifStringStartsWithLetter(string,'A')"
   ]
  },
  {
   "cell_type": "markdown",
   "id": "e0078432-b008-4825-9032-46da29eebc86",
   "metadata": {},
   "source": [
    "Check if the string is numeric."
   ]
  },
  {
   "cell_type": "code",
   "execution_count": 34,
   "id": "612739ea-bc03-4b62-b1ad-f96767fe326e",
   "metadata": {},
   "outputs": [],
   "source": [
    "string2=\"12345\""
   ]
  },
  {
   "cell_type": "code",
   "execution_count": 100,
   "id": "12bdf0b3-8f89-4d80-910d-c7ed32923f8f",
   "metadata": {},
   "outputs": [
    {
     "data": {
      "text/plain": [
       "True"
      ]
     },
     "execution_count": 100,
     "metadata": {},
     "output_type": "execute_result"
    }
   ],
   "source": [
    "ifStringIsNumeric=lambda str:str.isnumeric()\n",
    "ifStringIsNumeric(string2)"
   ]
  },
  {
   "cell_type": "markdown",
   "id": "70d5f15f-b1f0-496b-a9aa-9b7021385c8d",
   "metadata": {},
   "source": [
    "Sort a list of tuples having fruit names and their quantity. [(\"mango\",99),(\"orange\",80), (\"grapes\", 1000)]"
   ]
  },
  {
   "cell_type": "code",
   "execution_count": 101,
   "id": "2ec45006-3307-44f9-a226-b3f3eddc3755",
   "metadata": {},
   "outputs": [
    {
     "data": {
      "text/plain": [
       "[('orange', 80), ('mango', 99), ('grapes', 1000)]"
      ]
     },
     "execution_count": 101,
     "metadata": {},
     "output_type": "execute_result"
    }
   ],
   "source": [
    "lst=[(\"mango\",99),(\"orange\",80), (\"grapes\", 1000)]\n",
    "sorted_fruites=lambda x:sorted(x,key=lambda x:x[1])\n",
    "sorted_fruites(lst)"
   ]
  },
  {
   "cell_type": "markdown",
   "id": "6aba3795-6284-44fd-8adf-c46ceac5bba8",
   "metadata": {},
   "source": [
    "Find the squares of numbers from 1 to 10"
   ]
  },
  {
   "cell_type": "code",
   "execution_count": 102,
   "id": "940a4e89-634b-428c-bbc2-8eaadde62342",
   "metadata": {},
   "outputs": [
    {
     "data": {
      "text/plain": [
       "[1, 4, 9, 16, 25, 36, 49, 64, 81, 100]"
      ]
     },
     "execution_count": 102,
     "metadata": {},
     "output_type": "execute_result"
    }
   ],
   "source": [
    "[num**2 for num in range(1,11)]"
   ]
  },
  {
   "cell_type": "markdown",
   "id": "f0bfdacc-5b65-49a8-8179-216392bd13e5",
   "metadata": {},
   "source": [
    "Find the cube root of numbers from 1 to 10"
   ]
  },
  {
   "cell_type": "code",
   "execution_count": 108,
   "id": "021264b7-fdcd-4511-a2a6-ca7d0173c163",
   "metadata": {},
   "outputs": [
    {
     "data": {
      "text/plain": [
       "[1.0,\n",
       " 1.2599210498948732,\n",
       " 1.4422495703074083,\n",
       " 1.5874010519681994,\n",
       " 1.7099759466766968,\n",
       " 1.8171205928321397,\n",
       " 1.912931182772389,\n",
       " 2.0,\n",
       " 2.080083823051904,\n",
       " 2.154434690031884]"
      ]
     },
     "execution_count": 108,
     "metadata": {},
     "output_type": "execute_result"
    }
   ],
   "source": [
    "l=[1,2,3,4,5,6,7,8,9,10]\n",
    "list(map(lambda x:x**(1/3),l))"
   ]
  },
  {
   "cell_type": "markdown",
   "id": "c0b8bb02-a3d3-4275-a10c-8078366c8c42",
   "metadata": {},
   "source": [
    "Check if a given number is even"
   ]
  },
  {
   "cell_type": "code",
   "execution_count": 107,
   "id": "fa43eb15-2e34-4cb0-8a68-4c4aeeccb48a",
   "metadata": {},
   "outputs": [
    {
     "name": "stdin",
     "output_type": "stream",
     "text": [
      "Enter number to check even or not:  78\n"
     ]
    },
    {
     "data": {
      "text/plain": [
       "True"
      ]
     },
     "execution_count": 107,
     "metadata": {},
     "output_type": "execute_result"
    }
   ],
   "source": [
    "evenCheck=lambda x:x%2==0\n",
    "num=int(input(\"Enter number to check even or not: \"))\n",
    "evenCheck(num)"
   ]
  },
  {
   "cell_type": "markdown",
   "id": "99db65e5-8e5e-42f2-9be0-36e1da547c3b",
   "metadata": {},
   "source": [
    "Filter odd numbers from the given list.\n",
    "[1,2,3,4,5,6,7,8,9,10]"
   ]
  },
  {
   "cell_type": "code",
   "execution_count": 110,
   "id": "8818f017-9133-46e9-8a75-40976b3a0395",
   "metadata": {},
   "outputs": [
    {
     "data": {
      "text/plain": [
       "[1, 3, 5, 7, 9]"
      ]
     },
     "execution_count": 110,
     "metadata": {},
     "output_type": "execute_result"
    }
   ],
   "source": [
    "l=[1,2,3,4,5,6,7,8,9,10]\n",
    "list(filter(lambda x: x if x%2!=0 else False,l))"
   ]
  },
  {
   "cell_type": "markdown",
   "id": "76e3abe4-7a84-46de-a7f6-fb5e7811f1c7",
   "metadata": {},
   "source": [
    "Sort a list of integers into positive and negative integers lists.\n",
    "[1,2,3,4,5,6,-1,-2,-3,-4,-5,0]"
   ]
  },
  {
   "cell_type": "code",
   "execution_count": 112,
   "id": "8767b95e-d664-4eaf-88fc-184e757523f8",
   "metadata": {},
   "outputs": [],
   "source": [
    "lst=[1,2,3,4,5,6,-1,-2,-3,-4,-5,0]"
   ]
  },
  {
   "cell_type": "code",
   "execution_count": 114,
   "id": "7c4b17c6-bb27-43f8-9d98-81ca94480eea",
   "metadata": {},
   "outputs": [
    {
     "data": {
      "text/plain": [
       "[[1, 2, 3, 4, 5, 6, 0], [-1, -2, -3, -4, -5]]"
      ]
     },
     "execution_count": 114,
     "metadata": {},
     "output_type": "execute_result"
    }
   ],
   "source": [
    " [[x for x in lst if x >= 0], [x for x in lst if x < 0]]"
   ]
  },
  {
   "cell_type": "code",
   "execution_count": null,
   "id": "17b36fce-feb2-49cd-b4f8-4e3d1f384125",
   "metadata": {},
   "outputs": [],
   "source": []
  }
 ],
 "metadata": {
  "kernelspec": {
   "display_name": "Python 3 (ipykernel)",
   "language": "python",
   "name": "python3"
  },
  "language_info": {
   "codemirror_mode": {
    "name": "ipython",
    "version": 3
   },
   "file_extension": ".py",
   "mimetype": "text/x-python",
   "name": "python",
   "nbconvert_exporter": "python",
   "pygments_lexer": "ipython3",
   "version": "3.10.8"
  }
 },
 "nbformat": 4,
 "nbformat_minor": 5
}
