{
 "cells": [
  {
   "cell_type": "markdown",
   "id": "862da332-0ed4-4eae-ab1e-a6d08328c1b7",
   "metadata": {},
   "source": [
    "Q1. Which keyword is used to create a function? Create a function to return a list of odd numbers in the\n",
    "range of 1 to 25.\n",
    "\n",
    "Ans) 'def' keyword is used to create a function in Python."
   ]
  },
  {
   "cell_type": "code",
   "execution_count": 1,
   "id": "0c350152-33d3-40cb-9961-b458251c6c6d",
   "metadata": {},
   "outputs": [],
   "source": [
    "def odd():\n",
    "    n=[]\n",
    "    for i in range(1,26):\n",
    "        if i%2!=0:\n",
    "            n.append(i)\n",
    "    return n        "
   ]
  },
  {
   "cell_type": "code",
   "execution_count": 2,
   "id": "3cb41c22-1fd8-43f4-ade0-6745e1856791",
   "metadata": {},
   "outputs": [
    {
     "data": {
      "text/plain": [
       "[1, 3, 5, 7, 9, 11, 13, 15, 17, 19, 21, 23, 25]"
      ]
     },
     "execution_count": 2,
     "metadata": {},
     "output_type": "execute_result"
    }
   ],
   "source": [
    "odd()"
   ]
  },
  {
   "cell_type": "markdown",
   "id": "56a4e20c-09b6-4dd9-aacb-ee5c891a393a",
   "metadata": {},
   "source": [
    "Q2. Why *args and **kwargs is used in some functions? Create a function each for *args and **kwargs to\n",
    "demonstrate their use.\n",
    "\n",
    "Ans) When we don't know the number of arguments then we use *args in function and if we want to take arguments as key:value pair in the form of dictionary then we use **kwargs. Its demonstration is given below"
   ]
  },
  {
   "cell_type": "code",
   "execution_count": 3,
   "id": "5bfadf20-da0a-43a1-aaf2-57678ab48887",
   "metadata": {},
   "outputs": [],
   "source": [
    "def test(*args):\n",
    "    return args"
   ]
  },
  {
   "cell_type": "code",
   "execution_count": 4,
   "id": "7789e53a-d1ea-4b19-854c-0cff66382027",
   "metadata": {},
   "outputs": [
    {
     "data": {
      "text/plain": [
       "(1, 2, 3, 4, [5, 6, 7], {'Ansari', 'Aqib'}, 'Data', ('Science', 'Course'))"
      ]
     },
     "execution_count": 4,
     "metadata": {},
     "output_type": "execute_result"
    }
   ],
   "source": [
    "test(1,2,3,4,[5,6,7],{\"Aqib\",\"Ansari\",\"Aqib\"},\"Data\",(\"Science\",\"Course\"))"
   ]
  },
  {
   "cell_type": "code",
   "execution_count": 5,
   "id": "2b89004b-505e-4b39-a2c8-b420f70fd832",
   "metadata": {},
   "outputs": [],
   "source": [
    "def test1(**kwargs):\n",
    "    return kwargs"
   ]
  },
  {
   "cell_type": "code",
   "execution_count": 6,
   "id": "04e9e71e-aaf3-4da2-ac57-3b860307dc77",
   "metadata": {},
   "outputs": [
    {
     "data": {
      "text/plain": [
       "{'a': 1, 'b': ['Aqib', 'Ansari'], 'c': {1, 2, 3, 4}, 'd': True}"
      ]
     },
     "execution_count": 6,
     "metadata": {},
     "output_type": "execute_result"
    }
   ],
   "source": [
    "test1(a=1,b=[\"Aqib\",\"Ansari\"],c={1,2,3,2,4,2,3},d=(True))"
   ]
  },
  {
   "cell_type": "markdown",
   "id": "84e4f57b-986d-47ef-b06b-bbd7bc3ea115",
   "metadata": {},
   "source": [
    "Q3. What is an iterator in python? Name the method used to initialise the iterator object and the method\n",
    "used for iteration. Use these methods to print the first five elements of the given list [2, 4, 6, 8, 10, 12, 14, 16,\n",
    "18, 20].\n",
    "\n",
    "Ans) Iterator in Python is used to iterate over iterable objects like list and tuples. The 'iter()' method is used to initialize the iterator object and 'next()' method is used for iteration."
   ]
  },
  {
   "cell_type": "code",
   "execution_count": 7,
   "id": "811cd473-a78b-4502-848f-ef51163fb812",
   "metadata": {},
   "outputs": [],
   "source": [
    "l=[2, 4, 6, 8, 10, 12, 14, 16,18, 20]"
   ]
  },
  {
   "cell_type": "code",
   "execution_count": 10,
   "id": "dd7cc132-207b-4c15-9925-2e8841a363c4",
   "metadata": {},
   "outputs": [],
   "source": [
    "a=iter(l)"
   ]
  },
  {
   "cell_type": "code",
   "execution_count": 11,
   "id": "614b4e89-580e-40e9-b13b-fc5c680f6220",
   "metadata": {},
   "outputs": [
    {
     "name": "stdout",
     "output_type": "stream",
     "text": [
      "2\n",
      "4\n",
      "6\n",
      "8\n",
      "10\n"
     ]
    }
   ],
   "source": [
    "for i in range(5):\n",
    "    print(next(a))"
   ]
  },
  {
   "cell_type": "markdown",
   "id": "846b5e27-1b3b-4092-b69d-cdc04a5fd4f5",
   "metadata": {},
   "source": [
    "Q4. What is a generator function in python? Why yield keyword is used? Give an example of a generator\n",
    "function.\n",
    "\n",
    "Ans) A generator function is a function which uses 'yield' keyword rather than 'return' keyword.yield keyword reduces the memory consumption, so instead of storing large amount of data in a data structure like list, we can use yield."
   ]
  },
  {
   "cell_type": "code",
   "execution_count": 12,
   "id": "91febaf3-0e30-42cb-82c4-7169d63a8685",
   "metadata": {},
   "outputs": [],
   "source": [
    "def fact(n):\n",
    "    a,b=1,1\n",
    "    for i in range(n):\n",
    "        yield a\n",
    "        b+=1\n",
    "        a*=b"
   ]
  },
  {
   "cell_type": "code",
   "execution_count": 13,
   "id": "ac5ad3ad-3ae5-401f-8a2a-0c56218dd25f",
   "metadata": {},
   "outputs": [
    {
     "name": "stdout",
     "output_type": "stream",
     "text": [
      "1\n",
      "2\n",
      "6\n",
      "24\n",
      "120\n",
      "720\n",
      "5040\n",
      "40320\n",
      "362880\n",
      "3628800\n"
     ]
    }
   ],
   "source": [
    "for i in fact(10):\n",
    "    print(i)"
   ]
  },
  {
   "cell_type": "markdown",
   "id": "d4ecb537-a503-40ef-9016-ffd95d39e0b9",
   "metadata": {},
   "source": [
    "Q5. Create a generator function for prime numbers less than 1000. Use the next() method to print the\n",
    "first 20 prime numbers."
   ]
  },
  {
   "cell_type": "code",
   "execution_count": 14,
   "id": "e6744f8e-927c-4b23-984c-acf3c9ffd84d",
   "metadata": {},
   "outputs": [],
   "source": [
    "def generator():\n",
    "    num=2\n",
    "    while num<1000:\n",
    "        for i in range(2,num):\n",
    "            if (num%i)==0:\n",
    "                break\n",
    "        else:\n",
    "            yield num\n",
    "        num+=1"
   ]
  },
  {
   "cell_type": "code",
   "execution_count": 16,
   "id": "8f19bd3a-77ab-43f3-ac7e-927c0602ed44",
   "metadata": {},
   "outputs": [],
   "source": [
    "a=generator()"
   ]
  },
  {
   "cell_type": "code",
   "execution_count": 17,
   "id": "0726483d-821c-46ce-9e0f-ef7298b34f50",
   "metadata": {},
   "outputs": [
    {
     "name": "stdout",
     "output_type": "stream",
     "text": [
      "2\n",
      "3\n",
      "5\n",
      "7\n",
      "11\n",
      "13\n",
      "17\n",
      "19\n",
      "23\n",
      "29\n",
      "31\n",
      "37\n",
      "41\n",
      "43\n",
      "47\n",
      "53\n",
      "59\n",
      "61\n",
      "67\n",
      "71\n"
     ]
    }
   ],
   "source": [
    "for i in range(20):\n",
    "    print(next(a))"
   ]
  }
 ],
 "metadata": {
  "kernelspec": {
   "display_name": "Python 3 (ipykernel)",
   "language": "python",
   "name": "python3"
  },
  "language_info": {
   "codemirror_mode": {
    "name": "ipython",
    "version": 3
   },
   "file_extension": ".py",
   "mimetype": "text/x-python",
   "name": "python",
   "nbconvert_exporter": "python",
   "pygments_lexer": "ipython3",
   "version": "3.10.8"
  }
 },
 "nbformat": 4,
 "nbformat_minor": 5
}
