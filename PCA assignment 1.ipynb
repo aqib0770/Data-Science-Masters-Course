{
 "cells": [
  {
   "cell_type": "markdown",
   "id": "84a7586e-b86a-4141-8047-b2a4a290296a",
   "metadata": {},
   "source": [
    "Q1. What is the curse of dimensionality reduction and why is it important in machine learning?\n",
    "<br>Ans: The curse of dimensionality is a phenomenon that occurs when the number of features in a dataset is very high. High dimensional data can lead to overfitting, where the model learns the training data too well and does not generalize well to new data.\n",
    "<br>Dimensionality reduction in machine learning is important because it improves the performance of models by reducing the complexity of the data and reducing overfitting."
   ]
  },
  {
   "cell_type": "markdown",
   "id": "1eaa6775-630f-48e6-8361-02ff05638334",
   "metadata": {},
   "source": [
    "Q2. How does the curse of dimensionality impact the performance of machine learning algorithms?\n",
    "<br>Ans: The curse of dimensionality impacts the performance of machine learning algorithms in a number of ways:\n",
    "- Overfitting:- High dimensional data can lead to overfitting, where the model learns the data too well and does not generalizae well to the new data.\n",
    "- Computitional complexity:- Training a machine learning model on high dimensional data can be computationally expensive."
   ]
  },
  {
   "cell_type": "markdown",
   "id": "41a4374b-98dd-4259-993e-0d6447f3637b",
   "metadata": {},
   "source": [
    "Q3. What are some of the consequences of the curse of dimensionality in machine learning, and how do\n",
    "they impact model performance?\n",
    "- Reduced model performance: The performance of ML models can degrade significantly as the dimensionality of the data increases.\n",
    "- Reduced model's interpretability: High dimensional machine learning models can be difficult to interpret because it can be difficult to understand how the different features interact with each other to produce the model's predictions."
   ]
  },
  {
   "cell_type": "markdown",
   "id": "cf27fa9f-7b06-4b34-9c15-40e1662ea2d3",
   "metadata": {},
   "source": [
    "Q4. Can you explain the concept of feature selection and how it can help with dimensionality reduction?\n",
    "<br>Ans: Feature selection is the process of identifying and selecting the most important features in a dataset. This can be done using variety of techniques, including:\n",
    "- Correlation analysis: Correlation analysis measures the relationship between two variables. Features that are highly correlated with each other can be removed.\n",
    "- Information gain: Information gain measures how much information a feature contributes to predicting the targer variable."
   ]
  },
  {
   "cell_type": "markdown",
   "id": "0b16a6fc-f444-4892-8665-57dcb6c97116",
   "metadata": {},
   "source": [
    "Q5. What are some limitations and drawbacks of using dimensionality reduction techniques in machine\n",
    "learning?\n",
    "<br>Refer Q2 and Q3"
   ]
  },
  {
   "cell_type": "markdown",
   "id": "6b836eb8-d63c-429a-8bcb-68ac4dbcf9c0",
   "metadata": {},
   "source": [
    "Q6. How does the curse of dimensionality relate to overfitting and underfitting in machine learning?\n",
    "<br>Ans: The curse of dimensionality can lead to both overfitting and underfitting. In high dimensional data, it is east for the model to overfit the training data, because there are many more patterns that model can learn. Additionally, it is more difficult for the model to leatn the relationships between all the features in high dimensional data, which can lead to underfitting."
   ]
  },
  {
   "cell_type": "markdown",
   "id": "8b8fd945-658d-4a40-a580-f412a9626fd0",
   "metadata": {},
   "source": [
    "Q7. How can one determine the optimal number of dimensions to reduce data to when using dimensionality reduction techniques?\n",
    "<br>Ans: Use cross validation techniques like randomized search cv and Gridsearch cv."
   ]
  }
 ],
 "metadata": {
  "kernelspec": {
   "display_name": "Python 3 (ipykernel)",
   "language": "python",
   "name": "python3"
  },
  "language_info": {
   "codemirror_mode": {
    "name": "ipython",
    "version": 3
   },
   "file_extension": ".py",
   "mimetype": "text/x-python",
   "name": "python",
   "nbconvert_exporter": "python",
   "pygments_lexer": "ipython3",
   "version": "3.10.8"
  }
 },
 "nbformat": 4,
 "nbformat_minor": 5
}
