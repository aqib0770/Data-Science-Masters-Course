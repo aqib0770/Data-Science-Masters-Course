{
 "cells": [
  {
   "cell_type": "markdown",
   "id": "9cc5fca8-c60c-4b4e-b6c1-cdc7c3e8ecc0",
   "metadata": {},
   "source": [
    "Q1. Explain the difference between simple linear regression and multiple linear regression. Provide an\n",
    "example of each."
   ]
  },
  {
   "cell_type": "markdown",
   "id": "aa9d1a6e-d696-4268-8290-cc3542972a12",
   "metadata": {},
   "source": [
    "Ans:\n",
    "- Simple linear regression: It is a statistical method to summarize and study relationships between two variables. It assumes that there is a linear relatonship between two variables. It has only one x and one y variable. For example, rent of property based on square feet.\n",
    "- Multiple linear regression: It has one dependent feature and many independent feature. It is an extension of simple linear regression. For example: predicting house price based on number of rooms and size of the house"
   ]
  },
  {
   "cell_type": "markdown",
   "id": "844fa7f1-2606-4114-b07f-1e48a57d4327",
   "metadata": {},
   "source": [
    "Q2. Discuss the assumptions of linear regression. How can you check whether these assumptions hold in a given dataset?\n",
    "<br>Ans: The most important assumption of linear regression is that there is a linear relationship between dependent and independent features. These assumptions can be validated by visualization such as scatter plots"
   ]
  },
  {
   "cell_type": "markdown",
   "id": "4f52efc2-344d-4858-ad5e-de76173e4e71",
   "metadata": {},
   "source": [
    "Q3. How do you interpret the slope and intercept in a linear regression model? Provide an example using a real-world scenario.\n",
    "<br>Ans: In linear regression model, the slope represent the change in dependent variable when independent variable is changing. The intercept represents the value of y when x is zero.\n",
    "<br>For example: suppose we want to predict the house price based on its area in square foot. We can use linear regression to estimate the relationship between size of the house and its price. The slope tells us how price of the house increases for each additional square foot unit. The intercept tells us the estimated price of a house with zero square foot which dosen't make any sense in this context"
   ]
  },
  {
   "cell_type": "markdown",
   "id": "2d72b575-2114-4c12-88ef-24f411fe8e81",
   "metadata": {},
   "source": [
    "Q4. Explain the concept of gradient descent. How is it used in machine learning?\n",
    "<br>Ans: Gradient descent is an optimization algorithm used in machine learning to minimize the cost function or error. It is iterative method that starts with an initial guess for the and updates them in the direction of negative or positive gradient of cost function. The learning rate is the rate at which we take each iteration. The algorithm stops when it reaches the minimal point."
   ]
  },
  {
   "cell_type": "markdown",
   "id": "e3e39a06-e5ee-472a-829e-6646e2c15efd",
   "metadata": {},
   "source": [
    "Q5. Describe the multiple linear regression model. How does it differ from simple linear regression?\n",
    "<br>Ans: Multiple regression is used to model the relationship between two or more independent feature and a dependent feature. It is an extension of simple linear regression. The main difference between simple linear regression and multiple linear regression is that simple linear regression models the relationship between one independent and one independent feature while multiple linear regression models the relationship between 2 or more independent features and a dependent feature."
   ]
  },
  {
   "cell_type": "markdown",
   "id": "45b779a6-c2c6-491f-80b4-3a810e51ddab",
   "metadata": {},
   "source": [
    "Q6. Explain the concept of multicollinearity in multiple linear regression. How can you detect and\n",
    "address this issue?\n",
    "<br>Ans: Multicollinearity is a situation where two or more independent featutres are highly correlated with each other. There are several ways to detect the multicolloinearity: One of them is to look at correlation matrix of independent variables. To address this issue one can remove highly correlated feature. Another "
   ]
  },
  {
   "cell_type": "markdown",
   "id": "12c8f63d-5ec7-4313-8d05-c0115d67a5f0",
   "metadata": {},
   "source": [
    "Q7. Describe the polynomial regression model. How is it different from linear regression?\n",
    "<br>Ans: Polynomial regression is a form of regression analysis where relationship between dependent and independent features modeled as an nth degree polynomial or as a curved line. In this regression, the relationship between features is non-linear.\n",
    "The main difference between linear regression and polynomial regression is that in linear regression, the relationship is modeled on a straight line, while in polynomial regression, the relationship is modeled as a polynomial equation of higher degree resulting in a curvature relationship."
   ]
  },
  {
   "cell_type": "markdown",
   "id": "9a9116d2-15d2-4f85-9c11-94c448f76d10",
   "metadata": {},
   "source": [
    "Q8. What are the advantages and disadvantages of polynomial regression compared to linear\n",
    "regression? In what situations would you prefer to use polynomial regression?\n",
    "<br>Ans:\n",
    "#### Advantages of polynomial regression compared to linear regression:\n",
    "- **Capturing non-linear relationship:** Polynomial regression can capture non-linear relationshp between better than linear regression which can provide more accurate results than linear relationship in many cases.\n",
    "#### Disadvantages of polynomial regression compared to linear regression:\n",
    "- **Overfitting:** Polynomial regression runs the risk of overfitting when the degree of polynomial is set too high. It mainly occurs when the model is too complex.\n",
    "- **Interpretability:** As the degree of ploynomial increases, the interpretability of model decreases. Higher degree polynomials introduces more coefficients making it challenging to interpret individual effects of independent variable.\n",
    "#### Situations where polynomial regression preferred \n",
    "- **Non-linear relationship:** When the relationship between dependent and independent feature is not-linear, the polynomial regression is preferred.\n",
    "- **Curved Trend**: When the model shows the curved trend or data point shows signs of bending, then polynomial regression is preferred.\n"
   ]
  },
  {
   "cell_type": "code",
   "execution_count": null,
   "id": "8d9380b8-fdfb-470e-9769-b5ce0acb1401",
   "metadata": {},
   "outputs": [],
   "source": []
  },
  {
   "cell_type": "code",
   "execution_count": null,
   "id": "70b31479-9e74-4708-a0cc-981b26c443ec",
   "metadata": {},
   "outputs": [],
   "source": []
  },
  {
   "cell_type": "code",
   "execution_count": null,
   "id": "d9429071-decc-4489-a00d-44d1aafcd33c",
   "metadata": {},
   "outputs": [],
   "source": []
  }
 ],
 "metadata": {
  "kernelspec": {
   "display_name": "Python 3 (ipykernel)",
   "language": "python",
   "name": "python3"
  },
  "language_info": {
   "codemirror_mode": {
    "name": "ipython",
    "version": 3
   },
   "file_extension": ".py",
   "mimetype": "text/x-python",
   "name": "python",
   "nbconvert_exporter": "python",
   "pygments_lexer": "ipython3",
   "version": "3.10.8"
  }
 },
 "nbformat": 4,
 "nbformat_minor": 5
}
