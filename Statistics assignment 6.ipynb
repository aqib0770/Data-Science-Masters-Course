{
 "cells": [
  {
   "cell_type": "markdown",
   "id": "2b7ed4c0-929d-430d-a224-38c3b4127b44",
   "metadata": {},
   "source": [
    "Q1: What is the difference between a t-test and a z-test? Provide an example scenario where you would\n",
    "use each type of test.\n",
    "<br>Ans. The main difference between z-test and t-test is when sample size is large (>=30) and standard deviation is known, we use z-test and when sample size is small (30>) and standard deviation is unknown we use t-test.\n",
    "<br>Suppose we want to test whether there is a difference in the mean weight of two groups of people:men and women. We can use t-test to compare mean weight of men and women if sample size is less than 30 and z-test when sample size is greater than 30 and standard deviation is known."
   ]
  },
  {
   "cell_type": "markdown",
   "id": "08e80346-9542-4d26-b1a1-c1c5c3c2d85d",
   "metadata": {},
   "source": [
    "Q2: Differentiate between one-tailed and two-tailed tests.\n",
    "<br>A one-tailed test is a statistical test in which critical area of distribution is one-sided so that it is greater or smaller than a certain value, but not both.\n",
    "<br>A two-tailed test is a statistical test in which the critical area of distribution is two-sided and test whether the sample is greater than or less than a certain range of values."
   ]
  },
  {
   "cell_type": "markdown",
   "id": "d5032788-6323-4eb5-9da1-0d919792ea9e",
   "metadata": {},
   "source": [
    "Q3: Explain the concept of Type 1 and Type 2 errors in hypothesis testing. Provide an example scenario for each type of error.\n",
    "<br>Ans. In hypothesis testing, type 1 error occurs when null is rejected but it is actually true. Type 2 error occurs when null hypothesis is not rejected but it is actually false\n",
    "<br>Examples: Suppose, in medical testing, a patient is diagnosed with a disease but actually he or she is healthy. In this case it is a Type 1 error. And if a patient is found to be healthy but actually he or she has some disease then it is a type 2 error."
   ]
  },
  {
   "cell_type": "markdown",
   "id": "c191dc4c-8034-400a-8cd2-966d31d4935e",
   "metadata": {},
   "source": [
    "Q4: Explain Bayes's theorem with an example.\n",
    "<br>Ans. Bayes's theorem describes the probability of an event based on prior knowledge of conditions that might be related to an event.\n",
    "<br>Lets take an example of a toy manufacturing company. Machines A1,A2 and A3 produced 25%,35% and 40% of toys respectively. Out of these 5%, 4% and 2% found to be defective. Then to find the probability that a toy was manufactured by machine A2, when selected at random, we use Bayes's theorem."
   ]
  },
  {
   "cell_type": "markdown",
   "id": "0f93657f-49b8-41c0-82f3-d1f172fd4108",
   "metadata": {},
   "source": [
    "Q5: What is a confidence interval? How to calculate the confidence interval, explain with an example.\n",
    "<br>Ans. A confidence interval is a range between which a true value exists with a certain level of confidence.To calculate the confidence interval first we have to calculate standard error by dividing standard deviation by root of sample size and then calculate the z-value or t-value\n",
    "<br>lower_ci=mean-(t-value or z-value * standard error)\n",
    "<br>upper_ci=mean+(t-value or z-value * standard error)\n",
    "<br>Example: A random sample of heights of students taken from a population (n=50). The sample mean is 165 cm and standard deviation is 8. We want to calculate the 95% confidence interval for true average of heights of students.\n",
    "<br>Standard error=std/sqrt(50)=8/sqrt(50)=1.13\n",
    "<br>alpha=0.5\n",
    "<br>z-value=1.96\n",
    "<br>upper_ci=165+(1.96 * 1.13)=167.2148\n",
    "<br>lower_ci=165-(1.96 * 1.13)=162.7965\n",
    "<br>(162.7965,162.2148)"
   ]
  },
  {
   "cell_type": "markdown",
   "id": "0f47bc8f-0039-4405-833b-9615f65cca60",
   "metadata": {},
   "source": [
    "Q6. Use Bayes's Theorem to calculate the probability of an event occurring given prior knowledge of the\n",
    "event's probability and new evidence. Provide a sample problem and solution.\n",
    "<br>Ans. Machines A1,A2 and A3 produced 25%,35% and 40% of toys respectively. Out of these 5%, 4% and 2% found to be defective. Then to find the probability that a toy was manufactured by machine A2, when selected at random, we use Bayes's theorem.\n",
    "<br>Pr(A1 that car manufactured from machine A1)=25%=0.25\n",
    "<br>Pr(A2 that car manufactured from machine A2)=35%=0.35\n",
    "<br>Pr(A3 that car manufactured from machine A3)=40%=0.40\n",
    "<br>Let B be the probability that a toy selected is defective\n",
    "<br>Pr(B/A1 the defective toy was from machine A1)=5%=0.05\n",
    "<br>Pr(B/A2 the defective toy was from machine A2)=4%=0.04\n",
    "<br>Pr(B/A3 the defective toy was from machine A3)=2%=0.02\n",
    "<br>We have to find pr(A2/B)\n",
    "<br>Pr(A2/B)=(Pr(A2)* P(B/A2))/(P(A1)* P(B/A1))+(P(A2)* P(B/A2))+(P(A2)* P(B/A1))"
   ]
  },
  {
   "cell_type": "code",
   "execution_count": 23,
   "id": "7a63dcf6-0251-4933-ab40-299bf0eeedbb",
   "metadata": {},
   "outputs": [],
   "source": [
    "P_A1,P_A2,P_A3=0.25,0.35,0.40\n",
    "P_B_A1,P_B_A2,P_B_A3=0.05,0.04,0.02\n",
    "P_A2_B=(P_A2*P_B_A2)/((P_A1*P_B_A1)+(P_A2*P_B_A2)+(P_A3*P_B_A3))"
   ]
  },
  {
   "cell_type": "code",
   "execution_count": 24,
   "id": "adb00800-5be6-4d53-a972-ce88ffe00d1f",
   "metadata": {},
   "outputs": [
    {
     "name": "stdout",
     "output_type": "stream",
     "text": [
      "The probability that a defective toy is from machine A2 is  0.4057971014492753\n"
     ]
    }
   ],
   "source": [
    "print(\"The probability that a defective toy is from machine A2 is \",P_A2_B)"
   ]
  },
  {
   "cell_type": "markdown",
   "id": "9726ec89-8e09-46b5-aa96-6f653cc9c628",
   "metadata": {},
   "source": [
    "Q7. Calculate the 95% confidence interval for a sample of data with a mean of 50 and a standard deviation\n",
    "of 5. Interpret the results.\n",
    "<br>Ans. Sample size is not given so we assume sample size to 30\n",
    "<br>Since sample size is large and standard deviation is given, we'll use z-test"
   ]
  },
  {
   "cell_type": "code",
   "execution_count": 25,
   "id": "1906b148-5218-491e-aaf3-6fc97c6d16d0",
   "metadata": {},
   "outputs": [],
   "source": [
    "import numpy as np\n",
    "alpha=0.05\n",
    "mean=50\n",
    "std=5\n",
    "critical_value=1.96\n",
    "standard_error=std/np.sqrt(30)\n",
    "upper_ci=mean+(critical_value*standard_error)\n",
    "lower_ci=mean-(critical_value*standard_error)"
   ]
  },
  {
   "cell_type": "code",
   "execution_count": 26,
   "id": "c1cb7b5d-55f2-42bf-b154-3615ba39a3c6",
   "metadata": {},
   "outputs": [
    {
     "name": "stdout",
     "output_type": "stream",
     "text": [
      "The confidence interval is (48.21077297881646, 51.78922702118354)\n"
     ]
    }
   ],
   "source": [
    "print(f\"The confidence interval is {lower_ci,upper_ci}\")"
   ]
  },
  {
   "cell_type": "markdown",
   "id": "5758e127-5ad2-4cfd-84b6-eb19f3393f7a",
   "metadata": {},
   "source": [
    "We are 95% confident that the true mean will be between range(48.21,51.78)"
   ]
  },
  {
   "cell_type": "markdown",
   "id": "a1e14095-4355-4b8e-9222-7f069a304f10",
   "metadata": {},
   "source": [
    "Q8. What is the margin of error in a confidence interval? How does sample size affect the margin of error?\n",
    "Provide an example of a scenario where a larger sample size would result in a smaller margin of error.\n",
    "<br>Ans. Margin of error in confidence interval is the range of values between which a true population parameter is likely to fall. The relationship between margin of error and sample size is as sample size increases, the margin of error decreases.\n",
    "<br>Suppose a professor wants to calculate the 95% confidence interval of height of 100 students with mean height of 165 cm and standard deviation of 1. Then the margin of error would be:\n",
    "<br>critical value*(std/sqrt(100))=1.96*(1/sqrt(100))=0.0196\n",
    "<br>Now let's take sample size as 600\n",
    "<br>1.96*(1/sqrt(600))=0.0032\n",
    "<br>As you can see, when sample size is 100, the margin of error was 0.0196 and when we increase sample size to 600, the margin of error decreased to 0.0032"
   ]
  },
  {
   "cell_type": "markdown",
   "id": "69be30c8-9a10-458c-8a17-658754ddf99e",
   "metadata": {},
   "source": [
    "Q9. Calculate the z-score for a data point with a value of 75, a population mean of 70, and a population\n",
    "standard deviation of 5. Interpret the results."
   ]
  },
  {
   "cell_type": "code",
   "execution_count": 27,
   "id": "469cde3a-9f9b-4165-98b6-e6ad33e44f05",
   "metadata": {},
   "outputs": [
    {
     "name": "stdout",
     "output_type": "stream",
     "text": [
      "The z-score is  1.0\n"
     ]
    }
   ],
   "source": [
    "data_point=75\n",
    "mean=70\n",
    "std=5\n",
    "z_score=(data_point-mean)/std\n",
    "print(\"The z-score is \",z_score)"
   ]
  },
  {
   "cell_type": "markdown",
   "id": "7a7fffea-7d4e-40ab-8280-4841358182d5",
   "metadata": {},
   "source": [
    "Interpretation: A z_score of zero means that the data point is one standard deviation away from the mean"
   ]
  },
  {
   "cell_type": "markdown",
   "id": "bfb03846-dbc3-481e-9eb2-6120aba711d8",
   "metadata": {},
   "source": [
    "Q10. In a study of the effectiveness of a new weight loss drug, a sample of 50 participants lost an average\n",
    "of 6 pounds with a standard deviation of 2.5 pounds. Conduct a hypothesis test to determine if the drug is\n",
    "significantly effective at a 95% confidence level using a t-test."
   ]
  },
  {
   "cell_type": "markdown",
   "id": "0231eca6-7883-4175-a070-bf38242d3f22",
   "metadata": {},
   "source": [
    "Null Hypothesis: The mean weight loss of population is zero\n",
    "<br>Alternate hypothesis: The mean weight loss is greater than zero\n",
    "<br>It is a one tail test\n",
    "<br>If t-stats is greater than t-value, we will reject the null hypothesis"
   ]
  },
  {
   "cell_type": "code",
   "execution_count": 28,
   "id": "32ed2f35-819a-4f59-9aaf-99fec9c75c85",
   "metadata": {},
   "outputs": [
    {
     "name": "stdout",
     "output_type": "stream",
     "text": [
      "t-stats: 16.970562748477143\n",
      "t_value: -1.6765508919142635\n",
      "We reject null hypothesis\n",
      "Conclusion: The drug is found to be significantly effective at 95% confidence interval\n"
     ]
    }
   ],
   "source": [
    "from scipy.stats import t\n",
    "n=50\n",
    "sample_mean=6\n",
    "population_mean=0\n",
    "std=2.5\n",
    "alpha=0.05\n",
    "t_value=t.ppf(alpha,49)\n",
    "t_stats=(sample_mean-population_mean)/(std/np.sqrt(n))\n",
    "print(f\"t-stats: {t_stats}\\nt_value: {t_value}\")\n",
    "if (t_stats>t_value):\n",
    "    print(\"We reject null hypothesis\")\n",
    "    print(\"Conclusion: The drug is found to be significantly effective at 95% confidence interval\")\n",
    "else:\n",
    "    print(\"We fail to reject null hypothesis\")\n",
    "    print(\"Conclusion: The drug is not effective in reducing the weight\")"
   ]
  },
  {
   "cell_type": "markdown",
   "id": "b7a92bec-5959-4b4e-8480-81031d557b39",
   "metadata": {},
   "source": [
    "Q11. In a survey of 500 people, 65% reported being satisfied with their current job. Calculate the 95%\n",
    "confidence interval for the true proportion of people who are satisfied with their job."
   ]
  },
  {
   "cell_type": "markdown",
   "id": "6c1a879b-a047-4359-8a1f-4d474b6062f9",
   "metadata": {},
   "source": [
    "In this we have to calculate confidence interval for proportion.\n",
    "<br>Formula p+-z * sqrt(p(1-p)/n)\n",
    "<br>p=sample proportion=0.65"
   ]
  },
  {
   "cell_type": "code",
   "execution_count": 29,
   "id": "fa46cdd4-d406-4c4f-ba7b-dd2b7d2f0a3a",
   "metadata": {},
   "outputs": [
    {
     "name": "stdout",
     "output_type": "stream",
     "text": [
      "We are 95% confident that the true proportionof people who are\n",
      "satisfied with their jobs lies between (0.6081925393809212,0.6918074606190788)\n"
     ]
    }
   ],
   "source": [
    "from scipy.stats import norm\n",
    "p=0.65\n",
    "n=500\n",
    "z_value=(norm.ppf(alpha/2))\n",
    "c1=p-(z_value*np.sqrt((p*(1-p))/n))\n",
    "c2=p+(z_value*np.sqrt((p*(1-p))/n))\n",
    "print(f\"We are 95% confident that the true proportionof people who are\\nsatisfied with their jobs lies between ({c2},{c1})\")"
   ]
  },
  {
   "cell_type": "markdown",
   "id": "c1775f93-535a-459c-91ef-f4cf8fb82659",
   "metadata": {},
   "source": [
    "Q12. A researcher is testing the effectiveness of two different teaching methods on student performance.\n",
    "Sample A has a mean score of 85 with a standard deviation of 6, while sample B has a mean score of 82\n",
    "with a standard deviation of 5. Conduct a hypothesis test to determine if the two teaching methods have a\n",
    "significant difference in student performance using a t-test with a significance level of 0.01."
   ]
  },
  {
   "cell_type": "markdown",
   "id": "e5bf76b9-40d0-46f8-b305-4f4a2a205941",
   "metadata": {},
   "source": [
    "Null hypothesis: There is no difference in student performance\n",
    "<br>Alternate hypothesis: There is a difference in student's performance"
   ]
  },
  {
   "cell_type": "code",
   "execution_count": 30,
   "id": "388538d4-78f7-4723-8967-22a26b6c08ec",
   "metadata": {},
   "outputs": [
    {
     "name": "stdout",
     "output_type": "stream",
     "text": [
      "T-stats: 2.10386061995483 | Critical-value: 2.663286953809868\n",
      "We fail to reject null hypothesis\n",
      "Conclusion: There is a difference in student's performance\n"
     ]
    }
   ],
   "source": [
    "import scipy.stats as stat\n",
    "n1,n2=30,30 # Since sample size is not given, we assume both the sample sizes to be 30\n",
    "x1,x2=85,82\n",
    "s1,s2=6,5\n",
    "alpha=0.01\n",
    "dof=(n1+n2-2)\n",
    "s_p=np.sqrt((((n1-1)*s1**2)+(n2-1)*s2**2)/(n1+n2-2))\n",
    "t_stats=(x1-x2)/(s_p*np.sqrt((1/n1)+(1/n2)))\n",
    "critical_value=abs(t.ppf(alpha/2,dof))\n",
    "print(f\"T-stats: {t_stats} | Critical-value: {critical_value}\")\n",
    "if (t_stats<(-critical_value) or t_stats>(critical_value)):\n",
    "    print(\"We reject null hypothesis\")\n",
    "    print(\"Conclusion: There is no difference in student's performance\")\n",
    "else:\n",
    "    print(\"We fail to reject null hypothesis\")\n",
    "    print(\"Conclusion: There is a difference in student's performance\")"
   ]
  },
  {
   "cell_type": "markdown",
   "id": "4d7e3c5d-1804-4d5f-8f02-799d34b89db8",
   "metadata": {},
   "source": [
    "Q13. A population has a mean of 60 and a standard deviation of 8. A sample of 50 observations has a mean\n",
    "of 65. Calculate the 90% confidence interval for the true population mean."
   ]
  },
  {
   "cell_type": "code",
   "execution_count": 31,
   "id": "195a4a7c-ad12-4ca8-97ed-2d45e3e0a5d5",
   "metadata": {},
   "outputs": [],
   "source": [
    "from scipy.stats import norm\n",
    "population_mean=60\n",
    "population_std=8\n",
    "sample_size=50\n",
    "sample_mean=65\n",
    "z_value=norm.ppf(1-0.1/2)\n",
    "ci1=sample_mean+(z_value*(population_std/np.sqrt(sample_size)))\n",
    "ci2=sample_mean-(z_value*(population_std/np.sqrt(sample_size)))"
   ]
  },
  {
   "cell_type": "code",
   "execution_count": 32,
   "id": "c2fceee3-b2ae-44d1-b52a-bf70de34c696",
   "metadata": {},
   "outputs": [
    {
     "name": "stdout",
     "output_type": "stream",
     "text": [
      "90% confidence interval: (63.13906055411732, 66.86093944588268)\n"
     ]
    }
   ],
   "source": [
    "print(f\"90% confidence interval: {ci2,ci1}\")"
   ]
  },
  {
   "cell_type": "markdown",
   "id": "8c3e49b7-bf57-446b-8444-bb964ecddd30",
   "metadata": {},
   "source": [
    "Q14. In a study of the effects of caffeine on reaction time, a sample of 30 participants had an average\n",
    "reaction time of 0.25 seconds with a standard deviation of 0.05 seconds. Conduct a hypothesis test to\n",
    "determine if the caffeine has a significant effect on reaction time at a 90% confidence level using a t-test."
   ]
  },
  {
   "cell_type": "markdown",
   "id": "7b542057-bf22-47f4-ab46-8bf56df663d1",
   "metadata": {},
   "source": [
    "Null Hypothesis: No effect of caffeine on reaction time\n",
    "<br>Alternate hypothesis: caffeine has effect on reaction time"
   ]
  },
  {
   "cell_type": "code",
   "execution_count": 33,
   "id": "06dc0443-69f3-4c68-8278-1cdafb21dee9",
   "metadata": {},
   "outputs": [
    {
     "name": "stdout",
     "output_type": "stream",
     "text": [
      "T-stats: 27.386127875258307 | T-value: -1.6991270265334977\n",
      "We reject null hypothesis\n",
      "Conclusion: Caffeine has significant effect on reaction time\n"
     ]
    }
   ],
   "source": [
    "from scipy.stats import t\n",
    "populationMean=0 \n",
    "'''we assume population mean as \n",
    "0 as there is no change in reaction time '''\n",
    "alpha=0.1\n",
    "n=30\n",
    "mean=0.25\n",
    "std=0.05\n",
    "t_stats=(0.25 - 0) / (0.05 / np.sqrt(30)) \n",
    "t_value=t.ppf(alpha/2,29)\n",
    "print(f\"T-stats: {t_stats} | T-value: {t_value}\")\n",
    "if (t_stats>t_value):\n",
    "    print(\"We reject null hypothesis\")\n",
    "    print(\"Conclusion: Caffeine has significant effect on reaction time\")\n",
    "else:\n",
    "    print(\"We fail to reject null hypothesis\")\n",
    "    print(\"Conclusion: The caffeine has no effect on reaction time\")"
   ]
  }
 ],
 "metadata": {
  "kernelspec": {
   "display_name": "Python 3 (ipykernel)",
   "language": "python",
   "name": "python3"
  },
  "language_info": {
   "codemirror_mode": {
    "name": "ipython",
    "version": 3
   },
   "file_extension": ".py",
   "mimetype": "text/x-python",
   "name": "python",
   "nbconvert_exporter": "python",
   "pygments_lexer": "ipython3",
   "version": "3.10.8"
  }
 },
 "nbformat": 4,
 "nbformat_minor": 5
}
