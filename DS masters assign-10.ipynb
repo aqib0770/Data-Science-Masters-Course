{
 "cells": [
  {
   "cell_type": "markdown",
   "id": "22304ea3-e1ac-4087-a531-7ae8d5f9f13a",
   "metadata": {},
   "source": [
    "Q1.What is multithreading in python? Why is it used? Name the module used to handle threads in python."
   ]
  },
  {
   "cell_type": "markdown",
   "id": "628853ae-3e76-4dfc-b3c0-6cca1fe3fe41",
   "metadata": {},
   "source": [
    "Ans) Multithreading is the ability of CPU to provide multiple threads of execution concurrently. In multiple processes takes place in same core. It is used to increase the performance of applications by enabling multiple tasks to be executed simultaneously. 'threading' module is used to handle threads in Python."
   ]
  },
  {
   "cell_type": "markdown",
   "id": "83776215-6d9e-4334-87f2-6c06ac1fa102",
   "metadata": {},
   "source": [
    "Q2.Why threading module used? Write the use of the following functions\n",
    "1.activeCount()\n",
    "2.currentThread()\n",
    "3.enumerate()"
   ]
  },
  {
   "cell_type": "markdown",
   "id": "04c976ec-f768-4d95-b5b4-57d1d6cc2806",
   "metadata": {},
   "source": [
    "Ans) Threading module is used to handle and manage threads in Python."
   ]
  },
  {
   "cell_type": "markdown",
   "id": "644c7613-31b4-4c20-8e46-783687555d6c",
   "metadata": {},
   "source": [
    "activeCount() - This function is used to get the number of active threads in the current thread object. This can be useful for monitoring the status of a multi-threaded program and can be used to make sure that all threads have completed their tasks before the main program exits.\n"
   ]
  },
  {
   "cell_type": "markdown",
   "id": "16773d08-015a-492b-ac4c-67c24c1cd825",
   "metadata": {},
   "source": [
    "currentThread() - This function is used to get a reference to the current thread object. This can be useful for accessing various properties of the current thread, such as its name, ID, or stack trace.\n"
   ]
  },
  {
   "cell_type": "markdown",
   "id": "a415b4a6-7e10-4820-a4d2-6c77738a5917",
   "metadata": {},
   "source": [
    "enumerate() - This function is used to get a list of all thread objects that are currently active. This can be useful for monitoring the status of a multi-threaded program and can be used to make sure that all threads have completed their tasks before the main program exits. The returned list contains thread objects in the order they were started."
   ]
  },
  {
   "cell_type": "markdown",
   "id": "a9fbe04c-b122-45a7-9e6a-0c58643dd1e6",
   "metadata": {},
   "source": [
    "Q3. Explain the following functions:\n",
    "1. run()\n",
    "2. start()\n",
    "3. join()\n",
    "4. isAlive()"
   ]
  },
  {
   "cell_type": "markdown",
   "id": "26f382fe-4dfc-45bc-9fee-daecde7bc779",
   "metadata": {},
   "source": [
    "1. run(): This function is used to start a thread's activity. It calls the target function passed to the constructor of the thread class.\n",
    "2. start(): This function is used to start a thread's activity. It prepares the thread for execution and calls the run() method.\n",
    "3. join(): This function is used to wait for a thread to terminate. It blocks the calling thread until the thread whose join() method is called terminates.\n",
    "4. isAlive(): This function is used to check if a thread is still running or not. It returns a boolean value which is true if the thread is still running and false if the thread has terminated."
   ]
  },
  {
   "cell_type": "markdown",
   "id": "e421d9b6-e7a9-42ed-a833-7ab669094c6f",
   "metadata": {},
   "source": [
    "Q4. Write a python program to create two threads. Thread one must print the list of squares and thread\n",
    "two must print the list Of cubes."
   ]
  },
  {
   "cell_type": "code",
   "execution_count": 62,
   "id": "6ab3ecf1-c671-484d-b6a9-e0e33026bcf5",
   "metadata": {},
   "outputs": [],
   "source": [
    "def squares():\n",
    "    for i in range(1,11):\n",
    "        print(i*i,end=' ')"
   ]
  },
  {
   "cell_type": "code",
   "execution_count": 94,
   "id": "12f3e3dc-3128-42fe-a732-3e3c274a8285",
   "metadata": {},
   "outputs": [],
   "source": [
    "def cubes():\n",
    "    for i in range(1,11):\n",
    "        print(i**3,end=' ')"
   ]
  },
  {
   "cell_type": "code",
   "execution_count": 88,
   "id": "743f1923-df8e-45b5-ac36-ccf2f7cfa3b6",
   "metadata": {},
   "outputs": [],
   "source": [
    "thread1=[threading.Thread(target=squares)]"
   ]
  },
  {
   "cell_type": "code",
   "execution_count": 89,
   "id": "0806c1b0-66cb-4b74-bdf4-ddf2ac08baaa",
   "metadata": {},
   "outputs": [
    {
     "name": "stdout",
     "output_type": "stream",
     "text": [
      "1 4 9 16 25 36 49 64 81 100 "
     ]
    }
   ],
   "source": [
    "for i in thread1:\n",
    "    i.start()\n"
   ]
  },
  {
   "cell_type": "code",
   "execution_count": 95,
   "id": "2f60d243-4af0-46da-b175-aaeb1bb862ec",
   "metadata": {},
   "outputs": [],
   "source": [
    "thread2=[threading.Thread(target=cubes)]"
   ]
  },
  {
   "cell_type": "code",
   "execution_count": 96,
   "id": "447e56e5-5ada-4a96-9c13-1a2d05930ebb",
   "metadata": {},
   "outputs": [
    {
     "name": "stdout",
     "output_type": "stream",
     "text": [
      "1 8 27 64 125 216 343 512 729 1000 "
     ]
    }
   ],
   "source": [
    "for i in thread2:\n",
    "    i.start()"
   ]
  },
  {
   "cell_type": "markdown",
   "id": "a8055891-7314-410e-864e-da9cfecf4c79",
   "metadata": {},
   "source": [
    "Q5. State advantages and disadvantages of multithreading."
   ]
  },
  {
   "cell_type": "markdown",
   "id": "2a2dffc7-c5f4-4fbf-b669-4760f9fa1aba",
   "metadata": {},
   "source": [
    "Advantages of Multithreading in Python: \n",
    "1. Improved performance: Multithreading allows the program to run faster by utilizing the multiple threads to run multiple operations simultaneously.\n",
    "2. Cost effective: By using multiple threads, a program can achieve better performance at a lower cost as compared to using multiple processors.\n",
    "3. Reduced latency: By using multiple threads, the latency of the program can be reduced as the threads can be scheduled for execution in parallel. This can result in improved response time for user requests.\n",
    "4. Improved scalability: By using multiple threads, the program can scale up better as the threads can be scheduled for execution in parallel.\n",
    "\n",
    "Disadvantages of Multithreading in Python:\n",
    "1. Complexity: Multithreading adds complexity to the program as the threads must be managed and synchronized properly.\n",
    "2. Context switching overhead: Context switching between threads can cause a lot of overhead as the processor has to save and restore the state of the threads.\n",
    "3. Deadlocks: If the threads are not synchronized properly, it can lead to a situation where two or more threads are waiting for each other to finish, leading to a deadlock.\n",
    "4. Race conditions: If the threads are not synchronized properly, it can lead to a situation where two or more threads are competing for the same resource, leading to a race condition."
   ]
  },
  {
   "cell_type": "markdown",
   "id": "0b1829e2-5ea1-47b4-80a7-475715f4fad0",
   "metadata": {},
   "source": [
    "Q6. Explain deadlocks and race conditions."
   ]
  },
  {
   "cell_type": "markdown",
   "id": "68713d3e-243a-4077-b7ce-8e9137dddfc9",
   "metadata": {},
   "source": [
    "1. Deadlocks: If the threads are not synchronized properly, it can lead to a situation where two or more threads are waiting for each other to finish, leading to a deadlock.\n",
    "2. Race conditions: If the threads are not synchronized properly, it can lead to a situation where two or more threads are competing for the same resource, leading to a race condition."
   ]
  }
 ],
 "metadata": {
  "kernelspec": {
   "display_name": "Python 3 (ipykernel)",
   "language": "python",
   "name": "python3"
  },
  "language_info": {
   "codemirror_mode": {
    "name": "ipython",
    "version": 3
   },
   "file_extension": ".py",
   "mimetype": "text/x-python",
   "name": "python",
   "nbconvert_exporter": "python",
   "pygments_lexer": "ipython3",
   "version": "3.10.8"
  }
 },
 "nbformat": 4,
 "nbformat_minor": 5
}
