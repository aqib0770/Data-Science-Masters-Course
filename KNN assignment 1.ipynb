{
 "cells": [
  {
   "cell_type": "markdown",
   "id": "118fb600-ad20-4f8f-b26a-81482f2cc020",
   "metadata": {},
   "source": [
    "Q1. What is the KNN algorithm?\n",
    "<br>Ans: KNN is a machine learning algorithm that can be used for both classification and regression problems. It works by finding k nearest points and use majority voting in case of classification and mean or median in case of regression."
   ]
  },
  {
   "cell_type": "markdown",
   "id": "e14d1a75-6858-4e46-80b5-bb6cd47736ab",
   "metadata": {},
   "source": [
    "Q2. How do you choose the value of K in KNN?\n",
    "<br>Ans: It can be choosen using hypermeter tuning."
   ]
  },
  {
   "cell_type": "markdown",
   "id": "96da47ef-59f7-4605-919c-a1348e41c5d1",
   "metadata": {},
   "source": [
    "Q3. What is the difference between KNN classifier and KNN regressor?\n",
    "<br>Ans: KNN classifier is used for classification problems while KNN regressor can be used for regression problem."
   ]
  },
  {
   "cell_type": "markdown",
   "id": "7d38aa78-adcd-4e11-97d6-246b540d0267",
   "metadata": {},
   "source": [
    "Q4. How do you measure the performance of KNN?\n",
    "<br>Ans: The performance can be measured using metrics such as mean squared error or r2 score."
   ]
  },
  {
   "cell_type": "markdown",
   "id": "330081a9-f77a-442b-b3e3-964cd248ed75",
   "metadata": {},
   "source": [
    "Q5. What is the curse of dimensionality in KNN?\n",
    "<br>Ans: The curse of dimensionality is a phenomenon that occurs when the numbers of features in a dataset grows exponentially.\n",
    "<br>In case of KNN, if number of features grows exonentially, then it will be more difficult to find the nearest neighbours as the number of dimensions increases, the distance between any two data points become more similar. This means that two data points that are not similat will be considered as neighbours."
   ]
  },
  {
   "cell_type": "markdown",
   "id": "ba5d6a13-361f-4c12-b815-be83abe87ea8",
   "metadata": {},
   "source": [
    "Q6. How do you handle missing values in KNN?\n",
    "<br>Ans: Handling missing in KNN will depend on specific dataset. Here are two common methods to do so:\n",
    "1. Impute the missing values using mean median or mode.\n",
    "2. Ignore those missing values."
   ]
  },
  {
   "cell_type": "markdown",
   "id": "5439e193-e3ac-46e6-ae30-f97f41316933",
   "metadata": {},
   "source": [
    "Q7. Compare and contrast the performance of the KNN classifier and regressor. Which one is better for\n",
    "which type of problem?\n",
    "<br>Ans: KNN classifier is better suited for classification problems while KNN regressor is better suited for regression tasks."
   ]
  },
  {
   "cell_type": "markdown",
   "id": "5c34edb7-96a2-4d7e-84c1-8d1cf97e90d0",
   "metadata": {},
   "source": [
    "Q8. What are the strengths and weaknesses of the KNN algorithm for classification and regression tasks,\n",
    "and how can these be addressed?\n",
    "#### Strengths\n",
    "- Simple and easy to understand: KNN is an easy algorithm that is easy to implement and understand.\n",
    "- Robust to noise: KNN is relatively robust to noise in the data.\n",
    "- No assumptions about the data: KNN does not make any assumptions about the distribution of the data.\n",
    "- Interpretable: The predictions of KNN can be easy to intrepret.\n",
    "#### Weaknesses\n",
    "- Computationally expensive: KNN can be computationally expensive to train large datasets.\n",
    "- Not as accurate as other algorithms: KNN is not as accurate as other ML algorithms."
   ]
  },
  {
   "cell_type": "markdown",
   "id": "ccc74840-bb80-4bc0-8296-f41147bac978",
   "metadata": {},
   "source": [
    "Q9. What is the difference between Euclidean distance and Manhattan distance in KNN?\n",
    "|Euclidean formula|Distance Formula|\n",
    "|---|---|\n",
    "|**sqrt((x2-x1)^2+(y2-y1)^2)**|**abs(x2-x1)+abs(y2-y1)**|\n",
    "\n",
    "The only difference between these to distance metric is their formula to calculate the distance."
   ]
  },
  {
   "cell_type": "markdown",
   "id": "450a6067-5836-4d22-94bd-5f00870c5017",
   "metadata": {},
   "source": [
    "Q10. What is the role of feature scaling in KNN?\n",
    "<br>Ans: If the features are not scaled properly, then the distance between two data points may be dominated by features with larger the larger values."
   ]
  }
 ],
 "metadata": {
  "kernelspec": {
   "display_name": "Python 3 (ipykernel)",
   "language": "python",
   "name": "python3"
  },
  "language_info": {
   "codemirror_mode": {
    "name": "ipython",
    "version": 3
   },
   "file_extension": ".py",
   "mimetype": "text/x-python",
   "name": "python",
   "nbconvert_exporter": "python",
   "pygments_lexer": "ipython3",
   "version": "3.10.8"
  }
 },
 "nbformat": 4,
 "nbformat_minor": 5
}
